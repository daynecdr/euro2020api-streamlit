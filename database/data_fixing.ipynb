{
 "cells": [
  {
   "cell_type": "markdown",
   "id": "8caac0b3",
   "metadata": {},
   "source": [
    "# Fixing data\n",
    "Here is the process of data cleaning "
   ]
  },
  {
   "cell_type": "code",
   "execution_count": 2,
   "id": "5844a747",
   "metadata": {},
   "outputs": [],
   "source": [
    "import pandas as pd\n",
    "import re"
   ]
  },
  {
   "cell_type": "code",
   "execution_count": 118,
   "id": "16a51375",
   "metadata": {},
   "outputs": [],
   "source": [
    "\n",
    "df = pd.read_csv(\"eurocup_2020_results.csv\")\n",
    "df2 = pd.read_csv('players2021_complete.csv')\n"
   ]
  },
  {
   "cell_type": "code",
   "execution_count": null,
   "id": "3ca6a53f",
   "metadata": {},
   "outputs": [],
   "source": [
    "df.head()"
   ]
  },
  {
   "cell_type": "markdown",
   "id": "c7e2d2d5",
   "metadata": {},
   "source": [
    "# working with df2: individual players"
   ]
  },
  {
   "cell_type": "code",
   "execution_count": null,
   "id": "9b85e3da",
   "metadata": {},
   "outputs": [],
   "source": [
    "#we will delete some unwanted columns with df.drop(columns=['A', 'B'], inplace=True)\n",
    "#df2.drop(columns=['hits','potential'], inplace=True)\n",
    "df2.head()"
   ]
  },
  {
   "cell_type": "code",
   "execution_count": 38,
   "id": "888d95e1",
   "metadata": {},
   "outputs": [
    {
     "name": "stdout",
     "output_type": "stream",
     "text": [
      "<class 'str'>\n",
      "<class 'list'>\n"
     ]
    }
   ],
   "source": [
    "#to do: create a loop to eliminate all nationalities not present in Euro21\n",
    "euroteams=['Austria', 'Belgium', 'Croatia', 'Czech Republic', 'Denmark', 'England', 'Finland', 'France', 'Germany', 'Hungary', 'Italy', 'Netherlands', 'North Macedonia', 'Poland', 'Portugal', 'Russia', 'Scotland', 'Slovakia', 'Spain', 'Sweden', 'Switzerland', 'Turkey', 'Ukraine', 'Wales']\n",
    "eurostr=str(euroteams)\n",
    "print(type(eurostr))\n",
    "print(type(euroteams))\n"
   ]
  },
  {
   "cell_type": "code",
   "execution_count": 39,
   "id": "b3455551",
   "metadata": {},
   "outputs": [
    {
     "data": {
      "text/plain": [
       "(17981, 9)"
      ]
     },
     "execution_count": 39,
     "metadata": {},
     "output_type": "execute_result"
    }
   ],
   "source": [
    "df2.shape"
   ]
  },
  {
   "cell_type": "code",
   "execution_count": 40,
   "id": "6c37569a",
   "metadata": {},
   "outputs": [
    {
     "data": {
      "text/plain": [
       "162"
      ]
     },
     "execution_count": 40,
     "metadata": {},
     "output_type": "execute_result"
    }
   ],
   "source": [
    "unique_nationalities=df2['nationality'].unique()\n",
    "len(unique_nationalities)"
   ]
  },
  {
   "cell_type": "code",
   "execution_count": null,
   "id": "2ff2b486",
   "metadata": {},
   "outputs": [],
   "source": []
  },
  {
   "cell_type": "markdown",
   "id": "996830e2",
   "metadata": {},
   "source": [
    "# working with df1: match stats"
   ]
  },
  {
   "cell_type": "markdown",
   "id": "0b9d3184",
   "metadata": {},
   "source": [
    "We will attempt to just keep the data about goal scoring using different methods"
   ]
  },
  {
   "cell_type": "code",
   "execution_count": null,
   "id": "08a48480",
   "metadata": {},
   "outputs": [],
   "source": []
  },
  {
   "cell_type": "code",
   "execution_count": 129,
   "id": "269b4038",
   "metadata": {},
   "outputs": [
    {
     "data": {
      "text/plain": [
       "'[{\\'event_team\\': \\'away\\', \\'event_time\\': \" 51\\' \", \\'event_type\\': \\'Yellow card\\', \\'action_player_1\\': \\' Sergio Busquets \\'}, {\\'event_team\\': \\'home\\', \\'event_time\\': \" 60\\' \", \\'event_type\\': \\'Goal\\', \\'action_player_1\\': \\' Federico Chiesa \\', \\'action_player_2\\': \\' Ciro Immobile \\'}, {\\'event_team\\': \\'home\\', \\'event_time\\': \" 61\\' \", \\'event_type\\': \\'Substitution\\', \\'action_player_1\\': \\' Domenico Berardi \\', \\'action_player_2\\': \\' Ciro Immobile \\'}, {\\'event_team\\': \\'away\\', \\'event_time\\': \" 62\\' \", \\'event_type\\': \\'Substitution\\', \\'action_player_1\\': \\' Alvaro Morata \\', \\'action_player_2\\': \\' Ferran Torres \\'}, {\\'event_team\\': \\'away\\', \\'event_time\\': \" 70\\' \", \\'event_type\\': \\'Substitution\\', \\'action_player_1\\': \\' Gerard Moreno \\', \\'action_player_2\\': \\' Mikel Oyarzabal \\'}, {\\'event_team\\': \\'away\\', \\'event_time\\': \" 70\\' \", \\'event_type\\': \\'Substitution\\', \\'action_player_1\\': \\' Rodri \\', \\'action_player_2\\': \\' Koke \\'}, {\\'event_team\\': \\'home\\', \\'event_time\\': \" 74\\' \", \\'event_type\\': \\'Substitution\\', \\'action_player_1\\': \\' Matteo Pessina \\', \\'action_player_2\\': \\' Marco Verratti \\'}, {\\'event_team\\': \\'home\\', \\'event_time\\': \" 74\\' \", \\'event_type\\': \\'Substitution\\', \\'action_player_1\\': \\' Rafael Tolói \\', \\'action_player_2\\': \\' Emerson \\'}, {\\'event_team\\': \\'away\\', \\'event_time\\': \" 80\\' \", \\'event_type\\': \\'Goal\\', \\'action_player_1\\': \\' Alvaro Morata \\', \\'action_player_2\\': \\' Daniel Olmo \\'}, {\\'event_team\\': \\'home\\', \\'event_time\\': \" 85\\' \", \\'event_type\\': \\'Substitution\\', \\'action_player_1\\': \\' Manuel Locatelli \\', \\'action_player_2\\': \\' Nicolo Barella \\'}, {\\'event_team\\': \\'away\\', \\'event_time\\': \" 85\\' \", \\'event_type\\': \\'Substitution\\', \\'action_player_1\\': \\' Marcos Llorente \\', \\'action_player_2\\': \\' Cesar Azpilicueta \\'}, {\\'event_team\\': \\'home\\', \\'event_time\\': \" 85\\' \", \\'event_type\\': \\'Substitution\\', \\'action_player_1\\': \\' Andrea Belotti \\', \\'action_player_2\\': \\' Lorenzo Insigne \\'}, {\\'event_team\\': \\'home\\', \\'event_time\\': \" 97\\' \", \\'event_type\\': \\'Yellow card\\', \\'action_player_1\\': \\' Rafael Tolói \\'}, {\\'event_team\\': \\'away\\', \\'event_time\\': \" 105\\' \", \\'event_type\\': \\'Substitution\\', \\'action_player_1\\': \\' Thiago Alcantara \\', \\'action_player_2\\': \\' Sergio Busquets \\'}, {\\'event_team\\': \\'home\\', \\'event_time\\': \" 107\\' \", \\'event_type\\': \\'Substitution\\', \\'action_player_1\\': \\' Federico Bernardeschi \\', \\'action_player_2\\': \\' Federico Chiesa \\'}, {\\'event_team\\': \\'away\\', \\'event_time\\': \" 109\\' \", \\'event_type\\': \\'Substitution\\', \\'action_player_1\\': \\' Pau Torres \\', \\'action_player_2\\': \\' Eric García \\'}, {\\'event_team\\': \\'home\\', \\'event_time\\': \" 118\\' \", \\'event_type\\': \\'Yellow card\\', \\'action_player_1\\': \\' Leonardo Bonucci \\'}, {\\'event_team\\': \\'home\\', \\'event_time\\': False, \\'event_type\\': \\'PK\\', \\'event_result\\': \\'Missed\\', \\'event_player\\': \\' Manuel Locatelli \\'}, {\\'event_team\\': \\'away\\', \\'event_time\\': False, \\'event_type\\': \\'PK\\', \\'event_result\\': \\'Missed\\', \\'event_player\\': \\' Daniel Olmo \\'}, {\\'event_team\\': \\'home\\', \\'event_time\\': False, \\'event_type\\': \\'PK\\', \\'event_result\\': \\'Goal\\', \\'event_player\\': \\' Andrea Belotti \\'}, {\\'event_team\\': \\'away\\', \\'event_time\\': False, \\'event_type\\': \\'PK\\', \\'event_result\\': \\'Goal\\', \\'event_player\\': \\' Gerard Moreno \\'}, {\\'event_team\\': \\'home\\', \\'event_time\\': False, \\'event_type\\': \\'PK\\', \\'event_result\\': \\'Goal\\', \\'event_player\\': \\' Leonardo Bonucci \\'}, {\\'event_team\\': \\'away\\', \\'event_time\\': False, \\'event_type\\': \\'PK\\', \\'event_result\\': \\'Goal\\', \\'event_player\\': \\' Thiago Alcantara \\'}, {\\'event_team\\': \\'home\\', \\'event_time\\': False, \\'event_type\\': \\'PK\\', \\'event_result\\': \\'Goal\\', \\'event_player\\': \\' Federico Bernardeschi \\'}, {\\'event_team\\': \\'away\\', \\'event_time\\': False, \\'event_type\\': \\'PK\\', \\'event_result\\': \\'Missed\\', \\'event_player\\': \\' Alvaro Morata \\'}, {\\'event_team\\': \\'home\\', \\'event_time\\': False, \\'event_type\\': \\'PK\\', \\'event_result\\': \\'Goal\\', \\'event_player\\': \\' Jorginho \\'}]'"
      ]
     },
     "execution_count": 129,
     "metadata": {},
     "output_type": "execute_result"
    }
   ],
   "source": [
    "ev_test=df['events_list']\n",
    "\n",
    "ev_test[2]  #10"
   ]
  },
  {
   "cell_type": "code",
   "execution_count": 130,
   "id": "3b8e0d46",
   "metadata": {
    "scrolled": true
   },
   "outputs": [
    {
     "name": "stdout",
     "output_type": "stream",
     "text": [
      "<class 'list'>\n"
     ]
    }
   ],
   "source": [
    "a=ev_test[2]\n",
    "a=a.split(sep='{')\n",
    "print (type(a))\n",
    "\n",
    "#to do: eliminate all info that isnt a goal or own goal, perhaps change info to say name of team instead of just away and home"
   ]
  },
  {
   "cell_type": "code",
   "execution_count": 131,
   "id": "7d66c381",
   "metadata": {},
   "outputs": [
    {
     "data": {
      "text/plain": [
       "['[',\n",
       " '\\'event_team\\': \\'away\\', \\'event_time\\': \" 51\\' \", \\'event_type\\': \\'Yellow card\\', \\'action_player_1\\': \\' Sergio Busquets \\'}, ',\n",
       " '\\'event_team\\': \\'home\\', \\'event_time\\': \" 60\\' \", \\'event_type\\': \\'Goal\\', \\'action_player_1\\': \\' Federico Chiesa \\', \\'action_player_2\\': \\' Ciro Immobile \\'}, ',\n",
       " '\\'event_team\\': \\'home\\', \\'event_time\\': \" 61\\' \", \\'event_type\\': \\'Substitution\\', \\'action_player_1\\': \\' Domenico Berardi \\', \\'action_player_2\\': \\' Ciro Immobile \\'}, ',\n",
       " '\\'event_team\\': \\'away\\', \\'event_time\\': \" 62\\' \", \\'event_type\\': \\'Substitution\\', \\'action_player_1\\': \\' Alvaro Morata \\', \\'action_player_2\\': \\' Ferran Torres \\'}, ',\n",
       " '\\'event_team\\': \\'away\\', \\'event_time\\': \" 70\\' \", \\'event_type\\': \\'Substitution\\', \\'action_player_1\\': \\' Gerard Moreno \\', \\'action_player_2\\': \\' Mikel Oyarzabal \\'}, ',\n",
       " '\\'event_team\\': \\'away\\', \\'event_time\\': \" 70\\' \", \\'event_type\\': \\'Substitution\\', \\'action_player_1\\': \\' Rodri \\', \\'action_player_2\\': \\' Koke \\'}, ',\n",
       " '\\'event_team\\': \\'home\\', \\'event_time\\': \" 74\\' \", \\'event_type\\': \\'Substitution\\', \\'action_player_1\\': \\' Matteo Pessina \\', \\'action_player_2\\': \\' Marco Verratti \\'}, ',\n",
       " '\\'event_team\\': \\'home\\', \\'event_time\\': \" 74\\' \", \\'event_type\\': \\'Substitution\\', \\'action_player_1\\': \\' Rafael Tolói \\', \\'action_player_2\\': \\' Emerson \\'}, ',\n",
       " '\\'event_team\\': \\'away\\', \\'event_time\\': \" 80\\' \", \\'event_type\\': \\'Goal\\', \\'action_player_1\\': \\' Alvaro Morata \\', \\'action_player_2\\': \\' Daniel Olmo \\'}, ',\n",
       " '\\'event_team\\': \\'home\\', \\'event_time\\': \" 85\\' \", \\'event_type\\': \\'Substitution\\', \\'action_player_1\\': \\' Manuel Locatelli \\', \\'action_player_2\\': \\' Nicolo Barella \\'}, ',\n",
       " '\\'event_team\\': \\'away\\', \\'event_time\\': \" 85\\' \", \\'event_type\\': \\'Substitution\\', \\'action_player_1\\': \\' Marcos Llorente \\', \\'action_player_2\\': \\' Cesar Azpilicueta \\'}, ',\n",
       " '\\'event_team\\': \\'home\\', \\'event_time\\': \" 85\\' \", \\'event_type\\': \\'Substitution\\', \\'action_player_1\\': \\' Andrea Belotti \\', \\'action_player_2\\': \\' Lorenzo Insigne \\'}, ',\n",
       " '\\'event_team\\': \\'home\\', \\'event_time\\': \" 97\\' \", \\'event_type\\': \\'Yellow card\\', \\'action_player_1\\': \\' Rafael Tolói \\'}, ',\n",
       " '\\'event_team\\': \\'away\\', \\'event_time\\': \" 105\\' \", \\'event_type\\': \\'Substitution\\', \\'action_player_1\\': \\' Thiago Alcantara \\', \\'action_player_2\\': \\' Sergio Busquets \\'}, ',\n",
       " '\\'event_team\\': \\'home\\', \\'event_time\\': \" 107\\' \", \\'event_type\\': \\'Substitution\\', \\'action_player_1\\': \\' Federico Bernardeschi \\', \\'action_player_2\\': \\' Federico Chiesa \\'}, ',\n",
       " '\\'event_team\\': \\'away\\', \\'event_time\\': \" 109\\' \", \\'event_type\\': \\'Substitution\\', \\'action_player_1\\': \\' Pau Torres \\', \\'action_player_2\\': \\' Eric García \\'}, ',\n",
       " '\\'event_team\\': \\'home\\', \\'event_time\\': \" 118\\' \", \\'event_type\\': \\'Yellow card\\', \\'action_player_1\\': \\' Leonardo Bonucci \\'}, ',\n",
       " \"'event_team': 'home', 'event_time': False, 'event_type': 'PK', 'event_result': 'Missed', 'event_player': ' Manuel Locatelli '}, \",\n",
       " \"'event_team': 'away', 'event_time': False, 'event_type': 'PK', 'event_result': 'Missed', 'event_player': ' Daniel Olmo '}, \",\n",
       " \"'event_team': 'home', 'event_time': False, 'event_type': 'PK', 'event_result': 'Goal', 'event_player': ' Andrea Belotti '}, \",\n",
       " \"'event_team': 'away', 'event_time': False, 'event_type': 'PK', 'event_result': 'Goal', 'event_player': ' Gerard Moreno '}, \",\n",
       " \"'event_team': 'home', 'event_time': False, 'event_type': 'PK', 'event_result': 'Goal', 'event_player': ' Leonardo Bonucci '}, \",\n",
       " \"'event_team': 'away', 'event_time': False, 'event_type': 'PK', 'event_result': 'Goal', 'event_player': ' Thiago Alcantara '}, \",\n",
       " \"'event_team': 'home', 'event_time': False, 'event_type': 'PK', 'event_result': 'Goal', 'event_player': ' Federico Bernardeschi '}, \",\n",
       " \"'event_team': 'away', 'event_time': False, 'event_type': 'PK', 'event_result': 'Missed', 'event_player': ' Alvaro Morata '}, \",\n",
       " \"'event_team': 'home', 'event_time': False, 'event_type': 'PK', 'event_result': 'Goal', 'event_player': ' Jorginho '}]\"]"
      ]
     },
     "execution_count": 131,
     "metadata": {},
     "output_type": "execute_result"
    }
   ],
   "source": [
    "a"
   ]
  },
  {
   "cell_type": "code",
   "execution_count": 16,
   "id": "e69605ba",
   "metadata": {},
   "outputs": [],
   "source": [
    "# #working as intended\n",
    "# for data in a:\n",
    "#     if 'Goal' in data:\n",
    "#         print (data,'\\n')\n",
    "#     if 'goal' in data:\n",
    "#           print (data,'\\n')"
   ]
  },
  {
   "cell_type": "code",
   "execution_count": 132,
   "id": "1e7e9d57",
   "metadata": {},
   "outputs": [
    {
     "data": {
      "text/plain": [
       "['\\'event_team\\': \\'home\\', \\'event_time\\': \" 60\\' \", \\'event_type\\': \\'Goal\\', \\'action_player_1\\': \\' Federico Chiesa \\', \\'action_player_2\\': \\' Ciro Immobile \\'}, ',\n",
       " '\\'event_team\\': \\'away\\', \\'event_time\\': \" 80\\' \", \\'event_type\\': \\'Goal\\', \\'action_player_1\\': \\' Alvaro Morata \\', \\'action_player_2\\': \\' Daniel Olmo \\'}, ']"
      ]
     },
     "execution_count": 132,
     "metadata": {},
     "output_type": "execute_result"
    }
   ],
   "source": [
    "#[i for i in my_list if '91' not in i and '18' not in i]\n",
    "b=[data for data in a if 'goal' in data.lower() or 'Penalty' in data and 'PK' not in data and 'Disallowed' not in data]\n",
    "c=[data for data in b if 'False' not in data]\n"
   ]
  },
  {
   "cell_type": "code",
   "execution_count": 109,
   "id": "736a6f0e",
   "metadata": {},
   "outputs": [
    {
     "name": "stdout",
     "output_type": "stream",
     "text": [
      "<class 'list'>\n",
      "['home']\n",
      "['77']\n",
      "['Emil Forsberg']\n"
     ]
    }
   ],
   "source": [
    "#x = txt.replace(\"thingtoremove\", \"subs\")\n",
    "#re.sub(r'\\W+', '', your_string)\n",
    "team=[]\n",
    "minute=[]\n",
    "player=[]\n",
    "for data in b:\n",
    "    team.append(re.findall(('away|home'),data))\n",
    "    minute.append(re.search('\\d+',data).group())\n",
    "    if 'Own goal' in data:\n",
    "        player.append(re.search('(?:action_player_1).*?\\w+\\s\\w*',data).group().replace(\"action_player_1': ' \",\"own goal-\"))\n",
    "    else:\n",
    "        player.append(re.search('(?:action_player_1).*?\\w+\\s\\w*',data).group().replace(\"action_player_1': ' \",\"\"))\n",
    "\n",
    "team=[x for [x] in team]\n",
    "print(type(team))\n",
    "print(team)\n",
    "print(minute)\n",
    "print(player)\n",
    "\n",
    "#re.sub(r'[^A-Za-z0-9 ]+', '', s)"
   ]
  },
  {
   "cell_type": "code",
   "execution_count": 110,
   "id": "ed5c455b",
   "metadata": {},
   "outputs": [
    {
     "data": {
      "text/plain": [
       "[('home', 'Emil Forsberg', '77')]"
      ]
     },
     "execution_count": 110,
     "metadata": {},
     "output_type": "execute_result"
    }
   ],
   "source": [
    "final=[(team[i],player[i],minute[i]) for i in range (len(player))]\n",
    "final"
   ]
  },
  {
   "cell_type": "code",
   "execution_count": 111,
   "id": "66124891",
   "metadata": {},
   "outputs": [
    {
     "data": {
      "text/plain": [
       "[['home', 'Emil Forsberg', '77']]"
      ]
     },
     "execution_count": 111,
     "metadata": {},
     "output_type": "execute_result"
    }
   ],
   "source": [
    "final_l=[]\n",
    "for data in final:\n",
    "    \n",
    "    final_l.append(list(data))\n",
    "    \n",
    "final_l"
   ]
  },
  {
   "cell_type": "markdown",
   "id": "8544adbc",
   "metadata": {},
   "source": [
    "### it worked, now we will define a function to apply it to all the rows in that column\n"
   ]
  },
  {
   "cell_type": "code",
   "execution_count": 134,
   "id": "8ecd30b1",
   "metadata": {},
   "outputs": [
    {
     "data": {
      "text/plain": [
       "[['home', 'Federico Chiesa', '60'], ['away', 'Alvaro Morata', '80']]"
      ]
     },
     "execution_count": 134,
     "metadata": {},
     "output_type": "execute_result"
    }
   ],
   "source": [
    "def pichichi(event):\n",
    "    team=[]\n",
    "    minute=[]\n",
    "    player=[]\n",
    "    final=[]\n",
    "    try:\n",
    "        event_=event.split(sep='{')\n",
    "        #print (event_)\n",
    "\n",
    "        event_2=[data for data in event_ if 'goal' in data.lower() or 'Penalty' in data and 'PK' not in data and 'Disallowed' not in data]\n",
    "        event_2=[data for data in event_2 if 'False' not in data]\n",
    "        #print(event_2)\n",
    "\n",
    "        for data in event_2:        \n",
    "            team.append(re.findall(('away|home'),data))\n",
    "\n",
    "            minute.append(re.search('\\d+',data).group())\n",
    "\n",
    "            if 'Own goal' in data:\n",
    "                player.append(re.search('(?:action_player_1).*?\\w+\\s\\w*',data).group().replace(\"action_player_1': ' \",\"own goal-\"))\n",
    "            else:\n",
    "                player.append(re.search('(?:action_player_1).*?\\w+\\s\\w*',data).group().replace(\"action_player_1': ' \",\"\"))\n",
    "\n",
    "        team=[x for [x] in team]   \n",
    "        final=[(team[i],player[i],minute[i]) for i in range (len(player))]\n",
    "        final_l=[]\n",
    "        for data in final:\n",
    "            final_l.append(list(data))\n",
    "\n",
    "        return final_l\n",
    "    except:\n",
    "        return 'error'\n",
    "    \n",
    "\n",
    "#test\n",
    "\n",
    "pichichi(df['events_list'][2])\n",
    "\n",
    "#working on my pc"
   ]
  },
  {
   "cell_type": "code",
   "execution_count": 82,
   "id": "264e663a",
   "metadata": {},
   "outputs": [
    {
     "data": {
      "text/plain": [
       "38    [{'event_team': 'home', 'event_time': \" 4' \", ...\n",
       "22    [{'event_team': 'home', 'event_time': \" 28' \",...\n",
       "4     [{'event_team': 'away', 'event_time': \" 5' \", ...\n",
       "46    [{'event_team': 'away', 'event_time': \" 42' \",...\n",
       "40    [{'event_team': 'away', 'event_time': \" 38' \",...\n",
       "Name: events_list, dtype: object"
      ]
     },
     "execution_count": 82,
     "metadata": {},
     "output_type": "execute_result"
    }
   ],
   "source": [
    "df['events_list'].sample(n=5)"
   ]
  },
  {
   "cell_type": "code",
   "execution_count": 28,
   "id": "26cb790e",
   "metadata": {},
   "outputs": [
    {
     "data": {
      "text/plain": [
       "(51, 20)"
      ]
     },
     "execution_count": 28,
     "metadata": {},
     "output_type": "execute_result"
    }
   ],
   "source": [
    "df.shape"
   ]
  },
  {
   "cell_type": "code",
   "execution_count": 135,
   "id": "14e6ba2d",
   "metadata": {},
   "outputs": [],
   "source": [
    "#df[\"Height\"] = df[\"Height\"].apply(to_m)\n",
    "\n",
    "df['events_list']=df['events_list'].apply(pichichi)"
   ]
  },
  {
   "cell_type": "code",
   "execution_count": 84,
   "id": "8bf2b0e6",
   "metadata": {},
   "outputs": [
    {
     "data": {
      "text/html": [
       "<div>\n",
       "<style scoped>\n",
       "    .dataframe tbody tr th:only-of-type {\n",
       "        vertical-align: middle;\n",
       "    }\n",
       "\n",
       "    .dataframe tbody tr th {\n",
       "        vertical-align: top;\n",
       "    }\n",
       "\n",
       "    .dataframe thead th {\n",
       "        text-align: right;\n",
       "    }\n",
       "</style>\n",
       "<table border=\"1\" class=\"dataframe\">\n",
       "  <thead>\n",
       "    <tr style=\"text-align: right;\">\n",
       "      <th></th>\n",
       "      <th>stage</th>\n",
       "      <th>date</th>\n",
       "      <th>pens</th>\n",
       "      <th>pens_home_score</th>\n",
       "      <th>pens_away_score</th>\n",
       "      <th>team_name_home</th>\n",
       "      <th>team_name_away</th>\n",
       "      <th>team_home_score</th>\n",
       "      <th>team_away_score</th>\n",
       "      <th>possession_home</th>\n",
       "      <th>possession_away</th>\n",
       "      <th>total_shots_home</th>\n",
       "      <th>total_shots_away</th>\n",
       "      <th>shots_on_target_home</th>\n",
       "      <th>shots_on_target_away</th>\n",
       "      <th>duels_won_home</th>\n",
       "      <th>duels_won_away</th>\n",
       "      <th>events_list</th>\n",
       "      <th>lineup_home</th>\n",
       "      <th>lineup_away</th>\n",
       "    </tr>\n",
       "  </thead>\n",
       "  <tbody>\n",
       "    <tr>\n",
       "      <th>20</th>\n",
       "      <td>Group stage: Matchday 3</td>\n",
       "      <td>22.06.2021</td>\n",
       "      <td>False</td>\n",
       "      <td>False</td>\n",
       "      <td>False</td>\n",
       "      <td>Czech Republic</td>\n",
       "      <td>England</td>\n",
       "      <td>0</td>\n",
       "      <td>1</td>\n",
       "      <td>43%</td>\n",
       "      <td>57%</td>\n",
       "      <td>7</td>\n",
       "      <td>5</td>\n",
       "      <td>1</td>\n",
       "      <td>3</td>\n",
       "      <td>47%</td>\n",
       "      <td>53%</td>\n",
       "      <td>[[away, Raheem Sterling, 12]]</td>\n",
       "      <td>[{'Player_Name': 'Schick', 'Player_Number': '1...</td>\n",
       "      <td>[{'Player_Name': 'Kane', 'Player_Number': '9'}...</td>\n",
       "    </tr>\n",
       "    <tr>\n",
       "      <th>9</th>\n",
       "      <td>Round of 16</td>\n",
       "      <td>28.06.2021</td>\n",
       "      <td>True</td>\n",
       "      <td>4</td>\n",
       "      <td>5</td>\n",
       "      <td>France</td>\n",
       "      <td>Switzerland</td>\n",
       "      <td>3</td>\n",
       "      <td>3</td>\n",
       "      <td>55%</td>\n",
       "      <td>45%</td>\n",
       "      <td>26</td>\n",
       "      <td>12</td>\n",
       "      <td>8</td>\n",
       "      <td>5</td>\n",
       "      <td>55%</td>\n",
       "      <td>45%</td>\n",
       "      <td>[[away, Haris Seferovic, 15], [home, Karim Ben...</td>\n",
       "      <td>[{'Player_Name': 'Mbappe', 'Player_Number': '1...</td>\n",
       "      <td>[{'Player_Name': 'Seferovic', 'Player_Number':...</td>\n",
       "    </tr>\n",
       "    <tr>\n",
       "      <th>18</th>\n",
       "      <td>Group stage: Matchday 3</td>\n",
       "      <td>23.06.2021</td>\n",
       "      <td>False</td>\n",
       "      <td>False</td>\n",
       "      <td>False</td>\n",
       "      <td>Slovakia</td>\n",
       "      <td>Spain</td>\n",
       "      <td>0</td>\n",
       "      <td>5</td>\n",
       "      <td>34%</td>\n",
       "      <td>66%</td>\n",
       "      <td>3</td>\n",
       "      <td>19</td>\n",
       "      <td>0</td>\n",
       "      <td>9</td>\n",
       "      <td>44%</td>\n",
       "      <td>56%</td>\n",
       "      <td>[[away, own goal-Martin Dubravka, 30], [away, ...</td>\n",
       "      <td>[{'Player_Name': 'Duda', 'Player_Number': '8'}...</td>\n",
       "      <td>[{'Player_Name': 'Moreno', 'Player_Number': '9...</td>\n",
       "    </tr>\n",
       "  </tbody>\n",
       "</table>\n",
       "</div>"
      ],
      "text/plain": [
       "                        stage          date   pens pens_home_score  \\\n",
       "20   Group stage: Matchday 3    22.06.2021   False           False   \n",
       "9                Round of 16     28.06.2021   True               4   \n",
       "18   Group stage: Matchday 3    23.06.2021   False           False   \n",
       "\n",
       "   pens_away_score    team_name_home team_name_away  team_home_score  \\\n",
       "20           False   Czech Republic        England                 0   \n",
       "9                5           France    Switzerland                 3   \n",
       "18           False         Slovakia          Spain                 0   \n",
       "\n",
       "    team_away_score possession_home possession_away  total_shots_home  \\\n",
       "20                1             43%            57%                  7   \n",
       "9                 3             55%            45%                 26   \n",
       "18                5             34%            66%                  3   \n",
       "\n",
       "    total_shots_away  shots_on_target_home  shots_on_target_away  \\\n",
       "20                 5                     1                     3   \n",
       "9                 12                     8                     5   \n",
       "18                19                     0                     9   \n",
       "\n",
       "   duels_won_home duels_won_away  \\\n",
       "20            47%           53%    \n",
       "9             55%           45%    \n",
       "18            44%           56%    \n",
       "\n",
       "                                          events_list  \\\n",
       "20                      [[away, Raheem Sterling, 12]]   \n",
       "9   [[away, Haris Seferovic, 15], [home, Karim Ben...   \n",
       "18  [[away, own goal-Martin Dubravka, 30], [away, ...   \n",
       "\n",
       "                                          lineup_home  \\\n",
       "20  [{'Player_Name': 'Schick', 'Player_Number': '1...   \n",
       "9   [{'Player_Name': 'Mbappe', 'Player_Number': '1...   \n",
       "18  [{'Player_Name': 'Duda', 'Player_Number': '8'}...   \n",
       "\n",
       "                                          lineup_away  \n",
       "20  [{'Player_Name': 'Kane', 'Player_Number': '9'}...  \n",
       "9   [{'Player_Name': 'Seferovic', 'Player_Number':...  \n",
       "18  [{'Player_Name': 'Moreno', 'Player_Number': '9...  "
      ]
     },
     "execution_count": 84,
     "metadata": {},
     "output_type": "execute_result"
    }
   ],
   "source": [
    "df.sample(n=3)"
   ]
  },
  {
   "cell_type": "code",
   "execution_count": 88,
   "id": "810567a7",
   "metadata": {},
   "outputs": [],
   "source": [
    "pd.options.display.width = 0\n",
    "pd.set_option('display.expand_frame_repr', False)"
   ]
  },
  {
   "cell_type": "code",
   "execution_count": 136,
   "id": "57776bb8",
   "metadata": {
    "scrolled": true
   },
   "outputs": [
    {
     "data": {
      "text/html": [
       "<div>\n",
       "<style scoped>\n",
       "    .dataframe tbody tr th:only-of-type {\n",
       "        vertical-align: middle;\n",
       "    }\n",
       "\n",
       "    .dataframe tbody tr th {\n",
       "        vertical-align: top;\n",
       "    }\n",
       "\n",
       "    .dataframe thead th {\n",
       "        text-align: right;\n",
       "    }\n",
       "</style>\n",
       "<table border=\"1\" class=\"dataframe\">\n",
       "  <thead>\n",
       "    <tr style=\"text-align: right;\">\n",
       "      <th></th>\n",
       "      <th>team_home_score</th>\n",
       "      <th>team_away_score</th>\n",
       "      <th>events_list</th>\n",
       "    </tr>\n",
       "  </thead>\n",
       "  <tbody>\n",
       "    <tr>\n",
       "      <th>0</th>\n",
       "      <td>1</td>\n",
       "      <td>1</td>\n",
       "      <td>[[away, Luke Shaw, 2], [home, Leonardo Bonucci...</td>\n",
       "    </tr>\n",
       "    <tr>\n",
       "      <th>1</th>\n",
       "      <td>2</td>\n",
       "      <td>1</td>\n",
       "      <td>[[away, Mikkel Damsgaard, 30], [home, own goal...</td>\n",
       "    </tr>\n",
       "    <tr>\n",
       "      <th>2</th>\n",
       "      <td>1</td>\n",
       "      <td>1</td>\n",
       "      <td>[[home, Federico Chiesa, 60], [away, Alvaro Mo...</td>\n",
       "    </tr>\n",
       "    <tr>\n",
       "      <th>3</th>\n",
       "      <td>0</td>\n",
       "      <td>4</td>\n",
       "      <td>[[away, Harry Kane, 4], [away, Harry Maguire, ...</td>\n",
       "    </tr>\n",
       "    <tr>\n",
       "      <th>4</th>\n",
       "      <td>1</td>\n",
       "      <td>2</td>\n",
       "      <td>[[away, Thomas Delaney, 5], [away, Kasper Dolb...</td>\n",
       "    </tr>\n",
       "    <tr>\n",
       "      <th>5</th>\n",
       "      <td>1</td>\n",
       "      <td>2</td>\n",
       "      <td>[[away, action_player_1': 'Disallowed goal, 13...</td>\n",
       "    </tr>\n",
       "    <tr>\n",
       "      <th>6</th>\n",
       "      <td>1</td>\n",
       "      <td>1</td>\n",
       "      <td>[[away, own goal-Denis Zakaria, 8], [home, Xhe...</td>\n",
       "    </tr>\n",
       "    <tr>\n",
       "      <th>7</th>\n",
       "      <td>1</td>\n",
       "      <td>2</td>\n",
       "      <td>[[away, Olexandr Zinchenko, 27], [home, Emil F...</td>\n",
       "    </tr>\n",
       "    <tr>\n",
       "      <th>8</th>\n",
       "      <td>2</td>\n",
       "      <td>0</td>\n",
       "      <td>[[home, Raheem Sterling, 75], [home, Harry Kan...</td>\n",
       "    </tr>\n",
       "    <tr>\n",
       "      <th>9</th>\n",
       "      <td>3</td>\n",
       "      <td>3</td>\n",
       "      <td>[[away, Haris Seferovic, 15], [home, Karim Ben...</td>\n",
       "    </tr>\n",
       "    <tr>\n",
       "      <th>10</th>\n",
       "      <td>3</td>\n",
       "      <td>5</td>\n",
       "      <td>[[home, own goal-Pedri , 20], [away, Pablo Sar...</td>\n",
       "    </tr>\n",
       "    <tr>\n",
       "      <th>11</th>\n",
       "      <td>1</td>\n",
       "      <td>0</td>\n",
       "      <td>[[home, Thorgan Hazard, 42]]</td>\n",
       "    </tr>\n",
       "    <tr>\n",
       "      <th>12</th>\n",
       "      <td>0</td>\n",
       "      <td>2</td>\n",
       "      <td>[[away, Tomáš Holeš, 68], [away, Patrik Schick...</td>\n",
       "    </tr>\n",
       "    <tr>\n",
       "      <th>13</th>\n",
       "      <td>2</td>\n",
       "      <td>1</td>\n",
       "      <td>[[away, action_player_1': 'Disallowed goal, 66...</td>\n",
       "    </tr>\n",
       "    <tr>\n",
       "      <th>14</th>\n",
       "      <td>0</td>\n",
       "      <td>4</td>\n",
       "      <td>[[away, Kasper Dolberg, 27], [away, Kasper Dol...</td>\n",
       "    </tr>\n",
       "    <tr>\n",
       "      <th>15</th>\n",
       "      <td>2</td>\n",
       "      <td>2</td>\n",
       "      <td>[[home, Cristiano Ronaldo, 31], [away, Karim B...</td>\n",
       "    </tr>\n",
       "    <tr>\n",
       "      <th>16</th>\n",
       "      <td>2</td>\n",
       "      <td>2</td>\n",
       "      <td>[[away, Adam Szalai, 11], [home, Kai Havertz, ...</td>\n",
       "    </tr>\n",
       "    <tr>\n",
       "      <th>17</th>\n",
       "      <td>3</td>\n",
       "      <td>2</td>\n",
       "      <td>[[home, Emil Forsberg, 2], [home, Emil Forsber...</td>\n",
       "    </tr>\n",
       "    <tr>\n",
       "      <th>18</th>\n",
       "      <td>0</td>\n",
       "      <td>5</td>\n",
       "      <td>[[away, own goal-Martin Dubravka, 30], [away, ...</td>\n",
       "    </tr>\n",
       "    <tr>\n",
       "      <th>19</th>\n",
       "      <td>3</td>\n",
       "      <td>1</td>\n",
       "      <td>[[home, Nikola Vlasic, 17], [away, Callum McGr...</td>\n",
       "    </tr>\n",
       "    <tr>\n",
       "      <th>20</th>\n",
       "      <td>0</td>\n",
       "      <td>1</td>\n",
       "      <td>[[away, Raheem Sterling, 12]]</td>\n",
       "    </tr>\n",
       "    <tr>\n",
       "      <th>21</th>\n",
       "      <td>0</td>\n",
       "      <td>2</td>\n",
       "      <td>[[away, action_player_1': 'Disallowed goal, 66...</td>\n",
       "    </tr>\n",
       "    <tr>\n",
       "      <th>22</th>\n",
       "      <td>1</td>\n",
       "      <td>4</td>\n",
       "      <td>[[away, Mikkel Damsgaard, 38], [away, Yussuf P...</td>\n",
       "    </tr>\n",
       "    <tr>\n",
       "      <th>23</th>\n",
       "      <td>0</td>\n",
       "      <td>1</td>\n",
       "      <td>[[away, Christoph Baumgartner, 21]]</td>\n",
       "    </tr>\n",
       "    <tr>\n",
       "      <th>24</th>\n",
       "      <td>0</td>\n",
       "      <td>3</td>\n",
       "      <td>[[away, Memphis Depay, 24], [away, Georginio W...</td>\n",
       "    </tr>\n",
       "    <tr>\n",
       "      <th>25</th>\n",
       "      <td>1</td>\n",
       "      <td>0</td>\n",
       "      <td>[[home, Matteo Pessina, 39]]</td>\n",
       "    </tr>\n",
       "    <tr>\n",
       "      <th>26</th>\n",
       "      <td>3</td>\n",
       "      <td>1</td>\n",
       "      <td>[[home, Haris Seferovic, 6], [home, Xherdan Sh...</td>\n",
       "    </tr>\n",
       "    <tr>\n",
       "      <th>27</th>\n",
       "      <td>1</td>\n",
       "      <td>1</td>\n",
       "      <td>[[home, Alvaro Morata, 25], [away, Robert Lewa...</td>\n",
       "    </tr>\n",
       "    <tr>\n",
       "      <th>28</th>\n",
       "      <td>2</td>\n",
       "      <td>4</td>\n",
       "      <td>[[home, Cristiano Ronaldo, 15], [away, own goa...</td>\n",
       "    </tr>\n",
       "    <tr>\n",
       "      <th>29</th>\n",
       "      <td>1</td>\n",
       "      <td>1</td>\n",
       "      <td>[[home, Attila Fiola, 47], [away, Antoine Grie...</td>\n",
       "    </tr>\n",
       "    <tr>\n",
       "      <th>30</th>\n",
       "      <td>0</td>\n",
       "      <td>0</td>\n",
       "      <td>[]</td>\n",
       "    </tr>\n",
       "    <tr>\n",
       "      <th>31</th>\n",
       "      <td>1</td>\n",
       "      <td>1</td>\n",
       "      <td>[[away, Patrik Schick, 37], [home, Ivan Perisi...</td>\n",
       "    </tr>\n",
       "    <tr>\n",
       "      <th>32</th>\n",
       "      <td>1</td>\n",
       "      <td>0</td>\n",
       "      <td>[[home, Emil Forsberg, 77]]</td>\n",
       "    </tr>\n",
       "    <tr>\n",
       "      <th>33</th>\n",
       "      <td>2</td>\n",
       "      <td>0</td>\n",
       "      <td>[[home, Memphis Depay, 11], [home, Denzel Dumf...</td>\n",
       "    </tr>\n",
       "    <tr>\n",
       "      <th>34</th>\n",
       "      <td>1</td>\n",
       "      <td>2</td>\n",
       "      <td>[[home, Yussuf Poulsen, 2], [away, Thorgan Haz...</td>\n",
       "    </tr>\n",
       "    <tr>\n",
       "      <th>35</th>\n",
       "      <td>2</td>\n",
       "      <td>1</td>\n",
       "      <td>[[home, Andriy Yarmolenko, 29], [home, Roman Y...</td>\n",
       "    </tr>\n",
       "    <tr>\n",
       "      <th>36</th>\n",
       "      <td>3</td>\n",
       "      <td>0</td>\n",
       "      <td>[[home, action_player_1': 'Disallowed goal, 19...</td>\n",
       "    </tr>\n",
       "    <tr>\n",
       "      <th>37</th>\n",
       "      <td>0</td>\n",
       "      <td>2</td>\n",
       "      <td>[[away, Aaron Ramsey, 42], [away, Connor Rober...</td>\n",
       "    </tr>\n",
       "    <tr>\n",
       "      <th>38</th>\n",
       "      <td>0</td>\n",
       "      <td>1</td>\n",
       "      <td>[[home, action_player_1': 'Disallowed goal, 4]...</td>\n",
       "    </tr>\n",
       "    <tr>\n",
       "      <th>39</th>\n",
       "      <td>1</td>\n",
       "      <td>0</td>\n",
       "      <td>[[home, own goal-Mats Hummels, 20], [home, act...</td>\n",
       "    </tr>\n",
       "    <tr>\n",
       "      <th>40</th>\n",
       "      <td>0</td>\n",
       "      <td>3</td>\n",
       "      <td>[[away, Raphael Guerreiro, 84], [away, Cristia...</td>\n",
       "    </tr>\n",
       "    <tr>\n",
       "      <th>41</th>\n",
       "      <td>0</td>\n",
       "      <td>0</td>\n",
       "      <td>[]</td>\n",
       "    </tr>\n",
       "    <tr>\n",
       "      <th>42</th>\n",
       "      <td>1</td>\n",
       "      <td>2</td>\n",
       "      <td>[[away, own goal-Wojciech Szczesny, 18], [home...</td>\n",
       "    </tr>\n",
       "    <tr>\n",
       "      <th>43</th>\n",
       "      <td>0</td>\n",
       "      <td>2</td>\n",
       "      <td>[[away, Patrik Schick, 42], [away, Patrik Schi...</td>\n",
       "    </tr>\n",
       "    <tr>\n",
       "      <th>44</th>\n",
       "      <td>3</td>\n",
       "      <td>2</td>\n",
       "      <td>[[home, Georginio Wijnaldum, 52], [home, Wout ...</td>\n",
       "    </tr>\n",
       "    <tr>\n",
       "      <th>45</th>\n",
       "      <td>3</td>\n",
       "      <td>1</td>\n",
       "      <td>[[home, Stefan Lainer, 18], [away, Goran Pande...</td>\n",
       "    </tr>\n",
       "    <tr>\n",
       "      <th>46</th>\n",
       "      <td>1</td>\n",
       "      <td>0</td>\n",
       "      <td>[[home, Raheem Sterling, 57]]</td>\n",
       "    </tr>\n",
       "    <tr>\n",
       "      <th>47</th>\n",
       "      <td>3</td>\n",
       "      <td>0</td>\n",
       "      <td>[[home, Romelu Lukaku, 10], [home, Thomas Meun...</td>\n",
       "    </tr>\n",
       "    <tr>\n",
       "      <th>48</th>\n",
       "      <td>0</td>\n",
       "      <td>1</td>\n",
       "      <td>[[away, Joel Pohjanpalo, 60]]</td>\n",
       "    </tr>\n",
       "    <tr>\n",
       "      <th>49</th>\n",
       "      <td>1</td>\n",
       "      <td>1</td>\n",
       "      <td>[[away, Breel Embolo, 49], [home, Kieffer Moor...</td>\n",
       "    </tr>\n",
       "    <tr>\n",
       "      <th>50</th>\n",
       "      <td>0</td>\n",
       "      <td>3</td>\n",
       "      <td>[[away, own goal-Merih Demiral, 53], [away, Ci...</td>\n",
       "    </tr>\n",
       "  </tbody>\n",
       "</table>\n",
       "</div>"
      ],
      "text/plain": [
       "    team_home_score  team_away_score                                        events_list\n",
       "0                 1                1  [[away, Luke Shaw, 2], [home, Leonardo Bonucci...\n",
       "1                 2                1  [[away, Mikkel Damsgaard, 30], [home, own goal...\n",
       "2                 1                1  [[home, Federico Chiesa, 60], [away, Alvaro Mo...\n",
       "3                 0                4  [[away, Harry Kane, 4], [away, Harry Maguire, ...\n",
       "4                 1                2  [[away, Thomas Delaney, 5], [away, Kasper Dolb...\n",
       "5                 1                2  [[away, action_player_1': 'Disallowed goal, 13...\n",
       "6                 1                1  [[away, own goal-Denis Zakaria, 8], [home, Xhe...\n",
       "7                 1                2  [[away, Olexandr Zinchenko, 27], [home, Emil F...\n",
       "8                 2                0  [[home, Raheem Sterling, 75], [home, Harry Kan...\n",
       "9                 3                3  [[away, Haris Seferovic, 15], [home, Karim Ben...\n",
       "10                3                5  [[home, own goal-Pedri , 20], [away, Pablo Sar...\n",
       "11                1                0                       [[home, Thorgan Hazard, 42]]\n",
       "12                0                2  [[away, Tomáš Holeš, 68], [away, Patrik Schick...\n",
       "13                2                1  [[away, action_player_1': 'Disallowed goal, 66...\n",
       "14                0                4  [[away, Kasper Dolberg, 27], [away, Kasper Dol...\n",
       "15                2                2  [[home, Cristiano Ronaldo, 31], [away, Karim B...\n",
       "16                2                2  [[away, Adam Szalai, 11], [home, Kai Havertz, ...\n",
       "17                3                2  [[home, Emil Forsberg, 2], [home, Emil Forsber...\n",
       "18                0                5  [[away, own goal-Martin Dubravka, 30], [away, ...\n",
       "19                3                1  [[home, Nikola Vlasic, 17], [away, Callum McGr...\n",
       "20                0                1                      [[away, Raheem Sterling, 12]]\n",
       "21                0                2  [[away, action_player_1': 'Disallowed goal, 66...\n",
       "22                1                4  [[away, Mikkel Damsgaard, 38], [away, Yussuf P...\n",
       "23                0                1                [[away, Christoph Baumgartner, 21]]\n",
       "24                0                3  [[away, Memphis Depay, 24], [away, Georginio W...\n",
       "25                1                0                       [[home, Matteo Pessina, 39]]\n",
       "26                3                1  [[home, Haris Seferovic, 6], [home, Xherdan Sh...\n",
       "27                1                1  [[home, Alvaro Morata, 25], [away, Robert Lewa...\n",
       "28                2                4  [[home, Cristiano Ronaldo, 15], [away, own goa...\n",
       "29                1                1  [[home, Attila Fiola, 47], [away, Antoine Grie...\n",
       "30                0                0                                                 []\n",
       "31                1                1  [[away, Patrik Schick, 37], [home, Ivan Perisi...\n",
       "32                1                0                        [[home, Emil Forsberg, 77]]\n",
       "33                2                0  [[home, Memphis Depay, 11], [home, Denzel Dumf...\n",
       "34                1                2  [[home, Yussuf Poulsen, 2], [away, Thorgan Haz...\n",
       "35                2                1  [[home, Andriy Yarmolenko, 29], [home, Roman Y...\n",
       "36                3                0  [[home, action_player_1': 'Disallowed goal, 19...\n",
       "37                0                2  [[away, Aaron Ramsey, 42], [away, Connor Rober...\n",
       "38                0                1  [[home, action_player_1': 'Disallowed goal, 4]...\n",
       "39                1                0  [[home, own goal-Mats Hummels, 20], [home, act...\n",
       "40                0                3  [[away, Raphael Guerreiro, 84], [away, Cristia...\n",
       "41                0                0                                                 []\n",
       "42                1                2  [[away, own goal-Wojciech Szczesny, 18], [home...\n",
       "43                0                2  [[away, Patrik Schick, 42], [away, Patrik Schi...\n",
       "44                3                2  [[home, Georginio Wijnaldum, 52], [home, Wout ...\n",
       "45                3                1  [[home, Stefan Lainer, 18], [away, Goran Pande...\n",
       "46                1                0                      [[home, Raheem Sterling, 57]]\n",
       "47                3                0  [[home, Romelu Lukaku, 10], [home, Thomas Meun...\n",
       "48                0                1                      [[away, Joel Pohjanpalo, 60]]\n",
       "49                1                1  [[away, Breel Embolo, 49], [home, Kieffer Moor...\n",
       "50                0                3  [[away, own goal-Merih Demiral, 53], [away, Ci..."
      ]
     },
     "execution_count": 136,
     "metadata": {},
     "output_type": "execute_result"
    }
   ],
   "source": [
    "df[['team_home_score','team_away_score','events_list']]"
   ]
  },
  {
   "cell_type": "markdown",
   "id": "27dc464a",
   "metadata": {},
   "source": [
    "###### after some battling, the function for filtering just the goals made during the match time (excluidng OT penalty shootout) is working as intended"
   ]
  },
  {
   "cell_type": "code",
   "execution_count": null,
   "id": "a782533e",
   "metadata": {},
   "outputs": [],
   "source": []
  }
 ],
 "metadata": {
  "kernelspec": {
   "display_name": "Python 3",
   "language": "python",
   "name": "python3"
  },
  "language_info": {
   "codemirror_mode": {
    "name": "ipython",
    "version": 3
   },
   "file_extension": ".py",
   "mimetype": "text/x-python",
   "name": "python",
   "nbconvert_exporter": "python",
   "pygments_lexer": "ipython3",
   "version": "3.9.5"
  },
  "toc": {
   "base_numbering": 1,
   "nav_menu": {},
   "number_sections": true,
   "sideBar": true,
   "skip_h1_title": false,
   "title_cell": "Table of Contents",
   "title_sidebar": "Contents",
   "toc_cell": false,
   "toc_position": {},
   "toc_section_display": true,
   "toc_window_display": false
  }
 },
 "nbformat": 4,
 "nbformat_minor": 5
}
