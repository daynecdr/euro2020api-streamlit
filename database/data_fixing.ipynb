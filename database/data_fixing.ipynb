{
 "cells": [
  {
   "cell_type": "markdown",
   "id": "8caac0b3",
   "metadata": {},
   "source": [
    "# Fixing data\n",
    "Here is the process of data cleaning "
   ]
  },
  {
   "cell_type": "code",
   "execution_count": 2,
   "id": "5844a747",
   "metadata": {},
   "outputs": [],
   "source": [
    "import pandas as pd\n",
    "import re"
   ]
  },
  {
   "cell_type": "code",
   "execution_count": 3,
   "id": "16a51375",
   "metadata": {},
   "outputs": [],
   "source": [
    "\n",
    "df = pd.read_csv(\"eurocup_2020_results.csv\")\n",
    "df2 = pd.read_csv('players2021_complete.csv')\n"
   ]
  },
  {
   "cell_type": "code",
   "execution_count": 4,
   "id": "3ca6a53f",
   "metadata": {},
   "outputs": [
    {
     "data": {
      "text/html": [
       "<div>\n",
       "<style scoped>\n",
       "    .dataframe tbody tr th:only-of-type {\n",
       "        vertical-align: middle;\n",
       "    }\n",
       "\n",
       "    .dataframe tbody tr th {\n",
       "        vertical-align: top;\n",
       "    }\n",
       "\n",
       "    .dataframe thead th {\n",
       "        text-align: right;\n",
       "    }\n",
       "</style>\n",
       "<table border=\"1\" class=\"dataframe\">\n",
       "  <thead>\n",
       "    <tr style=\"text-align: right;\">\n",
       "      <th></th>\n",
       "      <th>stage</th>\n",
       "      <th>date</th>\n",
       "      <th>pens</th>\n",
       "      <th>pens_home_score</th>\n",
       "      <th>pens_away_score</th>\n",
       "      <th>team_name_home</th>\n",
       "      <th>team_name_away</th>\n",
       "      <th>team_home_score</th>\n",
       "      <th>team_away_score</th>\n",
       "      <th>possession_home</th>\n",
       "      <th>possession_away</th>\n",
       "      <th>total_shots_home</th>\n",
       "      <th>total_shots_away</th>\n",
       "      <th>shots_on_target_home</th>\n",
       "      <th>shots_on_target_away</th>\n",
       "      <th>duels_won_home</th>\n",
       "      <th>duels_won_away</th>\n",
       "      <th>events_list</th>\n",
       "      <th>lineup_home</th>\n",
       "      <th>lineup_away</th>\n",
       "    </tr>\n",
       "  </thead>\n",
       "  <tbody>\n",
       "    <tr>\n",
       "      <th>0</th>\n",
       "      <td>Final</td>\n",
       "      <td>11.07.2021</td>\n",
       "      <td>True</td>\n",
       "      <td>3</td>\n",
       "      <td>2</td>\n",
       "      <td>Italy</td>\n",
       "      <td>England</td>\n",
       "      <td>1</td>\n",
       "      <td>1</td>\n",
       "      <td>66%</td>\n",
       "      <td>34%</td>\n",
       "      <td>19</td>\n",
       "      <td>6</td>\n",
       "      <td>6</td>\n",
       "      <td>2</td>\n",
       "      <td>53%</td>\n",
       "      <td>47%</td>\n",
       "      <td>[{'event_team': 'away', 'event_time': \" 2' \", ...</td>\n",
       "      <td>[{'Player_Name': 'Insigne', 'Player_Number': '...</td>\n",
       "      <td>[{'Player_Name': 'Kane', 'Player_Number': '9'}...</td>\n",
       "    </tr>\n",
       "    <tr>\n",
       "      <th>1</th>\n",
       "      <td>Semi-finals</td>\n",
       "      <td>07.07.2021</td>\n",
       "      <td>False</td>\n",
       "      <td>False</td>\n",
       "      <td>False</td>\n",
       "      <td>England</td>\n",
       "      <td>Denmark</td>\n",
       "      <td>2</td>\n",
       "      <td>1</td>\n",
       "      <td>59%</td>\n",
       "      <td>41%</td>\n",
       "      <td>20</td>\n",
       "      <td>6</td>\n",
       "      <td>10</td>\n",
       "      <td>3</td>\n",
       "      <td>50%</td>\n",
       "      <td>50%</td>\n",
       "      <td>[{'event_team': 'away', 'event_time': \" 30' \",...</td>\n",
       "      <td>[{'Player_Name': 'Kane', 'Player_Number': '9'}...</td>\n",
       "      <td>[{'Player_Name': 'Krogh Damsgaard', 'Player_Nu...</td>\n",
       "    </tr>\n",
       "    <tr>\n",
       "      <th>2</th>\n",
       "      <td>Semi-finals</td>\n",
       "      <td>06.07.2021</td>\n",
       "      <td>True</td>\n",
       "      <td>4</td>\n",
       "      <td>2</td>\n",
       "      <td>Italy</td>\n",
       "      <td>Spain</td>\n",
       "      <td>1</td>\n",
       "      <td>1</td>\n",
       "      <td>29%</td>\n",
       "      <td>71%</td>\n",
       "      <td>7</td>\n",
       "      <td>16</td>\n",
       "      <td>4</td>\n",
       "      <td>5</td>\n",
       "      <td>49%</td>\n",
       "      <td>51%</td>\n",
       "      <td>[{'event_team': 'away', 'event_time': \" 51' \",...</td>\n",
       "      <td>[{'Player_Name': 'Insigne', 'Player_Number': '...</td>\n",
       "      <td>[{'Player_Name': 'Torres', 'Player_Number': '1...</td>\n",
       "    </tr>\n",
       "    <tr>\n",
       "      <th>3</th>\n",
       "      <td>Quarter-finals</td>\n",
       "      <td>03.07.2021</td>\n",
       "      <td>False</td>\n",
       "      <td>False</td>\n",
       "      <td>False</td>\n",
       "      <td>Ukraine</td>\n",
       "      <td>England</td>\n",
       "      <td>0</td>\n",
       "      <td>4</td>\n",
       "      <td>48%</td>\n",
       "      <td>52%</td>\n",
       "      <td>7</td>\n",
       "      <td>10</td>\n",
       "      <td>2</td>\n",
       "      <td>6</td>\n",
       "      <td>42%</td>\n",
       "      <td>59%</td>\n",
       "      <td>[{'event_team': 'away', 'event_time': \" 4' \", ...</td>\n",
       "      <td>[{'Player_Name': 'Yaremchuk', 'Player_Number':...</td>\n",
       "      <td>[{'Player_Name': 'Kane', 'Player_Number': '9'}...</td>\n",
       "    </tr>\n",
       "    <tr>\n",
       "      <th>4</th>\n",
       "      <td>Quarter-finals</td>\n",
       "      <td>03.07.2021</td>\n",
       "      <td>False</td>\n",
       "      <td>False</td>\n",
       "      <td>False</td>\n",
       "      <td>Czech Republic</td>\n",
       "      <td>Denmark</td>\n",
       "      <td>1</td>\n",
       "      <td>2</td>\n",
       "      <td>56%</td>\n",
       "      <td>44%</td>\n",
       "      <td>16</td>\n",
       "      <td>11</td>\n",
       "      <td>5</td>\n",
       "      <td>7</td>\n",
       "      <td>48%</td>\n",
       "      <td>52%</td>\n",
       "      <td>[{'event_team': 'away', 'event_time': \" 5' \", ...</td>\n",
       "      <td>[{'Player_Name': 'Schick', 'Player_Number': '1...</td>\n",
       "      <td>[{'Player_Name': 'Dolberg', 'Player_Number': '...</td>\n",
       "    </tr>\n",
       "  </tbody>\n",
       "</table>\n",
       "</div>"
      ],
      "text/plain": [
       "              stage          date   pens pens_home_score pens_away_score  \\\n",
       "0            Final     11.07.2021   True               3               2   \n",
       "1      Semi-finals    07.07.2021   False           False           False   \n",
       "2      Semi-finals     06.07.2021   True               4               2   \n",
       "3   Quarter-finals    03.07.2021   False           False           False   \n",
       "4   Quarter-finals    03.07.2021   False           False           False   \n",
       "\n",
       "     team_name_home team_name_away  team_home_score  team_away_score  \\\n",
       "0            Italy        England                 1                1   \n",
       "1          England        Denmark                 2                1   \n",
       "2            Italy          Spain                 1                1   \n",
       "3          Ukraine        England                 0                4   \n",
       "4   Czech Republic        Denmark                 1                2   \n",
       "\n",
       "  possession_home possession_away  total_shots_home  total_shots_away  \\\n",
       "0             66%            34%                 19                 6   \n",
       "1             59%            41%                 20                 6   \n",
       "2             29%            71%                  7                16   \n",
       "3             48%            52%                  7                10   \n",
       "4             56%            44%                 16                11   \n",
       "\n",
       "   shots_on_target_home  shots_on_target_away duels_won_home duels_won_away  \\\n",
       "0                     6                     2            53%           47%    \n",
       "1                    10                     3            50%           50%    \n",
       "2                     4                     5            49%           51%    \n",
       "3                     2                     6            42%           59%    \n",
       "4                     5                     7            48%           52%    \n",
       "\n",
       "                                         events_list  \\\n",
       "0  [{'event_team': 'away', 'event_time': \" 2' \", ...   \n",
       "1  [{'event_team': 'away', 'event_time': \" 30' \",...   \n",
       "2  [{'event_team': 'away', 'event_time': \" 51' \",...   \n",
       "3  [{'event_team': 'away', 'event_time': \" 4' \", ...   \n",
       "4  [{'event_team': 'away', 'event_time': \" 5' \", ...   \n",
       "\n",
       "                                         lineup_home  \\\n",
       "0  [{'Player_Name': 'Insigne', 'Player_Number': '...   \n",
       "1  [{'Player_Name': 'Kane', 'Player_Number': '9'}...   \n",
       "2  [{'Player_Name': 'Insigne', 'Player_Number': '...   \n",
       "3  [{'Player_Name': 'Yaremchuk', 'Player_Number':...   \n",
       "4  [{'Player_Name': 'Schick', 'Player_Number': '1...   \n",
       "\n",
       "                                         lineup_away  \n",
       "0  [{'Player_Name': 'Kane', 'Player_Number': '9'}...  \n",
       "1  [{'Player_Name': 'Krogh Damsgaard', 'Player_Nu...  \n",
       "2  [{'Player_Name': 'Torres', 'Player_Number': '1...  \n",
       "3  [{'Player_Name': 'Kane', 'Player_Number': '9'}...  \n",
       "4  [{'Player_Name': 'Dolberg', 'Player_Number': '...  "
      ]
     },
     "execution_count": 4,
     "metadata": {},
     "output_type": "execute_result"
    }
   ],
   "source": [
    "df.head()"
   ]
  },
  {
   "cell_type": "markdown",
   "id": "c7e2d2d5",
   "metadata": {},
   "source": [
    "# working with df2: individual players"
   ]
  },
  {
   "cell_type": "code",
   "execution_count": 5,
   "id": "9b85e3da",
   "metadata": {},
   "outputs": [
    {
     "data": {
      "text/html": [
       "<div>\n",
       "<style scoped>\n",
       "    .dataframe tbody tr th:only-of-type {\n",
       "        vertical-align: middle;\n",
       "    }\n",
       "\n",
       "    .dataframe tbody tr th {\n",
       "        vertical-align: top;\n",
       "    }\n",
       "\n",
       "    .dataframe thead th {\n",
       "        text-align: right;\n",
       "    }\n",
       "</style>\n",
       "<table border=\"1\" class=\"dataframe\">\n",
       "  <thead>\n",
       "    <tr style=\"text-align: right;\">\n",
       "      <th></th>\n",
       "      <th>player_id</th>\n",
       "      <th>name</th>\n",
       "      <th>nationality</th>\n",
       "      <th>position</th>\n",
       "      <th>overall</th>\n",
       "      <th>age</th>\n",
       "      <th>hits</th>\n",
       "      <th>potential</th>\n",
       "      <th>team</th>\n",
       "    </tr>\n",
       "  </thead>\n",
       "  <tbody>\n",
       "    <tr>\n",
       "      <th>0</th>\n",
       "      <td>158023</td>\n",
       "      <td>Lionel Messi</td>\n",
       "      <td>Argentina</td>\n",
       "      <td>ST|CF|RW</td>\n",
       "      <td>94</td>\n",
       "      <td>33</td>\n",
       "      <td>299</td>\n",
       "      <td>94</td>\n",
       "      <td>FC Barcelona</td>\n",
       "    </tr>\n",
       "    <tr>\n",
       "      <th>1</th>\n",
       "      <td>20801</td>\n",
       "      <td>Cristiano Ronaldo</td>\n",
       "      <td>Portugal</td>\n",
       "      <td>ST|LW</td>\n",
       "      <td>93</td>\n",
       "      <td>35</td>\n",
       "      <td>276</td>\n",
       "      <td>93</td>\n",
       "      <td>Juventus</td>\n",
       "    </tr>\n",
       "    <tr>\n",
       "      <th>2</th>\n",
       "      <td>190871</td>\n",
       "      <td>Neymar Jr</td>\n",
       "      <td>Brazil</td>\n",
       "      <td>CAM|LW</td>\n",
       "      <td>92</td>\n",
       "      <td>28</td>\n",
       "      <td>186</td>\n",
       "      <td>92</td>\n",
       "      <td>Paris Saint-Germain</td>\n",
       "    </tr>\n",
       "    <tr>\n",
       "      <th>3</th>\n",
       "      <td>203376</td>\n",
       "      <td>Virgil van Dijk</td>\n",
       "      <td>Netherlands</td>\n",
       "      <td>CB</td>\n",
       "      <td>91</td>\n",
       "      <td>29</td>\n",
       "      <td>127</td>\n",
       "      <td>92</td>\n",
       "      <td>Liverpool</td>\n",
       "    </tr>\n",
       "    <tr>\n",
       "      <th>4</th>\n",
       "      <td>200389</td>\n",
       "      <td>Jan Oblak</td>\n",
       "      <td>Slovenia</td>\n",
       "      <td>GK</td>\n",
       "      <td>91</td>\n",
       "      <td>27</td>\n",
       "      <td>47</td>\n",
       "      <td>93</td>\n",
       "      <td>Atlético Madrid</td>\n",
       "    </tr>\n",
       "  </tbody>\n",
       "</table>\n",
       "</div>"
      ],
      "text/plain": [
       "   player_id               name  nationality  position  overall  age  hits  \\\n",
       "0     158023       Lionel Messi    Argentina  ST|CF|RW       94   33   299   \n",
       "1      20801  Cristiano Ronaldo     Portugal     ST|LW       93   35   276   \n",
       "2     190871          Neymar Jr       Brazil    CAM|LW       92   28   186   \n",
       "3     203376    Virgil van Dijk  Netherlands        CB       91   29   127   \n",
       "4     200389          Jan Oblak     Slovenia        GK       91   27    47   \n",
       "\n",
       "   potential                  team  \n",
       "0         94         FC Barcelona   \n",
       "1         93             Juventus   \n",
       "2         92  Paris Saint-Germain   \n",
       "3         92            Liverpool   \n",
       "4         93      Atlético Madrid   "
      ]
     },
     "execution_count": 5,
     "metadata": {},
     "output_type": "execute_result"
    }
   ],
   "source": [
    "#we will delete some unwanted columns with df.drop(columns=['A', 'B'], inplace=True)\n",
    "#df2.drop(columns=['hits','potential'], inplace=True)\n",
    "df2.head()"
   ]
  },
  {
   "cell_type": "code",
   "execution_count": 32,
   "id": "888d95e1",
   "metadata": {},
   "outputs": [
    {
     "name": "stdout",
     "output_type": "stream",
     "text": [
      "<class 'str'>\n"
     ]
    }
   ],
   "source": [
    "#to do: create a loop to eliminate all nationalities not present in Euro21\n",
    "euroteams='Austria', 'Belgium', 'Croatia', 'Czech Republic', 'Denmark', 'England', 'Finland', 'France', 'Germany', 'Hungary', 'Italy', 'Netherlands', 'North Macedonia', 'Poland', 'Portugal', 'Russia', 'Scotland', 'Slovakia', 'Spain', 'Sweden', 'Switzerland', 'Turkey', 'Ukraine', 'Wales'\n",
    "eurostr=str(euroteams)\n",
    "print(type(eurostr))"
   ]
  },
  {
   "cell_type": "code",
   "execution_count": 8,
   "id": "b3455551",
   "metadata": {},
   "outputs": [
    {
     "data": {
      "text/plain": [
       "(17981, 9)"
      ]
     },
     "execution_count": 8,
     "metadata": {},
     "output_type": "execute_result"
    }
   ],
   "source": [
    "df2.shape"
   ]
  },
  {
   "cell_type": "code",
   "execution_count": 11,
   "id": "6c37569a",
   "metadata": {},
   "outputs": [
    {
     "data": {
      "text/plain": [
       "162"
      ]
     },
     "execution_count": 11,
     "metadata": {},
     "output_type": "execute_result"
    }
   ],
   "source": [
    "unique_nationalities=df2['nationality'].unique()\n",
    "len(unique_nationalities)"
   ]
  },
  {
   "cell_type": "code",
   "execution_count": 36,
   "id": "215712f9",
   "metadata": {},
   "outputs": [
    {
     "ename": "KeyError",
     "evalue": "1",
     "output_type": "error",
     "traceback": [
      "\u001b[0;31m---------------------------------------------------------------------------\u001b[0m",
      "\u001b[0;31mKeyError\u001b[0m                                  Traceback (most recent call last)",
      "\u001b[0;32m~/miniconda3/envs/core/lib/python3.9/site-packages/pandas/core/indexes/base.py\u001b[0m in \u001b[0;36mget_loc\u001b[0;34m(self, key, method, tolerance)\u001b[0m\n\u001b[1;32m   3080\u001b[0m             \u001b[0;32mtry\u001b[0m\u001b[0;34m:\u001b[0m\u001b[0;34m\u001b[0m\u001b[0;34m\u001b[0m\u001b[0m\n\u001b[0;32m-> 3081\u001b[0;31m                 \u001b[0;32mreturn\u001b[0m \u001b[0mself\u001b[0m\u001b[0;34m.\u001b[0m\u001b[0m_engine\u001b[0m\u001b[0;34m.\u001b[0m\u001b[0mget_loc\u001b[0m\u001b[0;34m(\u001b[0m\u001b[0mcasted_key\u001b[0m\u001b[0;34m)\u001b[0m\u001b[0;34m\u001b[0m\u001b[0;34m\u001b[0m\u001b[0m\n\u001b[0m\u001b[1;32m   3082\u001b[0m             \u001b[0;32mexcept\u001b[0m \u001b[0mKeyError\u001b[0m \u001b[0;32mas\u001b[0m \u001b[0merr\u001b[0m\u001b[0;34m:\u001b[0m\u001b[0;34m\u001b[0m\u001b[0;34m\u001b[0m\u001b[0m\n",
      "\u001b[0;32mpandas/_libs/index.pyx\u001b[0m in \u001b[0;36mpandas._libs.index.IndexEngine.get_loc\u001b[0;34m()\u001b[0m\n",
      "\u001b[0;32mpandas/_libs/index.pyx\u001b[0m in \u001b[0;36mpandas._libs.index.IndexEngine.get_loc\u001b[0;34m()\u001b[0m\n",
      "\u001b[0;32mpandas/_libs/hashtable_class_helper.pxi\u001b[0m in \u001b[0;36mpandas._libs.hashtable.PyObjectHashTable.get_item\u001b[0;34m()\u001b[0m\n",
      "\u001b[0;32mpandas/_libs/hashtable_class_helper.pxi\u001b[0m in \u001b[0;36mpandas._libs.hashtable.PyObjectHashTable.get_item\u001b[0;34m()\u001b[0m\n",
      "\u001b[0;31mKeyError\u001b[0m: 1",
      "\nThe above exception was the direct cause of the following exception:\n",
      "\u001b[0;31mKeyError\u001b[0m                                  Traceback (most recent call last)",
      "\u001b[0;32m<ipython-input-36-6a0be45e5b5a>\u001b[0m in \u001b[0;36m<module>\u001b[0;34m\u001b[0m\n\u001b[1;32m      1\u001b[0m \u001b[0;31m#       df[df.Name != 'Alisa']\u001b[0m\u001b[0;34m\u001b[0m\u001b[0;34m\u001b[0m\u001b[0;34m\u001b[0m\u001b[0m\n\u001b[1;32m      2\u001b[0m \u001b[0;31m# The above code takes up all the names except Alisa, thereby dropping the row with name ‘Alisa’. So the resultant dataframe will be\u001b[0m\u001b[0;34m\u001b[0m\u001b[0;34m\u001b[0m\u001b[0;34m\u001b[0m\u001b[0m\n\u001b[0;32m----> 3\u001b[0;31m \u001b[0mdf2\u001b[0m\u001b[0;34m[\u001b[0m\u001b[0;36m1\u001b[0m\u001b[0;34m]\u001b[0m\u001b[0;34m\u001b[0m\u001b[0;34m\u001b[0m\u001b[0m\n\u001b[0m",
      "\u001b[0;32m~/miniconda3/envs/core/lib/python3.9/site-packages/pandas/core/frame.py\u001b[0m in \u001b[0;36m__getitem__\u001b[0;34m(self, key)\u001b[0m\n\u001b[1;32m   3022\u001b[0m             \u001b[0;32mif\u001b[0m \u001b[0mself\u001b[0m\u001b[0;34m.\u001b[0m\u001b[0mcolumns\u001b[0m\u001b[0;34m.\u001b[0m\u001b[0mnlevels\u001b[0m \u001b[0;34m>\u001b[0m \u001b[0;36m1\u001b[0m\u001b[0;34m:\u001b[0m\u001b[0;34m\u001b[0m\u001b[0;34m\u001b[0m\u001b[0m\n\u001b[1;32m   3023\u001b[0m                 \u001b[0;32mreturn\u001b[0m \u001b[0mself\u001b[0m\u001b[0;34m.\u001b[0m\u001b[0m_getitem_multilevel\u001b[0m\u001b[0;34m(\u001b[0m\u001b[0mkey\u001b[0m\u001b[0;34m)\u001b[0m\u001b[0;34m\u001b[0m\u001b[0;34m\u001b[0m\u001b[0m\n\u001b[0;32m-> 3024\u001b[0;31m             \u001b[0mindexer\u001b[0m \u001b[0;34m=\u001b[0m \u001b[0mself\u001b[0m\u001b[0;34m.\u001b[0m\u001b[0mcolumns\u001b[0m\u001b[0;34m.\u001b[0m\u001b[0mget_loc\u001b[0m\u001b[0;34m(\u001b[0m\u001b[0mkey\u001b[0m\u001b[0;34m)\u001b[0m\u001b[0;34m\u001b[0m\u001b[0;34m\u001b[0m\u001b[0m\n\u001b[0m\u001b[1;32m   3025\u001b[0m             \u001b[0;32mif\u001b[0m \u001b[0mis_integer\u001b[0m\u001b[0;34m(\u001b[0m\u001b[0mindexer\u001b[0m\u001b[0;34m)\u001b[0m\u001b[0;34m:\u001b[0m\u001b[0;34m\u001b[0m\u001b[0;34m\u001b[0m\u001b[0m\n\u001b[1;32m   3026\u001b[0m                 \u001b[0mindexer\u001b[0m \u001b[0;34m=\u001b[0m \u001b[0;34m[\u001b[0m\u001b[0mindexer\u001b[0m\u001b[0;34m]\u001b[0m\u001b[0;34m\u001b[0m\u001b[0;34m\u001b[0m\u001b[0m\n",
      "\u001b[0;32m~/miniconda3/envs/core/lib/python3.9/site-packages/pandas/core/indexes/base.py\u001b[0m in \u001b[0;36mget_loc\u001b[0;34m(self, key, method, tolerance)\u001b[0m\n\u001b[1;32m   3081\u001b[0m                 \u001b[0;32mreturn\u001b[0m \u001b[0mself\u001b[0m\u001b[0;34m.\u001b[0m\u001b[0m_engine\u001b[0m\u001b[0;34m.\u001b[0m\u001b[0mget_loc\u001b[0m\u001b[0;34m(\u001b[0m\u001b[0mcasted_key\u001b[0m\u001b[0;34m)\u001b[0m\u001b[0;34m\u001b[0m\u001b[0;34m\u001b[0m\u001b[0m\n\u001b[1;32m   3082\u001b[0m             \u001b[0;32mexcept\u001b[0m \u001b[0mKeyError\u001b[0m \u001b[0;32mas\u001b[0m \u001b[0merr\u001b[0m\u001b[0;34m:\u001b[0m\u001b[0;34m\u001b[0m\u001b[0;34m\u001b[0m\u001b[0m\n\u001b[0;32m-> 3083\u001b[0;31m                 \u001b[0;32mraise\u001b[0m \u001b[0mKeyError\u001b[0m\u001b[0;34m(\u001b[0m\u001b[0mkey\u001b[0m\u001b[0;34m)\u001b[0m \u001b[0;32mfrom\u001b[0m \u001b[0merr\u001b[0m\u001b[0;34m\u001b[0m\u001b[0;34m\u001b[0m\u001b[0m\n\u001b[0m\u001b[1;32m   3084\u001b[0m \u001b[0;34m\u001b[0m\u001b[0m\n\u001b[1;32m   3085\u001b[0m         \u001b[0;32mif\u001b[0m \u001b[0mtolerance\u001b[0m \u001b[0;32mis\u001b[0m \u001b[0;32mnot\u001b[0m \u001b[0;32mNone\u001b[0m\u001b[0;34m:\u001b[0m\u001b[0;34m\u001b[0m\u001b[0;34m\u001b[0m\u001b[0m\n",
      "\u001b[0;31mKeyError\u001b[0m: 1"
     ]
    }
   ],
   "source": [
    "# \tdf[df.Name != 'Alisa']\n",
    "# The above code takes up all the names except Alisa, thereby dropping the row with name ‘Alisa’. So the resultant dataframe will be\n",
    "df2[1]"
   ]
  },
  {
   "cell_type": "code",
   "execution_count": null,
   "id": "2ff2b486",
   "metadata": {},
   "outputs": [],
   "source": []
  },
  {
   "cell_type": "markdown",
   "id": "996830e2",
   "metadata": {},
   "source": [
    "# working with df1: match stats"
   ]
  },
  {
   "cell_type": "markdown",
   "id": "0b9d3184",
   "metadata": {},
   "source": [
    "We will attempt to just keep the data about goal scoring using different methods"
   ]
  },
  {
   "cell_type": "code",
   "execution_count": null,
   "id": "08a48480",
   "metadata": {},
   "outputs": [],
   "source": []
  },
  {
   "cell_type": "code",
   "execution_count": 218,
   "id": "269b4038",
   "metadata": {},
   "outputs": [
    {
     "data": {
      "text/plain": [
       "'[{\\'event_team\\': \\'home\\', \\'event_time\\': \" 2\\' \", \\'event_type\\': \\'Goal\\', \\'action_player_1\\': \\' Emil Forsberg \\', \\'action_player_2\\': \\' Alexander Isak \\'}, {\\'event_team\\': \\'home\\', \\'event_time\\': \" 10\\' \", \\'event_type\\': \\'Yellow card\\', \\'action_player_1\\': \\' Marcus Danielsson \\'}, {\\'event_team\\': \\'away\\', \\'event_time\\': \" 45\\' \", \\'event_type\\': \\'Substitution\\', \\'action_player_1\\': \\' Przemysław Frankowski \\', \\'action_player_2\\': \\' Tymoteusz Puchacz \\'}, {\\'event_team\\': \\'home\\', \\'event_time\\': \" 55\\' \", \\'event_type\\': \\'Substitution\\', \\'action_player_1\\': \\' Dejan Kulusevski \\', \\'action_player_2\\': \\' Robin Quaison \\'}, {\\'event_team\\': \\'home\\', \\'event_time\\': \" 59\\' \", \\'event_type\\': \\'Goal\\', \\'action_player_1\\': \\' Emil Forsberg \\', \\'action_player_2\\': \\' Dejan Kulusevski \\'}, {\\'event_team\\': \\'away\\', \\'event_time\\': \" 61\\' \", \\'event_type\\': \\'Goal\\', \\'action_player_1\\': \\' Robert Lewandowski \\', \\'action_player_2\\': \\' Piotr Zielinski \\'}, {\\'event_team\\': \\'away\\', \\'event_time\\': \" 61\\' \", \\'event_type\\': \\'Substitution\\', \\'action_player_1\\': \\' Jakub Świerczok \\', \\'action_player_2\\': \\' Kamil Jóźwiak \\'}, {\\'event_team\\': \\'home\\', \\'event_time\\': \" 68\\' \", \\'event_type\\': \\'Substitution\\', \\'action_player_1\\': \\' Marcus Berg \\', \\'action_player_2\\': \\' Alexander Isak \\'}, {\\'event_team\\': \\'home\\', \\'event_time\\': \" 68\\' \", \\'event_type\\': \\'Substitution\\', \\'action_player_1\\': \\' Emil Krafth \\', \\'action_player_2\\': \\' Mikael Lustig \\'}, {\\'event_team\\': \\'away\\', \\'event_time\\': \" 73\\' \", \\'event_type\\': \\'Substitution\\', \\'action_player_1\\': \\' Kacper Kozłowski \\', \\'action_player_2\\': \\' Mateusz Klich \\'}, {\\'event_team\\': \\'away\\', \\'event_time\\': \" 74\\' \", \\'event_type\\': \\'Yellow card\\', \\'action_player_1\\': \\' Grzegorz Krychowiak \\'}, {\\'event_team\\': \\'home\\', \\'event_time\\': \" 77\\' \", \\'event_type\\': \\'Substitution\\', \\'action_player_1\\': \\' Viktor Claesson \\', \\'action_player_2\\': \\' Emil Forsberg \\'}, {\\'event_team\\': \\'away\\', \\'event_time\\': \" 78\\' \", \\'event_type\\': \\'Substitution\\', \\'action_player_1\\': \\' Przemysław Płacheta \\', \\'action_player_2\\': \\' Grzegorz Krychowiak \\'}, {\\'event_team\\': \\'away\\', \\'event_time\\': \" 83\\' \", \\'event_type\\': \\'Yellow card\\', \\'action_player_1\\': \\' Kamil Glik \\'}, {\\'event_team\\': \\'away\\', \\'event_time\\': \" 84\\' \", \\'event_type\\': \\'Goal\\', \\'action_player_1\\': \\' Robert Lewandowski \\', \\'action_player_2\\': \\' Przemysław Frankowski \\'}, {\\'event_team\\': \\'home\\', \\'event_time\\': \" 94\\' \", \\'event_type\\': \\'Goal\\', \\'action_player_1\\': \\' Viktor Claesson \\', \\'action_player_2\\': \\' Dejan Kulusevski \\'}]'"
      ]
     },
     "execution_count": 218,
     "metadata": {},
     "output_type": "execute_result"
    }
   ],
   "source": [
    "ev_test=df['events_list']\n",
    "\n",
    "ev_test[17]  #10"
   ]
  },
  {
   "cell_type": "code",
   "execution_count": 219,
   "id": "3b8e0d46",
   "metadata": {
    "scrolled": true
   },
   "outputs": [
    {
     "name": "stdout",
     "output_type": "stream",
     "text": [
      "<class 'list'>\n"
     ]
    }
   ],
   "source": [
    "a=ev_test[10]\n",
    "a=a.split(sep='{')\n",
    "print (type(a))\n",
    "\n",
    "#to do: eliminate all info that isnt a goal or own goal, perhaps change info to say name of team instead of just away and home"
   ]
  },
  {
   "cell_type": "code",
   "execution_count": 220,
   "id": "7d66c381",
   "metadata": {},
   "outputs": [
    {
     "data": {
      "text/plain": [
       "['[',\n",
       " '\\'event_team\\': \\'home\\', \\'event_time\\': \" 20\\' \", \\'event_type\\': \\'Own goal\\', \\'action_player_1\\': \\' Pedri \\', \\'action_player_2\\': \\' Own goal \\'}, ',\n",
       " '\\'event_team\\': \\'away\\', \\'event_time\\': \" 38\\' \", \\'event_type\\': \\'Goal\\', \\'action_player_1\\': \\' Pablo Sarabia \\'}, ',\n",
       " '\\'event_team\\': \\'home\\', \\'event_time\\': \" 45\\' \", \\'event_type\\': \\'Substitution\\', \\'action_player_1\\': \\' Andrej Kramaric \\', \\'action_player_2\\': \\' Bruno Petković \\'}, ',\n",
       " '\\'event_team\\': \\'away\\', \\'event_time\\': \" 57\\' \", \\'event_type\\': \\'Goal\\', \\'action_player_1\\': \\' Cesar Azpilicueta \\', \\'action_player_2\\': \\' Ferran Torres \\'}, ',\n",
       " '\\'event_team\\': \\'home\\', \\'event_time\\': \" 67\\' \", \\'event_type\\': \\'Substitution\\', \\'action_player_1\\': \\' Mislav Oršić \\', \\'action_player_2\\': \\' Ante Rebic \\'}, ',\n",
       " '\\'event_team\\': \\'away\\', \\'event_time\\': \" 71\\' \", \\'event_type\\': \\'Substitution\\', \\'action_player_1\\': \\' Daniel Olmo \\', \\'action_player_2\\': \\' Pablo Sarabia \\'}, ',\n",
       " '\\'event_team\\': \\'away\\', \\'event_time\\': \" 72\\' \", \\'event_type\\': \\'Substitution\\', \\'action_player_1\\': \\' Pau Torres \\', \\'action_player_2\\': \\' Eric García \\'}, ',\n",
       " '\\'event_team\\': \\'home\\', \\'event_time\\': \" 73\\' \", \\'event_type\\': \\'Yellow card\\', \\'action_player_1\\': \\' Marcelo Brozovic \\'}, ',\n",
       " '\\'event_team\\': \\'home\\', \\'event_time\\': \" 74\\' \", \\'event_type\\': \\'Substitution\\', \\'action_player_1\\': \\' Josip Brekalo \\', \\'action_player_2\\': \\' Josip Juranović \\'}, ',\n",
       " '\\'event_team\\': \\'away\\', \\'event_time\\': \" 77\\' \", \\'event_type\\': \\'Goal\\', \\'action_player_1\\': \\' Ferran Torres \\', \\'action_player_2\\': \\' Pau Torres \\'}, ',\n",
       " '\\'event_team\\': \\'away\\', \\'event_time\\': \" 77\\' \", \\'event_type\\': \\'Substitution\\', \\'action_player_1\\': \\' Jordi Alba \\', \\'action_player_2\\': \\' Jose Gaya \\'}, ',\n",
       " '\\'event_team\\': \\'away\\', \\'event_time\\': \" 78\\' \", \\'event_type\\': \\'Substitution\\', \\'action_player_1\\': \\' Fabian Ruiz \\', \\'action_player_2\\': \\' Koke \\'}, ',\n",
       " '\\'event_team\\': \\'home\\', \\'event_time\\': \" 79\\' \", \\'event_type\\': \\'Substitution\\', \\'action_player_1\\': \\' Ante Budimir \\', \\'action_player_2\\': \\' Mateo Kovacic \\'}, ',\n",
       " '\\'event_team\\': \\'home\\', \\'event_time\\': \" 79\\' \", \\'event_type\\': \\'Substitution\\', \\'action_player_1\\': \\' Mario Pasalic \\', \\'action_player_2\\': \\' Nikola Vlasic \\'}, ',\n",
       " '\\'event_team\\': \\'home\\', \\'event_time\\': \" 83\\' \", \\'event_type\\': \\'Yellow card\\', \\'action_player_1\\': \\' Duje Caleta Car \\'}, ',\n",
       " '\\'event_team\\': \\'home\\', \\'event_time\\': \" 85\\' \", \\'event_type\\': \\'Goal\\', \\'action_player_1\\': \\' Mislav Oršić \\'}, ',\n",
       " '\\'event_team\\': \\'away\\', \\'event_time\\': \" 88\\' \", \\'event_type\\': \\'Substitution\\', \\'action_player_1\\': \\' Mikel Oyarzabal \\', \\'action_player_2\\': \\' Ferran Torres \\'}, ',\n",
       " '\\'event_team\\': \\'home\\', \\'event_time\\': \" 92\\' \", \\'event_type\\': \\'Goal\\', \\'action_player_1\\': \\' Mario Pasalic \\', \\'action_player_2\\': \\' Mislav Oršić \\'}, ',\n",
       " '\\'event_team\\': \\'away\\', \\'event_time\\': \" 100\\' \", \\'event_type\\': \\'Goal\\', \\'action_player_1\\': \\' Alvaro Morata \\', \\'action_player_2\\': \\' Daniel Olmo \\'}, ',\n",
       " '\\'event_team\\': \\'away\\', \\'event_time\\': \" 102\\' \", \\'event_type\\': \\'Substitution\\', \\'action_player_1\\': \\' Rodri \\', \\'action_player_2\\': \\' Sergio Busquets \\'}, ',\n",
       " '\\'event_team\\': \\'away\\', \\'event_time\\': \" 103\\' \", \\'event_type\\': \\'Goal\\', \\'action_player_1\\': \\' Mikel Oyarzabal \\', \\'action_player_2\\': \\' Daniel Olmo \\'}, ',\n",
       " '\\'event_team\\': \\'home\\', \\'event_time\\': \" 114\\' \", \\'event_type\\': \\'Substitution\\', \\'action_player_1\\': \\' Luka Ivanušec \\', \\'action_player_2\\': \\' Luka Modric \\'}]']"
      ]
     },
     "execution_count": 220,
     "metadata": {},
     "output_type": "execute_result"
    }
   ],
   "source": [
    "a"
   ]
  },
  {
   "cell_type": "code",
   "execution_count": 221,
   "id": "e69605ba",
   "metadata": {},
   "outputs": [],
   "source": [
    "# #working as intended\n",
    "# for data in a:\n",
    "#     if 'Goal' in data:\n",
    "#         print (data,'\\n')\n",
    "#     if 'goal' in data:\n",
    "#           print (data,'\\n')"
   ]
  },
  {
   "cell_type": "code",
   "execution_count": 222,
   "id": "1e7e9d57",
   "metadata": {},
   "outputs": [
    {
     "data": {
      "text/plain": [
       "['\\'event_team\\': \\'home\\', \\'event_time\\': \" 20\\' \", \\'event_type\\': \\'Own goal\\', \\'action_player_1\\': \\' Pedri \\', \\'action_player_2\\': \\' Own goal \\'}, ',\n",
       " '\\'event_team\\': \\'away\\', \\'event_time\\': \" 38\\' \", \\'event_type\\': \\'Goal\\', \\'action_player_1\\': \\' Pablo Sarabia \\'}, ',\n",
       " '\\'event_team\\': \\'away\\', \\'event_time\\': \" 57\\' \", \\'event_type\\': \\'Goal\\', \\'action_player_1\\': \\' Cesar Azpilicueta \\', \\'action_player_2\\': \\' Ferran Torres \\'}, ',\n",
       " '\\'event_team\\': \\'away\\', \\'event_time\\': \" 77\\' \", \\'event_type\\': \\'Goal\\', \\'action_player_1\\': \\' Ferran Torres \\', \\'action_player_2\\': \\' Pau Torres \\'}, ',\n",
       " '\\'event_team\\': \\'home\\', \\'event_time\\': \" 85\\' \", \\'event_type\\': \\'Goal\\', \\'action_player_1\\': \\' Mislav Oršić \\'}, ',\n",
       " '\\'event_team\\': \\'home\\', \\'event_time\\': \" 92\\' \", \\'event_type\\': \\'Goal\\', \\'action_player_1\\': \\' Mario Pasalic \\', \\'action_player_2\\': \\' Mislav Oršić \\'}, ',\n",
       " '\\'event_team\\': \\'away\\', \\'event_time\\': \" 100\\' \", \\'event_type\\': \\'Goal\\', \\'action_player_1\\': \\' Alvaro Morata \\', \\'action_player_2\\': \\' Daniel Olmo \\'}, ',\n",
       " '\\'event_team\\': \\'away\\', \\'event_time\\': \" 103\\' \", \\'event_type\\': \\'Goal\\', \\'action_player_1\\': \\' Mikel Oyarzabal \\', \\'action_player_2\\': \\' Daniel Olmo \\'}, ']"
      ]
     },
     "execution_count": 222,
     "metadata": {},
     "output_type": "execute_result"
    }
   ],
   "source": [
    "#[i for i in my_list if '91' not in i and '18' not in i]\n",
    "b=[data for data in a if 'goal' in data.lower()]\n",
    "b"
   ]
  },
  {
   "cell_type": "code",
   "execution_count": 223,
   "id": "736a6f0e",
   "metadata": {},
   "outputs": [
    {
     "name": "stdout",
     "output_type": "stream",
     "text": [
      "<class 'list'>\n",
      "['home', 'away', 'away', 'away', 'home', 'home', 'away', 'away']\n",
      "['20', '38', '57', '77', '85', '92', '100', '103']\n",
      "['own goal-Pedri ', 'Pablo Sarabia', 'Cesar Azpilicueta', 'Ferran Torres', 'Mislav Oršić', 'Mario Pasalic', 'Alvaro Morata', 'Mikel Oyarzabal']\n"
     ]
    }
   ],
   "source": [
    "#x = txt.replace(\"thingtoremove\", \"subs\")\n",
    "#re.sub(r'\\W+', '', your_string)\n",
    "team=[]\n",
    "minute=[]\n",
    "player=[]\n",
    "for data in b:\n",
    "    team.append(re.findall(('away|home'),data))\n",
    "    minute.append(re.search('\\d+',data).group())\n",
    "    if 'Own goal' in data:\n",
    "        player.append(re.search('(?:action_player_1).*?\\w+\\s\\w*',data).group().replace(\"action_player_1': ' \",\"own goal-\"))\n",
    "    else:\n",
    "        player.append(re.search('(?:action_player_1).*?\\w+\\s\\w*',data).group().replace(\"action_player_1': ' \",\"\"))\n",
    "\n",
    "team=[x for [x] in team]\n",
    "print(type(team))\n",
    "print(team)\n",
    "print(minute)\n",
    "print(player)\n",
    "\n",
    "#re.sub(r'[^A-Za-z0-9 ]+', '', s)"
   ]
  },
  {
   "cell_type": "code",
   "execution_count": 224,
   "id": "ed5c455b",
   "metadata": {},
   "outputs": [
    {
     "data": {
      "text/plain": [
       "[('home', 'own goal-Pedri ', '20'),\n",
       " ('away', 'Pablo Sarabia', '38'),\n",
       " ('away', 'Cesar Azpilicueta', '57'),\n",
       " ('away', 'Ferran Torres', '77'),\n",
       " ('home', 'Mislav Oršić', '85'),\n",
       " ('home', 'Mario Pasalic', '92'),\n",
       " ('away', 'Alvaro Morata', '100'),\n",
       " ('away', 'Mikel Oyarzabal', '103')]"
      ]
     },
     "execution_count": 224,
     "metadata": {},
     "output_type": "execute_result"
    }
   ],
   "source": [
    "final=[(team[i],player[i],minute[i]) for i in range (len(player))]\n",
    "final"
   ]
  },
  {
   "cell_type": "code",
   "execution_count": 211,
   "id": "66124891",
   "metadata": {},
   "outputs": [
    {
     "data": {
      "text/plain": [
       "[['away', 'Raheem Sterling', '12']]"
      ]
     },
     "execution_count": 211,
     "metadata": {},
     "output_type": "execute_result"
    }
   ],
   "source": [
    "final_l=[]\n",
    "for data in final:\n",
    "    \n",
    "    final_l.append(list(data))\n",
    "    \n",
    "final_l"
   ]
  },
  {
   "cell_type": "markdown",
   "id": "8544adbc",
   "metadata": {},
   "source": [
    "### it worked, now we will define a function to apply it to all the rows in that column\n"
   ]
  },
  {
   "cell_type": "code",
   "execution_count": 227,
   "id": "8ecd30b1",
   "metadata": {},
   "outputs": [
    {
     "name": "stdout",
     "output_type": "stream",
     "text": [
      "[['away', 'Kasper Dolberg', '27'], ['away', 'Kasper Dolberg', '48'], ['away', 'Joakim Mæhle', '88'], ['away', 'Martin Braithwaite', '94']]\n"
     ]
    }
   ],
   "source": [
    "def pichichi(event):\n",
    "    team=[]\n",
    "    minute=[]\n",
    "    player=[]\n",
    "    final=[]\n",
    "    \n",
    "    event_=event.split(sep='{')\n",
    "    #print (event_)\n",
    "    \n",
    "    event_2=[data for data in event_ if 'goal' in data.lower()]\n",
    "    #print(event_2)\n",
    "    \n",
    "    for data in event_2:        \n",
    "        team.append(re.findall(('away|home'),data))\n",
    "        \n",
    "        minute.append(re.search('\\d+',data).group())\n",
    "    \n",
    "        if 'Own goal' in data:\n",
    "            player.append(re.search('(?:action_player_1).*?\\w+\\s\\w*',data).group().replace(\"action_player_1': ' \",\"own goal-\"))\n",
    "        else:\n",
    "            player.append(re.search('(?:action_player_1).*?\\w+\\s\\w*',data).group().replace(\"action_player_1': ' \",\"\"))\n",
    "        \n",
    "    team=[x for [x] in team]   \n",
    "    final=[(team[i],player[i],minute[i]) for i in range (len(player))]\n",
    "    final_l=[]\n",
    "    for data in final:\n",
    "        final_l.append(list(data))\n",
    "    \n",
    "    return print(final_l)\n",
    "\n",
    "pichichi(df['events_list'][14])\n",
    "\n",
    "#working on my pc"
   ]
  },
  {
   "cell_type": "code",
   "execution_count": 230,
   "id": "264e663a",
   "metadata": {},
   "outputs": [
    {
     "data": {
      "text/html": [
       "<div>\n",
       "<style scoped>\n",
       "    .dataframe tbody tr th:only-of-type {\n",
       "        vertical-align: middle;\n",
       "    }\n",
       "\n",
       "    .dataframe tbody tr th {\n",
       "        vertical-align: top;\n",
       "    }\n",
       "\n",
       "    .dataframe thead th {\n",
       "        text-align: right;\n",
       "    }\n",
       "</style>\n",
       "<table border=\"1\" class=\"dataframe\">\n",
       "  <thead>\n",
       "    <tr style=\"text-align: right;\">\n",
       "      <th></th>\n",
       "      <th>stage</th>\n",
       "      <th>date</th>\n",
       "      <th>pens</th>\n",
       "      <th>pens_home_score</th>\n",
       "      <th>pens_away_score</th>\n",
       "      <th>team_name_home</th>\n",
       "      <th>team_name_away</th>\n",
       "      <th>team_home_score</th>\n",
       "      <th>team_away_score</th>\n",
       "      <th>possession_home</th>\n",
       "      <th>possession_away</th>\n",
       "      <th>total_shots_home</th>\n",
       "      <th>total_shots_away</th>\n",
       "      <th>shots_on_target_home</th>\n",
       "      <th>shots_on_target_away</th>\n",
       "      <th>duels_won_home</th>\n",
       "      <th>duels_won_away</th>\n",
       "      <th>events_list</th>\n",
       "      <th>lineup_home</th>\n",
       "      <th>lineup_away</th>\n",
       "    </tr>\n",
       "  </thead>\n",
       "  <tbody>\n",
       "    <tr>\n",
       "      <th>0</th>\n",
       "      <td>Final</td>\n",
       "      <td>11.07.2021</td>\n",
       "      <td>True</td>\n",
       "      <td>3</td>\n",
       "      <td>2</td>\n",
       "      <td>Italy</td>\n",
       "      <td>England</td>\n",
       "      <td>1</td>\n",
       "      <td>1</td>\n",
       "      <td>66%</td>\n",
       "      <td>34%</td>\n",
       "      <td>19</td>\n",
       "      <td>6</td>\n",
       "      <td>6</td>\n",
       "      <td>2</td>\n",
       "      <td>53%</td>\n",
       "      <td>47%</td>\n",
       "      <td>[{'event_team': 'away', 'event_time': \" 2' \", ...</td>\n",
       "      <td>[{'Player_Name': 'Insigne', 'Player_Number': '...</td>\n",
       "      <td>[{'Player_Name': 'Kane', 'Player_Number': '9'}...</td>\n",
       "    </tr>\n",
       "  </tbody>\n",
       "</table>\n",
       "</div>"
      ],
      "text/plain": [
       "     stage        date  pens pens_home_score pens_away_score team_name_home  \\\n",
       "0   Final   11.07.2021  True               3               2         Italy    \n",
       "\n",
       "  team_name_away  team_home_score  team_away_score possession_home  \\\n",
       "0       England                 1                1             66%   \n",
       "\n",
       "  possession_away  total_shots_home  total_shots_away  shots_on_target_home  \\\n",
       "0            34%                 19                 6                     6   \n",
       "\n",
       "   shots_on_target_away duels_won_home duels_won_away  \\\n",
       "0                     2            53%           47%    \n",
       "\n",
       "                                         events_list  \\\n",
       "0  [{'event_team': 'away', 'event_time': \" 2' \", ...   \n",
       "\n",
       "                                         lineup_home  \\\n",
       "0  [{'Player_Name': 'Insigne', 'Player_Number': '...   \n",
       "\n",
       "                                         lineup_away  \n",
       "0  [{'Player_Name': 'Kane', 'Player_Number': '9'}...  "
      ]
     },
     "execution_count": 230,
     "metadata": {},
     "output_type": "execute_result"
    }
   ],
   "source": [
    "df.head(1)"
   ]
  },
  {
   "cell_type": "code",
   "execution_count": 235,
   "id": "26cb790e",
   "metadata": {},
   "outputs": [
    {
     "data": {
      "text/plain": [
       "(51, 20)"
      ]
     },
     "execution_count": 235,
     "metadata": {},
     "output_type": "execute_result"
    }
   ],
   "source": [
    "df.shape"
   ]
  },
  {
   "cell_type": "code",
   "execution_count": 238,
   "id": "14e6ba2d",
   "metadata": {},
   "outputs": [
    {
     "ename": "AttributeError",
     "evalue": "'NoneType' object has no attribute 'group'",
     "output_type": "error",
     "traceback": [
      "\u001b[0;31m---------------------------------------------------------------------------\u001b[0m",
      "\u001b[0;31mAttributeError\u001b[0m                            Traceback (most recent call last)",
      "\u001b[0;32m<ipython-input-238-054b084669cd>\u001b[0m in \u001b[0;36m<module>\u001b[0;34m\u001b[0m\n\u001b[1;32m      1\u001b[0m \u001b[0;32mfor\u001b[0m \u001b[0mi_\u001b[0m \u001b[0;32min\u001b[0m \u001b[0mrange\u001b[0m \u001b[0;34m(\u001b[0m\u001b[0;36m21\u001b[0m\u001b[0;34m)\u001b[0m\u001b[0;34m:\u001b[0m\u001b[0;34m\u001b[0m\u001b[0;34m\u001b[0m\u001b[0m\n\u001b[0;32m----> 2\u001b[0;31m     \u001b[0mdf\u001b[0m\u001b[0;34m=\u001b[0m\u001b[0mdf\u001b[0m\u001b[0;34m[\u001b[0m\u001b[0;34m'events_list'\u001b[0m\u001b[0;34m]\u001b[0m\u001b[0;34m.\u001b[0m\u001b[0mapply\u001b[0m\u001b[0;34m(\u001b[0m\u001b[0mpichichi\u001b[0m\u001b[0;34m(\u001b[0m\u001b[0mdf\u001b[0m\u001b[0;34m[\u001b[0m\u001b[0;34m'events_list'\u001b[0m\u001b[0;34m]\u001b[0m\u001b[0;34m[\u001b[0m\u001b[0mi_\u001b[0m\u001b[0;34m]\u001b[0m\u001b[0;34m)\u001b[0m\u001b[0;34m)\u001b[0m\u001b[0;34m\u001b[0m\u001b[0;34m\u001b[0m\u001b[0m\n\u001b[0m",
      "\u001b[0;32m<ipython-input-227-8e53ddafd8c9>\u001b[0m in \u001b[0;36mpichichi\u001b[0;34m(event)\u001b[0m\n\u001b[1;32m     14\u001b[0m         \u001b[0mteam\u001b[0m\u001b[0;34m.\u001b[0m\u001b[0mappend\u001b[0m\u001b[0;34m(\u001b[0m\u001b[0mre\u001b[0m\u001b[0;34m.\u001b[0m\u001b[0mfindall\u001b[0m\u001b[0;34m(\u001b[0m\u001b[0;34m(\u001b[0m\u001b[0;34m'away|home'\u001b[0m\u001b[0;34m)\u001b[0m\u001b[0;34m,\u001b[0m\u001b[0mdata\u001b[0m\u001b[0;34m)\u001b[0m\u001b[0;34m)\u001b[0m\u001b[0;34m\u001b[0m\u001b[0;34m\u001b[0m\u001b[0m\n\u001b[1;32m     15\u001b[0m \u001b[0;34m\u001b[0m\u001b[0m\n\u001b[0;32m---> 16\u001b[0;31m         \u001b[0mminute\u001b[0m\u001b[0;34m.\u001b[0m\u001b[0mappend\u001b[0m\u001b[0;34m(\u001b[0m\u001b[0mre\u001b[0m\u001b[0;34m.\u001b[0m\u001b[0msearch\u001b[0m\u001b[0;34m(\u001b[0m\u001b[0;34m'\\d+'\u001b[0m\u001b[0;34m,\u001b[0m\u001b[0mdata\u001b[0m\u001b[0;34m)\u001b[0m\u001b[0;34m.\u001b[0m\u001b[0mgroup\u001b[0m\u001b[0;34m(\u001b[0m\u001b[0;34m)\u001b[0m\u001b[0;34m)\u001b[0m\u001b[0;34m\u001b[0m\u001b[0;34m\u001b[0m\u001b[0m\n\u001b[0m\u001b[1;32m     17\u001b[0m \u001b[0;34m\u001b[0m\u001b[0m\n\u001b[1;32m     18\u001b[0m         \u001b[0;32mif\u001b[0m \u001b[0;34m'Own goal'\u001b[0m \u001b[0;32min\u001b[0m \u001b[0mdata\u001b[0m\u001b[0;34m:\u001b[0m\u001b[0;34m\u001b[0m\u001b[0;34m\u001b[0m\u001b[0m\n",
      "\u001b[0;31mAttributeError\u001b[0m: 'NoneType' object has no attribute 'group'"
     ]
    }
   ],
   "source": [
    "\n",
    "for i_ in range (21):\n",
    "    df=df['events_list'].apply(pichichi(df['events_list'][i_]))"
   ]
  },
  {
   "cell_type": "code",
   "execution_count": null,
   "id": "8bf2b0e6",
   "metadata": {},
   "outputs": [],
   "source": []
  }
 ],
 "metadata": {
  "kernelspec": {
   "display_name": "Python 3",
   "language": "python",
   "name": "python3"
  },
  "language_info": {
   "codemirror_mode": {
    "name": "ipython",
    "version": 3
   },
   "file_extension": ".py",
   "mimetype": "text/x-python",
   "name": "python",
   "nbconvert_exporter": "python",
   "pygments_lexer": "ipython3",
   "version": "3.9.5"
  },
  "toc": {
   "base_numbering": 1,
   "nav_menu": {},
   "number_sections": true,
   "sideBar": true,
   "skip_h1_title": false,
   "title_cell": "Table of Contents",
   "title_sidebar": "Contents",
   "toc_cell": false,
   "toc_position": {},
   "toc_section_display": true,
   "toc_window_display": false
  }
 },
 "nbformat": 4,
 "nbformat_minor": 5
}
