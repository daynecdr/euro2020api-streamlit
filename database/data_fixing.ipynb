{
 "cells": [
  {
   "cell_type": "markdown",
   "id": "8caac0b3",
   "metadata": {},
   "source": [
    "# Fixing data\n",
    "Here is the process of data cleaning "
   ]
  },
  {
   "cell_type": "code",
   "execution_count": 53,
   "id": "5844a747",
   "metadata": {},
   "outputs": [],
   "source": [
    "import pandas as pd\n",
    "import re"
   ]
  },
  {
   "cell_type": "code",
   "execution_count": 51,
   "id": "16a51375",
   "metadata": {},
   "outputs": [],
   "source": [
    "\n",
    "df = pd.read_csv(\"eurocup_2020_results.csv\")\n",
    "df2 = pd.read_csv('players2021_complete.csv')\n"
   ]
  },
  {
   "cell_type": "code",
   "execution_count": 52,
   "id": "3ca6a53f",
   "metadata": {},
   "outputs": [
    {
     "data": {
      "text/html": [
       "<div>\n",
       "<style scoped>\n",
       "    .dataframe tbody tr th:only-of-type {\n",
       "        vertical-align: middle;\n",
       "    }\n",
       "\n",
       "    .dataframe tbody tr th {\n",
       "        vertical-align: top;\n",
       "    }\n",
       "\n",
       "    .dataframe thead th {\n",
       "        text-align: right;\n",
       "    }\n",
       "</style>\n",
       "<table border=\"1\" class=\"dataframe\">\n",
       "  <thead>\n",
       "    <tr style=\"text-align: right;\">\n",
       "      <th></th>\n",
       "      <th>player_id</th>\n",
       "      <th>name</th>\n",
       "      <th>nationality</th>\n",
       "      <th>position</th>\n",
       "      <th>overall</th>\n",
       "      <th>age</th>\n",
       "      <th>hits</th>\n",
       "      <th>potential</th>\n",
       "      <th>team</th>\n",
       "    </tr>\n",
       "  </thead>\n",
       "  <tbody>\n",
       "    <tr>\n",
       "      <th>0</th>\n",
       "      <td>158023</td>\n",
       "      <td>Lionel Messi</td>\n",
       "      <td>Argentina</td>\n",
       "      <td>ST|CF|RW</td>\n",
       "      <td>94</td>\n",
       "      <td>33</td>\n",
       "      <td>299</td>\n",
       "      <td>94</td>\n",
       "      <td>FC Barcelona</td>\n",
       "    </tr>\n",
       "    <tr>\n",
       "      <th>1</th>\n",
       "      <td>20801</td>\n",
       "      <td>Cristiano Ronaldo</td>\n",
       "      <td>Portugal</td>\n",
       "      <td>ST|LW</td>\n",
       "      <td>93</td>\n",
       "      <td>35</td>\n",
       "      <td>276</td>\n",
       "      <td>93</td>\n",
       "      <td>Juventus</td>\n",
       "    </tr>\n",
       "    <tr>\n",
       "      <th>2</th>\n",
       "      <td>190871</td>\n",
       "      <td>Neymar Jr</td>\n",
       "      <td>Brazil</td>\n",
       "      <td>CAM|LW</td>\n",
       "      <td>92</td>\n",
       "      <td>28</td>\n",
       "      <td>186</td>\n",
       "      <td>92</td>\n",
       "      <td>Paris Saint-Germain</td>\n",
       "    </tr>\n",
       "    <tr>\n",
       "      <th>3</th>\n",
       "      <td>203376</td>\n",
       "      <td>Virgil van Dijk</td>\n",
       "      <td>Netherlands</td>\n",
       "      <td>CB</td>\n",
       "      <td>91</td>\n",
       "      <td>29</td>\n",
       "      <td>127</td>\n",
       "      <td>92</td>\n",
       "      <td>Liverpool</td>\n",
       "    </tr>\n",
       "    <tr>\n",
       "      <th>4</th>\n",
       "      <td>200389</td>\n",
       "      <td>Jan Oblak</td>\n",
       "      <td>Slovenia</td>\n",
       "      <td>GK</td>\n",
       "      <td>91</td>\n",
       "      <td>27</td>\n",
       "      <td>47</td>\n",
       "      <td>93</td>\n",
       "      <td>Atlético Madrid</td>\n",
       "    </tr>\n",
       "  </tbody>\n",
       "</table>\n",
       "</div>"
      ],
      "text/plain": [
       "   player_id               name  nationality  position  overall  age  hits  \\\n",
       "0     158023       Lionel Messi    Argentina  ST|CF|RW       94   33   299   \n",
       "1      20801  Cristiano Ronaldo     Portugal     ST|LW       93   35   276   \n",
       "2     190871          Neymar Jr       Brazil    CAM|LW       92   28   186   \n",
       "3     203376    Virgil van Dijk  Netherlands        CB       91   29   127   \n",
       "4     200389          Jan Oblak     Slovenia        GK       91   27    47   \n",
       "\n",
       "   potential                  team  \n",
       "0         94         FC Barcelona   \n",
       "1         93             Juventus   \n",
       "2         92  Paris Saint-Germain   \n",
       "3         92            Liverpool   \n",
       "4         93      Atlético Madrid   "
      ]
     },
     "execution_count": 52,
     "metadata": {},
     "output_type": "execute_result"
    }
   ],
   "source": [
    "df2.head()"
   ]
  },
  {
   "cell_type": "markdown",
   "id": "c7e2d2d5",
   "metadata": {},
   "source": [
    "# working with df2: individual players"
   ]
  },
  {
   "cell_type": "code",
   "execution_count": 49,
   "id": "9b85e3da",
   "metadata": {},
   "outputs": [
    {
     "data": {
      "text/html": [
       "<div>\n",
       "<style scoped>\n",
       "    .dataframe tbody tr th:only-of-type {\n",
       "        vertical-align: middle;\n",
       "    }\n",
       "\n",
       "    .dataframe tbody tr th {\n",
       "        vertical-align: top;\n",
       "    }\n",
       "\n",
       "    .dataframe thead th {\n",
       "        text-align: right;\n",
       "    }\n",
       "</style>\n",
       "<table border=\"1\" class=\"dataframe\">\n",
       "  <thead>\n",
       "    <tr style=\"text-align: right;\">\n",
       "      <th></th>\n",
       "      <th>player_id</th>\n",
       "      <th>name</th>\n",
       "      <th>nationality</th>\n",
       "      <th>position</th>\n",
       "      <th>overall</th>\n",
       "      <th>age</th>\n",
       "      <th>team</th>\n",
       "    </tr>\n",
       "  </thead>\n",
       "  <tbody>\n",
       "    <tr>\n",
       "      <th>0</th>\n",
       "      <td>158023</td>\n",
       "      <td>Lionel Messi</td>\n",
       "      <td>Argentina</td>\n",
       "      <td>ST|CF|RW</td>\n",
       "      <td>94</td>\n",
       "      <td>33</td>\n",
       "      <td>FC Barcelona</td>\n",
       "    </tr>\n",
       "    <tr>\n",
       "      <th>1</th>\n",
       "      <td>20801</td>\n",
       "      <td>Cristiano Ronaldo</td>\n",
       "      <td>Portugal</td>\n",
       "      <td>ST|LW</td>\n",
       "      <td>93</td>\n",
       "      <td>35</td>\n",
       "      <td>Juventus</td>\n",
       "    </tr>\n",
       "    <tr>\n",
       "      <th>2</th>\n",
       "      <td>190871</td>\n",
       "      <td>Neymar Jr</td>\n",
       "      <td>Brazil</td>\n",
       "      <td>CAM|LW</td>\n",
       "      <td>92</td>\n",
       "      <td>28</td>\n",
       "      <td>Paris Saint-Germain</td>\n",
       "    </tr>\n",
       "    <tr>\n",
       "      <th>3</th>\n",
       "      <td>203376</td>\n",
       "      <td>Virgil van Dijk</td>\n",
       "      <td>Netherlands</td>\n",
       "      <td>CB</td>\n",
       "      <td>91</td>\n",
       "      <td>29</td>\n",
       "      <td>Liverpool</td>\n",
       "    </tr>\n",
       "    <tr>\n",
       "      <th>4</th>\n",
       "      <td>200389</td>\n",
       "      <td>Jan Oblak</td>\n",
       "      <td>Slovenia</td>\n",
       "      <td>GK</td>\n",
       "      <td>91</td>\n",
       "      <td>27</td>\n",
       "      <td>Atlético Madrid</td>\n",
       "    </tr>\n",
       "  </tbody>\n",
       "</table>\n",
       "</div>"
      ],
      "text/plain": [
       "   player_id               name  nationality  position  overall  age  \\\n",
       "0     158023       Lionel Messi    Argentina  ST|CF|RW       94   33   \n",
       "1      20801  Cristiano Ronaldo     Portugal     ST|LW       93   35   \n",
       "2     190871          Neymar Jr       Brazil    CAM|LW       92   28   \n",
       "3     203376    Virgil van Dijk  Netherlands        CB       91   29   \n",
       "4     200389          Jan Oblak     Slovenia        GK       91   27   \n",
       "\n",
       "                   team  \n",
       "0         FC Barcelona   \n",
       "1             Juventus   \n",
       "2  Paris Saint-Germain   \n",
       "3            Liverpool   \n",
       "4      Atlético Madrid   "
      ]
     },
     "execution_count": 49,
     "metadata": {},
     "output_type": "execute_result"
    }
   ],
   "source": [
    "#we will delete some unwanted columns with df.drop(columns=['A', 'B'], inplace=True)\n",
    "#df2.drop(columns=['hits','potential'], inplace=True)\n",
    "df2.head()"
   ]
  },
  {
   "cell_type": "code",
   "execution_count": null,
   "id": "888d95e1",
   "metadata": {},
   "outputs": [],
   "source": [
    "#to do: create a loop to eliminate all nationalities not present in Euro21"
   ]
  },
  {
   "cell_type": "code",
   "execution_count": null,
   "id": "b3455551",
   "metadata": {},
   "outputs": [],
   "source": []
  },
  {
   "cell_type": "markdown",
   "id": "996830e2",
   "metadata": {},
   "source": [
    "# working with df1: match stats"
   ]
  },
  {
   "cell_type": "markdown",
   "id": "0b9d3184",
   "metadata": {},
   "source": [
    "We will attempt to jsut keep the data about goal scoring using regex"
   ]
  },
  {
   "cell_type": "code",
   "execution_count": null,
   "id": "08a48480",
   "metadata": {},
   "outputs": [],
   "source": []
  },
  {
   "cell_type": "code",
   "execution_count": 160,
   "id": "269b4038",
   "metadata": {},
   "outputs": [
    {
     "data": {
      "text/plain": [
       "'[{\\'event_team\\': \\'away\\', \\'event_time\\': \" 27\\' \", \\'event_type\\': \\'Goal\\', \\'action_player_1\\': \\' Olexandr Zinchenko \\', \\'action_player_2\\': \\' Andriy Yarmolenko \\'}, {\\'event_team\\': \\'home\\', \\'event_time\\': \" 43\\' \", \\'event_type\\': \\'Goal\\', \\'action_player_1\\': \\' Emil Forsberg \\', \\'action_player_2\\': \\' Alexander Isak \\'}, {\\'event_team\\': \\'away\\', \\'event_time\\': \" 61\\' \", \\'event_type\\': \\'Substitution\\', \\'action_player_1\\': \\' Ruslan Malinovskyi \\', \\'action_player_2\\': \\' Mykola Shaparenko \\'}, {\\'event_team\\': \\'home\\', \\'event_time\\': \" 69\\' \", \\'event_type\\': \\'Yellow card\\', \\'action_player_1\\': \\' Dejan Kulusevski \\'}, {\\'event_team\\': \\'away\\', \\'event_time\\': \" 79\\' \", \\'event_type\\': \\'Yellow card\\', \\'action_player_1\\': \\' Andriy Yarmolenko \\'}, {\\'event_team\\': \\'home\\', \\'event_time\\': \" 83\\' \", \\'event_type\\': \\'Substitution\\', \\'action_player_1\\': \\' Pierre Bengtsson \\', \\'action_player_2\\': \\' Ludwig Augustinsson \\'}, {\\'event_team\\': \\'home\\', \\'event_time\\': \" 83\\' \", \\'event_type\\': \\'Substitution\\', \\'action_player_1\\': \\' Emil Krafth \\', \\'action_player_2\\': \\' Mikael Lustig \\'}, {\\'event_team\\': \\'home\\', \\'event_time\\': \" 85\\' \", \\'event_type\\': \\'Yellow card\\', \\'action_player_1\\': \\' Emil Forsberg \\'}, {\\'event_team\\': \\'away\\', \\'event_time\\': \" 90\\' \", \\'event_type\\': \\'Substitution\\', \\'action_player_1\\': \\' Artem Besedin \\', \\'action_player_2\\': \\' Roman Yaremchuk \\'}, {\\'event_team\\': \\'away\\', \\'event_time\\': \" 95\\' \", \\'event_type\\': \\'Substitution\\', \\'action_player_1\\': \\' Yevhen Makarenko \\', \\'action_player_2\\': \\' Taras Stepanenko \\'}, {\\'event_team\\': \\'home\\', \\'event_time\\': \" 97\\' \", \\'event_type\\': \\'Substitution\\', \\'action_player_1\\': \\' Robin Quaison \\', \\'action_player_2\\': \\' Dejan Kulusevski \\'}, {\\'event_team\\': \\'home\\', \\'event_time\\': \" 97\\' \", \\'event_type\\': \\'Substitution\\', \\'action_player_1\\': \\' Marcus Berg \\', \\'action_player_2\\': \\' Alexander Isak \\'}, {\\'event_team\\': \\'home\\', \\'event_time\\': \" 97\\' \", \\'event_type\\': \\'Substitution\\', \\'action_player_1\\': \\' Viktor Claesson \\', \\'action_player_2\\': \\' Sebastian Larsson \\'}, {\\'event_team\\': \\'home\\', \\'event_time\\': \" 99\\' \", \\'event_type\\': \\'Red card\\', \\'action_player_1\\': \\' Marcus Danielsson \\'}, {\\'event_team\\': \\'away\\', \\'event_time\\': \" 101\\' \", \\'event_type\\': \\'Substitution\\', \\'action_player_1\\': \\' Viktor Tsygankov \\', \\'action_player_2\\': \\' Artem Besedin \\'}, {\\'event_team\\': \\'home\\', \\'event_time\\': \" 101\\' \", \\'event_type\\': \\'Substitution\\', \\'action_player_1\\': \\' Filip Helander \\', \\'action_player_2\\': \\' Kristoffer Olsson \\'}, {\\'event_team\\': \\'away\\', \\'event_time\\': \" 105\\' \", \\'event_type\\': \\'Substitution\\', \\'action_player_1\\': \\' Artem Dovbyk \\', \\'action_player_2\\': \\' Andriy Yarmolenko \\'}, {\\'event_team\\': \\'away\\', \\'event_time\\': \" 117\\' \", \\'event_type\\': \\'Substitution\\', \\'action_player_1\\': \\' Roman Bezus \\', \\'action_player_2\\': \\' Serhiy Sydorchuk \\'}, {\\'event_team\\': \\'away\\', \\'event_time\\': \" 121\\' \", \\'event_type\\': \\'Goal\\', \\'action_player_1\\': \\' Artem Dovbyk \\', \\'action_player_2\\': \\' Olexandr Zinchenko \\'}, {\\'event_team\\': \\'away\\', \\'event_time\\': \" 122\\' \", \\'event_type\\': \\'Yellow card\\', \\'action_player_1\\': \\' Artem Dovbyk \\'}]'"
      ]
     },
     "execution_count": 160,
     "metadata": {},
     "output_type": "execute_result"
    }
   ],
   "source": [
    "ev_test=df['events_list']\n",
    "\n",
    "ev_test[7]"
   ]
  },
  {
   "cell_type": "code",
   "execution_count": 199,
   "id": "3b8e0d46",
   "metadata": {},
   "outputs": [
    {
     "data": {
      "text/plain": [
       "['[',\n",
       " '\\'event_team\\': \\'away\\', \\'event_time\\': \" 4\\' \", \\'event_type\\': \\'Goal\\', \\'action_player_1\\': \\' Harry Kane \\', \\'action_player_2\\': \\' Raheem Sterling \\'}, ',\n",
       " '\\'event_team\\': \\'home\\', \\'event_time\\': \" 35\\' \", \\'event_type\\': \\'Substitution\\', \\'action_player_1\\': \\' Viktor Tsygankov \\', \\'action_player_2\\': \\' Serhii Kryvtsov \\'}, ',\n",
       " '\\'event_team\\': \\'away\\', \\'event_time\\': \" 46\\' \", \\'event_type\\': \\'Goal\\', \\'action_player_1\\': \\' Harry Maguire \\', \\'action_player_2\\': \\' Luke Shaw \\'}, ',\n",
       " '\\'event_team\\': \\'away\\', \\'event_time\\': \" 50\\' \", \\'event_type\\': \\'Goal\\', \\'action_player_1\\': \\' Harry Kane \\', \\'action_player_2\\': \\' Luke Shaw \\'}, ',\n",
       " '\\'event_team\\': \\'away\\', \\'event_time\\': \" 57\\' \", \\'event_type\\': \\'Substitution\\', \\'action_player_1\\': \\' Jordan Henderson \\', \\'action_player_2\\': \\' Declan Rice \\'}, ',\n",
       " '\\'event_team\\': \\'away\\', \\'event_time\\': \" 63\\' \", \\'event_type\\': \\'Goal\\', \\'action_player_1\\': \\' Jordan Henderson \\', \\'action_player_2\\': \\' Mason Mount \\'}, ',\n",
       " '\\'event_team\\': \\'home\\', \\'event_time\\': \" 64\\' \", \\'event_type\\': \\'Substitution\\', \\'action_player_1\\': \\' Yevhen Makarenko \\', \\'action_player_2\\': \\' Serhiy Sydorchuk \\'}, ',\n",
       " '\\'event_team\\': \\'away\\', \\'event_time\\': \" 65\\' \", \\'event_type\\': \\'Substitution\\', \\'action_player_1\\': \\' Kieran Trippier \\', \\'action_player_2\\': \\' Luke Shaw \\'}, ',\n",
       " '\\'event_team\\': \\'away\\', \\'event_time\\': \" 65\\' \", \\'event_type\\': \\'Substitution\\', \\'action_player_1\\': \\' Marcus Rashford \\', \\'action_player_2\\': \\' Raheem Sterling \\'}, ',\n",
       " '\\'event_team\\': \\'away\\', \\'event_time\\': \" 65\\' \", \\'event_type\\': \\'Substitution\\', \\'action_player_1\\': \\' Jude Bellingham \\', \\'action_player_2\\': \\' Kalvin Phillips \\'}, ',\n",
       " '\\'event_team\\': \\'away\\', \\'event_time\\': \" 73\\' \", \\'event_type\\': \\'Substitution\\', \\'action_player_1\\': \\' Dominic Calvert-Lewin \\', \\'action_player_2\\': \\' Harry Kane \\'}]']"
      ]
     },
     "execution_count": 199,
     "metadata": {},
     "output_type": "execute_result"
    }
   ],
   "source": [
    "b=ev_test[3]\n",
    "b=b.split(sep='{')\n",
    "b\n",
    "#to do: eliminate all info that isnt a goal or own goal, perhaps change info to say name of team instead of just away and home"
   ]
  },
  {
   "cell_type": "code",
   "execution_count": 197,
   "id": "e69605ba",
   "metadata": {},
   "outputs": [
    {
     "name": "stdout",
     "output_type": "stream",
     "text": [
      "<class 'str'>\n",
      "<class 'callable_iterator'>\n",
      "44\n",
      "2516\n",
      "<re.Match object; span=(172, 258), match=\"Goal', 'action_player_1': ' Kasper Dolberg ', 'ac>\n",
      "<re.Match object; span=(589, 634), match=\"Goal', 'action_player_1': ' Kasper Dolberg '}\">\n",
      "<re.Match object; span=(2057, 2139), match=\"Goal', 'action_player_1': ' Joakim Mæhle ', 'acti>\n",
      "<re.Match object; span=(2424, 2515), match=\"Goal', 'action_player_1': ' Martin Braithwaite ',>\n"
     ]
    }
   ],
   "source": [
    "# a=ev_test[14]\n",
    "# print(type(a))\n",
    "# re_a=re.finditer(r\"Goal.*?}\",a)\n",
    "# print(type(re_a))\n",
    "# print(len(str(re_a)))\n",
    "# print(len(str(a)))\n",
    "# for n in range(4):\n",
    "#     print (next(re_a))\n"
   ]
  },
  {
   "cell_type": "code",
   "execution_count": null,
   "id": "1e7e9d57",
   "metadata": {},
   "outputs": [],
   "source": []
  },
  {
   "cell_type": "code",
   "execution_count": null,
   "id": "736a6f0e",
   "metadata": {},
   "outputs": [],
   "source": []
  }
 ],
 "metadata": {
  "kernelspec": {
   "display_name": "Python 3",
   "language": "python",
   "name": "python3"
  },
  "language_info": {
   "codemirror_mode": {
    "name": "ipython",
    "version": 3
   },
   "file_extension": ".py",
   "mimetype": "text/x-python",
   "name": "python",
   "nbconvert_exporter": "python",
   "pygments_lexer": "ipython3",
   "version": "3.9.5"
  },
  "toc": {
   "base_numbering": 1,
   "nav_menu": {},
   "number_sections": true,
   "sideBar": true,
   "skip_h1_title": false,
   "title_cell": "Table of Contents",
   "title_sidebar": "Contents",
   "toc_cell": false,
   "toc_position": {},
   "toc_section_display": true,
   "toc_window_display": false
  }
 },
 "nbformat": 4,
 "nbformat_minor": 5
}
