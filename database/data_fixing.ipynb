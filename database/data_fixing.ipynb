{
 "cells": [
  {
   "cell_type": "markdown",
   "id": "8caac0b3",
   "metadata": {
    "heading_collapsed": true
   },
   "source": [
    "# Fixing data\n",
    "Here is the process of data cleaning "
   ]
  },
  {
   "cell_type": "code",
   "execution_count": 23,
   "id": "5844a747",
   "metadata": {
    "hidden": true
   },
   "outputs": [],
   "source": [
    "import pandas as pd\n",
    "import re"
   ]
  },
  {
   "cell_type": "code",
   "execution_count": 24,
   "id": "16a51375",
   "metadata": {
    "hidden": true
   },
   "outputs": [],
   "source": [
    "\n",
    "df = pd.read_csv(\"eurocup_2020_results.csv\")\n",
    "df2 = pd.read_csv('players2021_complete.csv')\n"
   ]
  },
  {
   "cell_type": "code",
   "execution_count": 73,
   "id": "3ca6a53f",
   "metadata": {
    "hidden": true
   },
   "outputs": [
    {
     "data": {
      "text/html": [
       "<div>\n",
       "<style scoped>\n",
       "    .dataframe tbody tr th:only-of-type {\n",
       "        vertical-align: middle;\n",
       "    }\n",
       "\n",
       "    .dataframe tbody tr th {\n",
       "        vertical-align: top;\n",
       "    }\n",
       "\n",
       "    .dataframe thead th {\n",
       "        text-align: right;\n",
       "    }\n",
       "</style>\n",
       "<table border=\"1\" class=\"dataframe\">\n",
       "  <thead>\n",
       "    <tr style=\"text-align: right;\">\n",
       "      <th></th>\n",
       "      <th>stage</th>\n",
       "      <th>date</th>\n",
       "      <th>pens</th>\n",
       "      <th>pens_home_score</th>\n",
       "      <th>pens_away_score</th>\n",
       "      <th>team_name_home</th>\n",
       "      <th>team_name_away</th>\n",
       "      <th>team_home_score</th>\n",
       "      <th>team_away_score</th>\n",
       "      <th>possession_home</th>\n",
       "      <th>possession_away</th>\n",
       "      <th>total_shots_home</th>\n",
       "      <th>total_shots_away</th>\n",
       "      <th>shots_on_target_home</th>\n",
       "      <th>shots_on_target_away</th>\n",
       "      <th>duels_won_home</th>\n",
       "      <th>duels_won_away</th>\n",
       "      <th>events_list</th>\n",
       "      <th>lineup_home</th>\n",
       "      <th>lineup_away</th>\n",
       "    </tr>\n",
       "  </thead>\n",
       "  <tbody>\n",
       "    <tr>\n",
       "      <th>0</th>\n",
       "      <td>Final</td>\n",
       "      <td>11.07.2021</td>\n",
       "      <td>True</td>\n",
       "      <td>3</td>\n",
       "      <td>2</td>\n",
       "      <td>Italy</td>\n",
       "      <td>England</td>\n",
       "      <td>1</td>\n",
       "      <td>1</td>\n",
       "      <td>66%</td>\n",
       "      <td>34%</td>\n",
       "      <td>19</td>\n",
       "      <td>6</td>\n",
       "      <td>6</td>\n",
       "      <td>2</td>\n",
       "      <td>53%</td>\n",
       "      <td>47%</td>\n",
       "      <td>[{'event_team': 'away', 'event_time': \" 2' \", ...</td>\n",
       "      <td>[{'Player_Name': 'Insigne', 'Player_Number': '...</td>\n",
       "      <td>[{'Player_Name': 'Kane', 'Player_Number': '9'}...</td>\n",
       "    </tr>\n",
       "    <tr>\n",
       "      <th>1</th>\n",
       "      <td>Semi-finals</td>\n",
       "      <td>07.07.2021</td>\n",
       "      <td>False</td>\n",
       "      <td>False</td>\n",
       "      <td>False</td>\n",
       "      <td>England</td>\n",
       "      <td>Denmark</td>\n",
       "      <td>2</td>\n",
       "      <td>1</td>\n",
       "      <td>59%</td>\n",
       "      <td>41%</td>\n",
       "      <td>20</td>\n",
       "      <td>6</td>\n",
       "      <td>10</td>\n",
       "      <td>3</td>\n",
       "      <td>50%</td>\n",
       "      <td>50%</td>\n",
       "      <td>[{'event_team': 'away', 'event_time': \" 30' \",...</td>\n",
       "      <td>[{'Player_Name': 'Kane', 'Player_Number': '9'}...</td>\n",
       "      <td>[{'Player_Name': 'Krogh Damsgaard', 'Player_Nu...</td>\n",
       "    </tr>\n",
       "    <tr>\n",
       "      <th>2</th>\n",
       "      <td>Semi-finals</td>\n",
       "      <td>06.07.2021</td>\n",
       "      <td>True</td>\n",
       "      <td>4</td>\n",
       "      <td>2</td>\n",
       "      <td>Italy</td>\n",
       "      <td>Spain</td>\n",
       "      <td>1</td>\n",
       "      <td>1</td>\n",
       "      <td>29%</td>\n",
       "      <td>71%</td>\n",
       "      <td>7</td>\n",
       "      <td>16</td>\n",
       "      <td>4</td>\n",
       "      <td>5</td>\n",
       "      <td>49%</td>\n",
       "      <td>51%</td>\n",
       "      <td>[{'event_team': 'away', 'event_time': \" 51' \",...</td>\n",
       "      <td>[{'Player_Name': 'Insigne', 'Player_Number': '...</td>\n",
       "      <td>[{'Player_Name': 'Torres', 'Player_Number': '1...</td>\n",
       "    </tr>\n",
       "    <tr>\n",
       "      <th>3</th>\n",
       "      <td>Quarter-finals</td>\n",
       "      <td>03.07.2021</td>\n",
       "      <td>False</td>\n",
       "      <td>False</td>\n",
       "      <td>False</td>\n",
       "      <td>Ukraine</td>\n",
       "      <td>England</td>\n",
       "      <td>0</td>\n",
       "      <td>4</td>\n",
       "      <td>48%</td>\n",
       "      <td>52%</td>\n",
       "      <td>7</td>\n",
       "      <td>10</td>\n",
       "      <td>2</td>\n",
       "      <td>6</td>\n",
       "      <td>42%</td>\n",
       "      <td>59%</td>\n",
       "      <td>[{'event_team': 'away', 'event_time': \" 4' \", ...</td>\n",
       "      <td>[{'Player_Name': 'Yaremchuk', 'Player_Number':...</td>\n",
       "      <td>[{'Player_Name': 'Kane', 'Player_Number': '9'}...</td>\n",
       "    </tr>\n",
       "    <tr>\n",
       "      <th>4</th>\n",
       "      <td>Quarter-finals</td>\n",
       "      <td>03.07.2021</td>\n",
       "      <td>False</td>\n",
       "      <td>False</td>\n",
       "      <td>False</td>\n",
       "      <td>Czech Republic</td>\n",
       "      <td>Denmark</td>\n",
       "      <td>1</td>\n",
       "      <td>2</td>\n",
       "      <td>56%</td>\n",
       "      <td>44%</td>\n",
       "      <td>16</td>\n",
       "      <td>11</td>\n",
       "      <td>5</td>\n",
       "      <td>7</td>\n",
       "      <td>48%</td>\n",
       "      <td>52%</td>\n",
       "      <td>[{'event_team': 'away', 'event_time': \" 5' \", ...</td>\n",
       "      <td>[{'Player_Name': 'Schick', 'Player_Number': '1...</td>\n",
       "      <td>[{'Player_Name': 'Dolberg', 'Player_Number': '...</td>\n",
       "    </tr>\n",
       "  </tbody>\n",
       "</table>\n",
       "</div>"
      ],
      "text/plain": [
       "              stage          date   pens pens_home_score pens_away_score    team_name_home team_name_away  team_home_score  team_away_score possession_home possession_away  total_shots_home  total_shots_away  shots_on_target_home  shots_on_target_away duels_won_home duels_won_away                                        events_list                                        lineup_home                                        lineup_away\n",
       "0            Final     11.07.2021   True               3               2            Italy        England                 1                1             66%            34%                 19                 6                     6                     2            53%           47%   [{'event_team': 'away', 'event_time': \" 2' \", ...  [{'Player_Name': 'Insigne', 'Player_Number': '...  [{'Player_Name': 'Kane', 'Player_Number': '9'}...\n",
       "1      Semi-finals    07.07.2021   False           False           False          England        Denmark                 2                1             59%            41%                 20                 6                    10                     3            50%           50%   [{'event_team': 'away', 'event_time': \" 30' \",...  [{'Player_Name': 'Kane', 'Player_Number': '9'}...  [{'Player_Name': 'Krogh Damsgaard', 'Player_Nu...\n",
       "2      Semi-finals     06.07.2021   True               4               2            Italy          Spain                 1                1             29%            71%                  7                16                     4                     5            49%           51%   [{'event_team': 'away', 'event_time': \" 51' \",...  [{'Player_Name': 'Insigne', 'Player_Number': '...  [{'Player_Name': 'Torres', 'Player_Number': '1...\n",
       "3   Quarter-finals    03.07.2021   False           False           False          Ukraine        England                 0                4             48%            52%                  7                10                     2                     6            42%           59%   [{'event_team': 'away', 'event_time': \" 4' \", ...  [{'Player_Name': 'Yaremchuk', 'Player_Number':...  [{'Player_Name': 'Kane', 'Player_Number': '9'}...\n",
       "4   Quarter-finals    03.07.2021   False           False           False   Czech Republic        Denmark                 1                2             56%            44%                 16                11                     5                     7            48%           52%   [{'event_team': 'away', 'event_time': \" 5' \", ...  [{'Player_Name': 'Schick', 'Player_Number': '1...  [{'Player_Name': 'Dolberg', 'Player_Number': '..."
      ]
     },
     "execution_count": 73,
     "metadata": {},
     "output_type": "execute_result"
    }
   ],
   "source": [
    "df.head()"
   ]
  },
  {
   "cell_type": "markdown",
   "id": "c7e2d2d5",
   "metadata": {
    "heading_collapsed": true
   },
   "source": [
    "# working with df2: individual players  -  deprecated-> done through webscraping"
   ]
  },
  {
   "cell_type": "code",
   "execution_count": 74,
   "id": "9b85e3da",
   "metadata": {
    "hidden": true
   },
   "outputs": [
    {
     "data": {
      "text/html": [
       "<div>\n",
       "<style scoped>\n",
       "    .dataframe tbody tr th:only-of-type {\n",
       "        vertical-align: middle;\n",
       "    }\n",
       "\n",
       "    .dataframe tbody tr th {\n",
       "        vertical-align: top;\n",
       "    }\n",
       "\n",
       "    .dataframe thead th {\n",
       "        text-align: right;\n",
       "    }\n",
       "</style>\n",
       "<table border=\"1\" class=\"dataframe\">\n",
       "  <thead>\n",
       "    <tr style=\"text-align: right;\">\n",
       "      <th></th>\n",
       "      <th>player_id</th>\n",
       "      <th>name</th>\n",
       "      <th>nationality</th>\n",
       "      <th>position</th>\n",
       "      <th>overall</th>\n",
       "      <th>age</th>\n",
       "      <th>hits</th>\n",
       "      <th>potential</th>\n",
       "      <th>team</th>\n",
       "    </tr>\n",
       "  </thead>\n",
       "  <tbody>\n",
       "    <tr>\n",
       "      <th>0</th>\n",
       "      <td>158023</td>\n",
       "      <td>Lionel Messi</td>\n",
       "      <td>Argentina</td>\n",
       "      <td>ST|CF|RW</td>\n",
       "      <td>94</td>\n",
       "      <td>33</td>\n",
       "      <td>299</td>\n",
       "      <td>94</td>\n",
       "      <td>FC Barcelona</td>\n",
       "    </tr>\n",
       "    <tr>\n",
       "      <th>1</th>\n",
       "      <td>20801</td>\n",
       "      <td>Cristiano Ronaldo</td>\n",
       "      <td>Portugal</td>\n",
       "      <td>ST|LW</td>\n",
       "      <td>93</td>\n",
       "      <td>35</td>\n",
       "      <td>276</td>\n",
       "      <td>93</td>\n",
       "      <td>Juventus</td>\n",
       "    </tr>\n",
       "    <tr>\n",
       "      <th>2</th>\n",
       "      <td>190871</td>\n",
       "      <td>Neymar Jr</td>\n",
       "      <td>Brazil</td>\n",
       "      <td>CAM|LW</td>\n",
       "      <td>92</td>\n",
       "      <td>28</td>\n",
       "      <td>186</td>\n",
       "      <td>92</td>\n",
       "      <td>Paris Saint-Germain</td>\n",
       "    </tr>\n",
       "    <tr>\n",
       "      <th>3</th>\n",
       "      <td>203376</td>\n",
       "      <td>Virgil van Dijk</td>\n",
       "      <td>Netherlands</td>\n",
       "      <td>CB</td>\n",
       "      <td>91</td>\n",
       "      <td>29</td>\n",
       "      <td>127</td>\n",
       "      <td>92</td>\n",
       "      <td>Liverpool</td>\n",
       "    </tr>\n",
       "    <tr>\n",
       "      <th>4</th>\n",
       "      <td>200389</td>\n",
       "      <td>Jan Oblak</td>\n",
       "      <td>Slovenia</td>\n",
       "      <td>GK</td>\n",
       "      <td>91</td>\n",
       "      <td>27</td>\n",
       "      <td>47</td>\n",
       "      <td>93</td>\n",
       "      <td>Atlético Madrid</td>\n",
       "    </tr>\n",
       "  </tbody>\n",
       "</table>\n",
       "</div>"
      ],
      "text/plain": [
       "   player_id               name  nationality  position  overall  age  hits  potential                  team\n",
       "0     158023       Lionel Messi    Argentina  ST|CF|RW       94   33   299         94         FC Barcelona \n",
       "1      20801  Cristiano Ronaldo     Portugal     ST|LW       93   35   276         93             Juventus \n",
       "2     190871          Neymar Jr       Brazil    CAM|LW       92   28   186         92  Paris Saint-Germain \n",
       "3     203376    Virgil van Dijk  Netherlands        CB       91   29   127         92            Liverpool \n",
       "4     200389          Jan Oblak     Slovenia        GK       91   27    47         93      Atlético Madrid "
      ]
     },
     "execution_count": 74,
     "metadata": {},
     "output_type": "execute_result"
    }
   ],
   "source": [
    "#we will delete some unwanted columns with df.drop(columns=['A', 'B'], inplace=True)\n",
    "#df2.drop(columns=['hits','potential'], inplace=True)\n",
    "df2.head()"
   ]
  },
  {
   "cell_type": "code",
   "execution_count": 75,
   "id": "888d95e1",
   "metadata": {
    "hidden": true
   },
   "outputs": [
    {
     "name": "stdout",
     "output_type": "stream",
     "text": [
      "<class 'str'>\n",
      "<class 'list'>\n"
     ]
    }
   ],
   "source": [
    "#to do: create a loop to eliminate all nationalities not present in Euro21\n",
    "euroteams=['Austria', 'Belgium', 'Croatia', 'Czech Republic', 'Denmark', 'England', 'Finland', 'France', 'Germany', 'Hungary', 'Italy', 'Netherlands', 'North Macedonia', 'Poland', 'Portugal', 'Russia', 'Scotland', 'Slovakia', 'Spain', 'Sweden', 'Switzerland', 'Turkey', 'Ukraine', 'Wales']\n",
    "eurostr=str(euroteams)\n",
    "print(type(eurostr))\n",
    "print(type(euroteams))\n"
   ]
  },
  {
   "cell_type": "code",
   "execution_count": 76,
   "id": "b3455551",
   "metadata": {
    "hidden": true
   },
   "outputs": [
    {
     "data": {
      "text/plain": [
       "(17981, 9)"
      ]
     },
     "execution_count": 76,
     "metadata": {},
     "output_type": "execute_result"
    }
   ],
   "source": [
    "df2.shape"
   ]
  },
  {
   "cell_type": "code",
   "execution_count": 77,
   "id": "6c37569a",
   "metadata": {
    "hidden": true
   },
   "outputs": [
    {
     "data": {
      "text/plain": [
       "162"
      ]
     },
     "execution_count": 77,
     "metadata": {},
     "output_type": "execute_result"
    }
   ],
   "source": [
    "unique_nationalities=df2['nationality'].unique()\n",
    "len(unique_nationalities)"
   ]
  },
  {
   "cell_type": "code",
   "execution_count": null,
   "id": "2ff2b486",
   "metadata": {
    "hidden": true
   },
   "outputs": [],
   "source": []
  },
  {
   "cell_type": "markdown",
   "id": "996830e2",
   "metadata": {},
   "source": [
    "# working with df1: match stats"
   ]
  },
  {
   "cell_type": "markdown",
   "id": "0b9d3184",
   "metadata": {
    "heading_collapsed": true
   },
   "source": [
    "## tests\n",
    "We will attempt to just keep the data about goal scoring using different methods"
   ]
  },
  {
   "cell_type": "code",
   "execution_count": null,
   "id": "08a48480",
   "metadata": {
    "hidden": true
   },
   "outputs": [],
   "source": []
  },
  {
   "cell_type": "code",
   "execution_count": null,
   "id": "269b4038",
   "metadata": {
    "hidden": true
   },
   "outputs": [],
   "source": [
    "ev_test=df['events_list']\n",
    "\n",
    "ev_test[2]  #10"
   ]
  },
  {
   "cell_type": "code",
   "execution_count": null,
   "id": "3b8e0d46",
   "metadata": {
    "hidden": true,
    "scrolled": true
   },
   "outputs": [],
   "source": [
    "a=ev_test[2]\n",
    "a=a.split(sep='{')\n",
    "print (type(a))\n",
    "\n",
    "#to do: eliminate all info that isnt a goal or own goal, perhaps change info to say name of team instead of just away and home"
   ]
  },
  {
   "cell_type": "code",
   "execution_count": null,
   "id": "7d66c381",
   "metadata": {
    "hidden": true
   },
   "outputs": [],
   "source": [
    "a"
   ]
  },
  {
   "cell_type": "code",
   "execution_count": null,
   "id": "e69605ba",
   "metadata": {
    "hidden": true
   },
   "outputs": [],
   "source": [
    "# #working as intended\n",
    "# for data in a:\n",
    "#     if 'Goal' in data:\n",
    "#         print (data,'\\n')\n",
    "#     if 'goal' in data:\n",
    "#           print (data,'\\n')"
   ]
  },
  {
   "cell_type": "code",
   "execution_count": null,
   "id": "1e7e9d57",
   "metadata": {
    "hidden": true
   },
   "outputs": [],
   "source": [
    "#[i for i in my_list if '91' not in i and '18' not in i]\n",
    "b=[data for data in a if 'goal' in data.lower() or 'Penalty' in data and 'PK' not in data and 'Disallowed' not in data]\n",
    "c=[data for data in b if 'False' not in data]\n"
   ]
  },
  {
   "cell_type": "code",
   "execution_count": null,
   "id": "736a6f0e",
   "metadata": {
    "hidden": true
   },
   "outputs": [],
   "source": [
    "#x = txt.replace(\"thingtoremove\", \"subs\")\n",
    "#re.sub(r'\\W+', '', your_string)\n",
    "team=[]\n",
    "minute=[]\n",
    "player=[]\n",
    "for data in b:\n",
    "    team.append(re.findall(('away|home'),data))\n",
    "    minute.append(re.search('\\d+',data).group())\n",
    "    if 'Own goal' in data:\n",
    "        player.append(re.search('(?:action_player_1).*?\\w+\\s\\w*',data).group().replace(\"action_player_1': ' \",\"own goal-\"))\n",
    "    else:\n",
    "        player.append(re.search('(?:action_player_1).*?\\w+\\s\\w*',data).group().replace(\"action_player_1': ' \",\"\"))\n",
    "\n",
    "team=[x for [x] in team]\n",
    "print(type(team))\n",
    "print(team)\n",
    "print(minute)\n",
    "print(player)\n",
    "\n",
    "#re.sub(r'[^A-Za-z0-9 ]+', '', s)"
   ]
  },
  {
   "cell_type": "code",
   "execution_count": null,
   "id": "ed5c455b",
   "metadata": {
    "hidden": true
   },
   "outputs": [],
   "source": [
    "final=[(team[i],player[i],minute[i]) for i in range (len(player))]\n",
    "final"
   ]
  },
  {
   "cell_type": "code",
   "execution_count": null,
   "id": "66124891",
   "metadata": {
    "hidden": true
   },
   "outputs": [],
   "source": [
    "final_l=[]\n",
    "for data in final:\n",
    "    \n",
    "    final_l.append(list(data))\n",
    "    \n",
    "final_l"
   ]
  },
  {
   "cell_type": "markdown",
   "id": "8544adbc",
   "metadata": {},
   "source": [
    "## function defining and  applying\n"
   ]
  },
  {
   "cell_type": "code",
   "execution_count": 39,
   "id": "8ecd30b1",
   "metadata": {},
   "outputs": [],
   "source": [
    "def pichichi(event):\n",
    "    team=[]\n",
    "    minute=[]\n",
    "    player=[]\n",
    "    final=[]\n",
    "    try:\n",
    "        event_=event.split(sep='{')\n",
    "        #print (event_)\n",
    "\n",
    "        event_2=[data for data in event_ if 'goal' in data.lower() or 'Penalty' in data and 'PK' not in data and 'Disallowed' not in data]\n",
    "        event_2=[data for data in event_2 if 'False' not in data]\n",
    "        event_2=[data for data in event_2 if 'Disallowed' not in data]\n",
    "        #print(event_2)\n",
    "\n",
    "        for data in event_2:        \n",
    "            team.append(re.findall(('away|home'),data))\n",
    "\n",
    "            minute.append(re.search('\\d+',data).group())\n",
    "\n",
    "            if 'Own goal' in data:\n",
    "                player.append(re.search('(?:action_player_1).*?\\w+\\s\\w*',data).group().replace(\"action_player_1': ' \",\"own goal-\"))\n",
    "            else:\n",
    "                player.append(re.search('(?:action_player_1).*?\\w+\\s\\w*',data).group().replace(\"action_player_1': ' \",\"\"))\n",
    "\n",
    "        team=[x for [x] in team]   \n",
    "        final=[({'team':team[i]},{'player':player[i]},{'minute':minute[i]}) for i in range (len(player))]\n",
    "        final_l=[]\n",
    "        for data in final:\n",
    "            final_l.append(list(data))\n",
    "        if final_l==[]:\n",
    "            final_l=['no goals']\n",
    "        return final_l\n",
    "    except:\n",
    "        return 'error'\n",
    "    \n",
    "\n"
   ]
  },
  {
   "cell_type": "code",
   "execution_count": 40,
   "id": "e05c6ebc",
   "metadata": {},
   "outputs": [],
   "source": [
    "df = pd.read_csv(\"eurocup_2020_results.csv\")"
   ]
  },
  {
   "cell_type": "code",
   "execution_count": 41,
   "id": "264e663a",
   "metadata": {},
   "outputs": [
    {
     "data": {
      "text/plain": [
       "29    [{'event_team': 'away', 'event_time': \" 10' \",...\n",
       "Name: events_list, dtype: object"
      ]
     },
     "execution_count": 41,
     "metadata": {},
     "output_type": "execute_result"
    }
   ],
   "source": [
    "df['events_list'].sample(n=1)"
   ]
  },
  {
   "cell_type": "markdown",
   "id": "ff9baaa1",
   "metadata": {},
   "source": [
    "###### apply f(x)"
   ]
  },
  {
   "cell_type": "code",
   "execution_count": 42,
   "id": "14e6ba2d",
   "metadata": {},
   "outputs": [],
   "source": [
    "df['events_list']=df['events_list'].apply(pichichi)"
   ]
  },
  {
   "cell_type": "markdown",
   "id": "27dc464a",
   "metadata": {},
   "source": [
    "###### after some battling, the function for filtering just the goals made during the match time (excluidng OT penalty shootout) is working as intended"
   ]
  },
  {
   "cell_type": "code",
   "execution_count": 43,
   "id": "4a632810",
   "metadata": {},
   "outputs": [
    {
     "data": {
      "text/html": [
       "<div>\n",
       "<style scoped>\n",
       "    .dataframe tbody tr th:only-of-type {\n",
       "        vertical-align: middle;\n",
       "    }\n",
       "\n",
       "    .dataframe tbody tr th {\n",
       "        vertical-align: top;\n",
       "    }\n",
       "\n",
       "    .dataframe thead th {\n",
       "        text-align: right;\n",
       "    }\n",
       "</style>\n",
       "<table border=\"1\" class=\"dataframe\">\n",
       "  <thead>\n",
       "    <tr style=\"text-align: right;\">\n",
       "      <th></th>\n",
       "      <th>stage</th>\n",
       "      <th>date</th>\n",
       "      <th>pens</th>\n",
       "      <th>pens_home_score</th>\n",
       "      <th>pens_away_score</th>\n",
       "      <th>team_name_home</th>\n",
       "      <th>team_name_away</th>\n",
       "      <th>team_home_score</th>\n",
       "      <th>team_away_score</th>\n",
       "      <th>possession_home</th>\n",
       "      <th>possession_away</th>\n",
       "      <th>total_shots_home</th>\n",
       "      <th>total_shots_away</th>\n",
       "      <th>shots_on_target_home</th>\n",
       "      <th>shots_on_target_away</th>\n",
       "      <th>duels_won_home</th>\n",
       "      <th>duels_won_away</th>\n",
       "      <th>events_list</th>\n",
       "      <th>lineup_home</th>\n",
       "      <th>lineup_away</th>\n",
       "    </tr>\n",
       "  </thead>\n",
       "  <tbody>\n",
       "    <tr>\n",
       "      <th>0</th>\n",
       "      <td>Final</td>\n",
       "      <td>11.07.2021</td>\n",
       "      <td>True</td>\n",
       "      <td>3</td>\n",
       "      <td>2</td>\n",
       "      <td>Italy</td>\n",
       "      <td>England</td>\n",
       "      <td>1</td>\n",
       "      <td>1</td>\n",
       "      <td>66%</td>\n",
       "      <td>34%</td>\n",
       "      <td>19</td>\n",
       "      <td>6</td>\n",
       "      <td>6</td>\n",
       "      <td>2</td>\n",
       "      <td>53%</td>\n",
       "      <td>47%</td>\n",
       "      <td>[[{'team': 'away'}, {'player': 'Luke Shaw'}, {...</td>\n",
       "      <td>[{'Player_Name': 'Insigne', 'Player_Number': '...</td>\n",
       "      <td>[{'Player_Name': 'Kane', 'Player_Number': '9'}...</td>\n",
       "    </tr>\n",
       "  </tbody>\n",
       "</table>\n",
       "</div>"
      ],
      "text/plain": [
       "     stage        date  pens pens_home_score pens_away_score team_name_home  \\\n",
       "0   Final   11.07.2021  True               3               2         Italy    \n",
       "\n",
       "  team_name_away  team_home_score  team_away_score possession_home  \\\n",
       "0       England                 1                1             66%   \n",
       "\n",
       "  possession_away  total_shots_home  total_shots_away  shots_on_target_home  \\\n",
       "0            34%                 19                 6                     6   \n",
       "\n",
       "   shots_on_target_away duels_won_home duels_won_away  \\\n",
       "0                     2            53%           47%    \n",
       "\n",
       "                                         events_list  \\\n",
       "0  [[{'team': 'away'}, {'player': 'Luke Shaw'}, {...   \n",
       "\n",
       "                                         lineup_home  \\\n",
       "0  [{'Player_Name': 'Insigne', 'Player_Number': '...   \n",
       "\n",
       "                                         lineup_away  \n",
       "0  [{'Player_Name': 'Kane', 'Player_Number': '9'}...  "
      ]
     },
     "execution_count": 43,
     "metadata": {},
     "output_type": "execute_result"
    }
   ],
   "source": [
    "df.head(n=1)"
   ]
  },
  {
   "cell_type": "code",
   "execution_count": 44,
   "id": "ac8a3efe",
   "metadata": {},
   "outputs": [],
   "source": [
    "df.drop(columns=['lineup_home','lineup_away'], inplace=True)"
   ]
  },
  {
   "cell_type": "code",
   "execution_count": 45,
   "id": "8c338d8d",
   "metadata": {},
   "outputs": [],
   "source": [
    "df=df[['stage','date','team_name_home','team_home_score','team_name_away','team_away_score','events_list' ,'pens','pens_home_score','pens_away_score','possession_home','possession_away', 'total_shots_home','total_shots_away','shots_on_target_home','shots_on_target_away']]"
   ]
  },
  {
   "cell_type": "code",
   "execution_count": 46,
   "id": "e2fd6e45",
   "metadata": {},
   "outputs": [],
   "source": [
    "df=df.rename(columns={'events_list':'goals_scorers'})"
   ]
  },
  {
   "cell_type": "markdown",
   "id": "db7d1c25",
   "metadata": {},
   "source": [
    "Some different json files will be created to assess which one fits the APIs purposes better \n",
    "- table wins\n"
   ]
  },
  {
   "cell_type": "code",
   "execution_count": 47,
   "id": "a782533e",
   "metadata": {},
   "outputs": [],
   "source": [
    "# df_json1=df.to_json()\n",
    "df_json2=df.to_json(orient=\"table\")\n",
    "# df_json3=df.to_json(orient=\"columns\")\n",
    "# df_json4=df.to_json(orient=\"index\")\n",
    "# df_json5=df.to_json(orient=\"records\")"
   ]
  },
  {
   "cell_type": "code",
   "execution_count": 48,
   "id": "7d7a73a7",
   "metadata": {},
   "outputs": [],
   "source": [
    "# f= open('matches1.json', 'w')\n",
    "# f.write(df_json)\n",
    "# f.close()\n",
    "\n",
    "f2= open('matches.json', 'w')\n",
    "f2.write(df_json2)\n",
    "f2.close()\n",
    "\n",
    "# f3= open('matches3_col.json', 'w')\n",
    "# f3.write(df_json3)\n",
    "# f3.close()\n",
    "\n",
    "# f4= open('matches4_index.json', 'w')\n",
    "# f4.write(df_json4)\n",
    "# f4.close()\n",
    "\n",
    "# f5= open('matches5_rec.json', 'w')\n",
    "# f5.write(df_json5)\n",
    "# f5.close()"
   ]
  },
  {
   "cell_type": "code",
   "execution_count": null,
   "id": "328ba94e",
   "metadata": {},
   "outputs": [],
   "source": [
    "\n",
    "\n",
    "\n",
    "\n",
    "\n",
    "\n",
    "\n"
   ]
  },
  {
   "cell_type": "code",
   "execution_count": null,
   "id": "a9e0aad4",
   "metadata": {},
   "outputs": [],
   "source": [
    "#legacy function, just in case\n",
    "\n",
    "def pichichi(event):\n",
    "    team=[]\n",
    "    minute=[]\n",
    "    player=[]\n",
    "    final=[]\n",
    "    try:\n",
    "        event_=event.split(sep='{')\n",
    "        #print (event_)\n",
    "\n",
    "        event_2=[data for data in event_ if 'goal' in data.lower() or 'Penalty' in data and 'PK' not in data and 'Disallowed' not in data]\n",
    "        event_2=[data for data in event_2 if 'False' not in data]\n",
    "        event_2=[data for data in event_2 if 'Disallowed' not in data]\n",
    "        #print(event_2)\n",
    "\n",
    "        for data in event_2:        \n",
    "            team.append(re.findall(('away|home'),data))\n",
    "\n",
    "            minute.append(re.search('\\d+',data).group())\n",
    "\n",
    "            if 'Own goal' in data:\n",
    "                player.append(re.search('(?:action_player_1).*?\\w+\\s\\w*',data).group().replace(\"action_player_1': ' \",\"own goal-\"))\n",
    "            else:\n",
    "                player.append(re.search('(?:action_player_1).*?\\w+\\s\\w*',data).group().replace(\"action_player_1': ' \",\"\"))\n",
    "\n",
    "        team=[x for [x] in team]   \n",
    "        final=[(team[i],player[i],minute[i]) for i in range (len(player))]\n",
    "        final_l=[]\n",
    "        for data in final:\n",
    "            final_l.append(list(data))\n",
    "        if final_l==[]:\n",
    "            final_l=['no goals']\n",
    "        return final_l\n",
    "    except:\n",
    "        return 'error'\n",
    "    "
   ]
  }
 ],
 "metadata": {
  "kernelspec": {
   "display_name": "Python 3",
   "language": "python",
   "name": "python3"
  },
  "language_info": {
   "codemirror_mode": {
    "name": "ipython",
    "version": 3
   },
   "file_extension": ".py",
   "mimetype": "text/x-python",
   "name": "python",
   "nbconvert_exporter": "python",
   "pygments_lexer": "ipython3",
   "version": "3.9.5"
  },
  "toc": {
   "base_numbering": 1,
   "nav_menu": {},
   "number_sections": true,
   "sideBar": true,
   "skip_h1_title": false,
   "title_cell": "Table of Contents",
   "title_sidebar": "Contents",
   "toc_cell": false,
   "toc_position": {},
   "toc_section_display": true,
   "toc_window_display": false
  }
 },
 "nbformat": 4,
 "nbformat_minor": 5
}
