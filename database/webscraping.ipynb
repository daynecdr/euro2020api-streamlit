{
 "cells": [
  {
   "cell_type": "markdown",
   "id": "48931257",
   "metadata": {},
   "source": [
    "# Web scraping for data\n",
    "the idea here is to get some data from webpages to complement de data sets\n"
   ]
  },
  {
   "cell_type": "code",
   "execution_count": 50,
   "id": "ab698ddc",
   "metadata": {},
   "outputs": [],
   "source": [
    "import requests\n",
    "from bs4 import BeautifulSoup\n",
    "import csv\n",
    "import json\n",
    "import re"
   ]
  },
  {
   "cell_type": "code",
   "execution_count": 115,
   "id": "20bf2862",
   "metadata": {},
   "outputs": [
    {
     "name": "stdout",
     "output_type": "stream",
     "text": [
      "['Austria', 'Belgium', 'Croatia', 'Czech Republic', 'Denmark', 'England', 'Finland', 'France', 'Germany', 'Hungary', 'Italy', 'Netherlands', 'North Macedonia', 'Poland', 'Portugal', 'Russia', 'Scotland', 'Slovakia', 'Spain', 'Sweden', 'Switzerland', 'Turkey', 'Ukraine', 'Wales']\n"
     ]
    }
   ],
   "source": [
    "url='https://www.uefa.com/uefaeuro-2020/news/0269-12464679fb2e-84fa175e53ca-1000--all-the-euro-2020-squads/'\n",
    "    \n",
    "res=requests.get(url)\n",
    "\n",
    "soup = BeautifulSoup(res.text)\n",
    "\n",
    "\n",
    "a=soup.select(\"a b\",class_=\"accordion-container accordion\")\n",
    "columns=[]\n",
    "for data in a:\n",
    "    columns.append(data.text)\n",
    "print(columns)"
   ]
  },
  {
   "cell_type": "code",
   "execution_count": 3,
   "id": "b01cb11f",
   "metadata": {},
   "outputs": [],
   "source": [
    "players=[]\n",
    "match=soup.find_all('div',class_=\"accordion-container accordion\")\n",
    "for e in match:\n",
    "    \n",
    "     players.append(e.get_text())"
   ]
  },
  {
   "cell_type": "code",
   "execution_count": 4,
   "id": "b7ada2ef",
   "metadata": {},
   "outputs": [],
   "source": [
    "players=[[e.get_text().replace('\\ufeff','')] for e in match]\n"
   ]
  },
  {
   "cell_type": "code",
   "execution_count": 9,
   "id": "5579779f",
   "metadata": {},
   "outputs": [],
   "source": [
    "\n",
    "def team_to_dict(team):\n",
    "    try:\n",
    "        categories=['Goalkeepers','Defenders','Midfielders','Forwards']\n",
    "        team=str(team)\n",
    "        team=team.replace('Defenders','').replace('Midfielders','').replace('Forwards','').replace('\\\"]','').replace(\"']\",'').replace(\"(Barcelona)Spain coach Luis Enrique on selecting 24 players instead of 26\",'(Barcelona)').replace(\"', ''\",\"\")\n",
    "        team=team.split(':')\n",
    "        team=team[1:5]\n",
    "        team_final=dict(zip(categories,team))\n",
    "        return team_final\n",
    "    except:\n",
    "        return 'error'\n",
    "\n"
   ]
  },
  {
   "cell_type": "code",
   "execution_count": null,
   "id": "690f43cc",
   "metadata": {},
   "outputs": [],
   "source": [
    "players=[team_to_dict(teams) for teams in players]\n",
    "players\n"
   ]
  },
  {
   "cell_type": "code",
   "execution_count": 127,
   "id": "9a4ba77f",
   "metadata": {},
   "outputs": [],
   "source": [
    "#res = dict(zip(listK, listV)) \n",
    "\n",
    "roster= dict(zip(columns,players))"
   ]
  },
  {
   "cell_type": "code",
   "execution_count": 165,
   "id": "03987fb3",
   "metadata": {},
   "outputs": [],
   "source": [
    "with open ('roster.json','w') as outfile:\n",
    "    json.dump(roster, outfile)"
   ]
  },
  {
   "cell_type": "markdown",
   "id": "3d88bce1",
   "metadata": {},
   "source": [
    "Next we create a file with all players, accessible individually, organized by team"
   ]
  },
  {
   "cell_type": "code",
   "execution_count": 137,
   "id": "1d779fbc",
   "metadata": {},
   "outputs": [],
   "source": [
    "def player_list(x):\n",
    "    final_res=[]\n",
    "    new=[]\n",
    "    for data in x.values():\n",
    "        data=str(data); data.split(',')\n",
    "        new.append(data)\n",
    "    \n",
    "        for d in new:\n",
    "            d=d.replace(\"{'Goalkeepers': ' \",'').replace(\" 'Defenders': ' \",'').replace(\"'Defenders':\",'').replace('Defenders: \" ','').replace(\" 'Midfielders': ' \",'').replace(\"'Midfielders': \",'').replace(\" 'Forwards': ' \",'').replace(\"'\",\"\").replace(\"}\",\"\").replace('\"','')\n",
    "            d=(re.sub(r\" \\(.*?\\)\",\"\",d))\n",
    "            d=d.split(',')\n",
    "            d_=[]\n",
    "            for y in d:\n",
    "                d_.append(y.strip())\n",
    "            final_res.append(d_)   \n",
    "            new=[]\n",
    "    return final_res\n",
    "            "
   ]
  },
  {
   "cell_type": "code",
   "execution_count": 144,
   "id": "d3d1a10e",
   "metadata": {
    "scrolled": false
   },
   "outputs": [],
   "source": [
    "all_players=player_list(roster)\n",
    "all_players_dict=dict(zip(columns,all_players))\n"
   ]
  },
  {
   "cell_type": "code",
   "execution_count": 145,
   "id": "5d8cdfaa",
   "metadata": {},
   "outputs": [],
   "source": [
    "with open ('all_players_raw.json','w') as outfile:\n",
    "    json.dump(all_players_dict, outfile)"
   ]
  }
 ],
 "metadata": {
  "kernelspec": {
   "display_name": "Python 3",
   "language": "python",
   "name": "python3"
  },
  "language_info": {
   "codemirror_mode": {
    "name": "ipython",
    "version": 3
   },
   "file_extension": ".py",
   "mimetype": "text/x-python",
   "name": "python",
   "nbconvert_exporter": "python",
   "pygments_lexer": "ipython3",
   "version": "3.9.5"
  },
  "toc": {
   "base_numbering": 1,
   "nav_menu": {},
   "number_sections": true,
   "sideBar": true,
   "skip_h1_title": false,
   "title_cell": "Table of Contents",
   "title_sidebar": "Contents",
   "toc_cell": false,
   "toc_position": {},
   "toc_section_display": true,
   "toc_window_display": false
  }
 },
 "nbformat": 4,
 "nbformat_minor": 5
}
