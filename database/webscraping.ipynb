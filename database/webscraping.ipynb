{
 "cells": [
  {
   "cell_type": "markdown",
   "id": "48931257",
   "metadata": {},
   "source": [
    "# Web scraping for data\n",
    "the idea here is to get some data from webpages to complement de data sets\n"
   ]
  },
  {
   "cell_type": "code",
   "execution_count": 2,
   "id": "ab698ddc",
   "metadata": {},
   "outputs": [],
   "source": [
    "import requests\n",
    "from bs4 import BeautifulSoup\n",
    "import csv\n",
    "import json"
   ]
  },
  {
   "cell_type": "code",
   "execution_count": 3,
   "id": "20bf2862",
   "metadata": {},
   "outputs": [
    {
     "name": "stdout",
     "output_type": "stream",
     "text": [
      "['Austria', 'Belgium', 'Croatia', 'Czech Republic', 'Denmark', 'England', 'Finland', 'France', 'Germany', 'Hungary', 'Italy', 'Netherlands', 'North Macedonia', 'Poland', 'Portugal', 'Russia', 'Scotland', 'Slovakia', 'Spain', 'Sweden', 'Switzerland', 'Turkey', 'Ukraine', 'Wales']\n"
     ]
    }
   ],
   "source": [
    "url='https://www.uefa.com/uefaeuro-2020/news/0269-12464679fb2e-84fa175e53ca-1000--all-the-euro-2020-squads/'\n",
    "    \n",
    "res=requests.get(url)\n",
    "\n",
    "soup = BeautifulSoup(res.text)\n",
    "\n",
    "\n",
    "a=soup.select(\"a b\",class_=\"accordion-container accordion\")\n",
    "columns=[]\n",
    "for data in a:\n",
    "    columns.append(data.text)\n",
    "print(columns)"
   ]
  },
  {
   "cell_type": "code",
   "execution_count": 4,
   "id": "b01cb11f",
   "metadata": {},
   "outputs": [],
   "source": [
    "players=[]\n",
    "match=soup.find_all('div',class_=\"accordion-container accordion\")\n",
    "for e in match:\n",
    "    \n",
    "     players.append(e.get_text())"
   ]
  },
  {
   "cell_type": "code",
   "execution_count": 159,
   "id": "b7ada2ef",
   "metadata": {},
   "outputs": [],
   "source": [
    "players=[[e.get_text().replace('\\ufeff','')] for e in match]\n"
   ]
  },
  {
   "cell_type": "code",
   "execution_count": 158,
   "id": "5579779f",
   "metadata": {},
   "outputs": [],
   "source": [
    "\n",
    "def team_to_dict(team):\n",
    "    try:\n",
    "        categories=['Goalkeepers','Defenders','Midfielders','Forwards']\n",
    "        team=str(team)\n",
    "        team=team.replace('Defenders','').replace('Midfielders','').replace('Forwards','').replace('\\\"]','').replace(\"']\",'').replace(\"(Barcelona)Spain coach Luis Enrique on selecting 24 players instead of 26\",'(Barcelona)').replace(\"', ''\",\"\")\n",
    "        team=team.split(':')\n",
    "        team=team[1:5]\n",
    "        team_final=dict(zip(categories,team))\n",
    "        return team_final\n",
    "    except:\n",
    "        return 'error'\n",
    "\n"
   ]
  },
  {
   "cell_type": "code",
   "execution_count": 161,
   "id": "690f43cc",
   "metadata": {},
   "outputs": [
    {
     "data": {
      "text/plain": [
       "[{'Goalkeepers': ' Daniel Bachmann (Watford), Pavao Pervan (Wolfsburg), Alexander Schlager (LASK) ',\n",
       "  'Defenders': ' David Alaba (Bayern), Aleksandar Dragović (Leverkusen), Marco Friedl (Werder Bremen), Martin Hinteregger (Frankfurt), Stefan Lainer (Mönchengladbach), Philipp Lienhart (Freiburg), Stefan Posch (Hoffenheim), Andreas Ulmer (Salzburg) ',\n",
       "  'Midfielders': ' Julian Baumgartlinger (Leverkusen), Christoph Baumgartner (Hoffenheim), Florian Grillitsch (Hoffenheim), Stefan Ilsanker (Frankfurt), Konrad Laimer (Leipzig), Valentino Lazaro (Internazionale), Karim Onisiwo (Mainz), Marcel Sabitzer (Leipzig), Louis Schaub (Luzern), Xaver Schlager (Wolfsburg), Alessandro Schöpf (Schalke), Christopher Trimmel (Union Berlin)',\n",
       "  'Forwards': ' Marko Arnautović (Shanghai Port), Michael Gregoritsch (Augsburg), Sasa Kalajdzic (Stuttgart)'},\n",
       " {'Goalkeepers': ' Thibaut Courtois (Real Madrid), Matz Sels (Strasbourg), Thomas Kaminski (Blackburn) ',\n",
       "  'Defenders': ' Toby Alderweireld (Tottenham), Dedryck Boyata (Hertha Berlin), Timothy Castagne (Leicester), Jason Denayer (Lyon), Thomas Meunier (Dortmund), Thomas Vermaelen (Vissel Kobe), Jan Vertonghen (Benfica)',\n",
       "  'Midfielders': ' Nacer Chadli (İstanbul Başakşehir), Yannick Carrasco (Atlético Madrid), Kevin De Bruyne (Manchester City), Leander Dendoncker (Wolves), Eden Hazard (Real Madrid), Thorgan Hazard (Dortmund), Dennis Praet (Leicester), Youri Tielemans (Leicester), Hans Vanaken (Club Brugge), Axel Witsel (Dortmund)',\n",
       "  'Forwards': ' Michy Batshuayi (Crystal Palace), Christian Benteke (Crystal Palace), Jeremy Doku (Rennes), Romelu Lukaku (Inter Milan), Dries Mertens (Napoli), Leandro Trossard (Brighton) '},\n",
       " {'Goalkeepers': ' Dominik Livaković (Dinamo Zagreb), Lovre Kalinić (Hajduk Split), Simon Sluga (Luton)',\n",
       "  'Defenders': ' Borna Barišić (Rangers), Domagoj Bradarić (LOSC Lille), Duje Ćaleta-Car (Marseille), Joško Gvardiol (Leipzig), Josip Juranović (Legia Warszawa), Dejan Lovren (Zenit), Mile Škorić (Osijek), Domagoj Vida (Beşiktaş), Šime Vrsaljko (Atlético Madrid)',\n",
       "  'Midfielders': ' Mateo Kovačić (Chelsea), Luka Modrić (Real Madrid), Marcelo Brozović (Inter Milan), Milan Badelj (Genoa), Nikola Vlašić (CSKA Moskva), Mario Pašalić (Atalanta), Ivan Perišić (Inter Milan), Mislav Oršić (Dinamo Zagreb), Luka Ivanušec (Dinamo Zagreb)',\n",
       "  'Forwards': ' Josip Brekalo (Wolfsburg), Ante Budimir (Osasuna), Andrej Kramarić (Hoffenheim), Bruno Petković (Dinamo Zagreb), Ante Rebić (AC Milan)'},\n",
       " {'Goalkeepers': ' Tomáš Koubek (Augsburg), Aleš Mandous (Olomouc), Tomáš Vaclík (Sevilla)',\n",
       "  'Defenders': ' Jan Bořil (Slavia Praha), Jakub Brabec (Viktoria Plzeň), Ondřej Čelůstka (Sparta Praha), Vladimír Coufal (West Ham), Pavel Kadeřábek (Hoffenheim), Tomáš Kalas (Bristol City), Tomáš Holeš (Slavia Praha), Aleš Matějů (Brescia), David Zima (Slavia Praha)',\n",
       "  'Midfielders': ' Antonín Barák (Verona), Vladimír Darida (Hertha Berlin), Jakub Jankto (Sampdoria), Alex Král (Spartak Moskva), Lukáš Masopust (Slavia Praha), Jakub Pešek (Sparta Praha), Michal Sadílek (Liberec), Petr Ševčík (Slavia Praha), Tomáš Souček (West Ham)',\n",
       "  'Forwards': ' Adam Hložek (Sparta Praha), Michael Krmenčík (PAOK), Tomáš Pekhart (Legia), Patrik Schick (Leverkusen), Matěj Vydra (Burnley)'},\n",
       " {'Goalkeepers': ' Jonas Lössl (Midtjylland), Frederik Rønnow (Schalke), Kasper Schmeichel (Leicester)',\n",
       "  'Defenders': ' Joachim Andersen (Fulham), Nicolai Boilesen (Copenhagen), Andreas Christensen (Chelsea), Mathias Jørgensen (Copenhagen), Simon Kjær (AC Milan), Joakim Mæhle (Atalanta), Jens Stryger Larsen (Udinese), Jannik Vestergaard (Southampton)',\n",
       "  'Midfielders': ' Anders Christiansen (Malmö), Thomas Delaney (Dortmund), Christian Eriksen (Inter Milan), Pierre-Emile Højbjerg (Tottenham), Mathias Jensen (Brentford), Christian Nørgaard (Brentford), Robert Skov (Hoffenheim), Daniel Wass (Valencia)',\n",
       "  'Forwards': ' Martin Braithwaite (Barcelona), Andreas Cornelius (Parma), Mikkel Damsgaard (Sampdoria), Kasper Dolberg (Nice), Andreas Skov Olsen (Bologna), Yussuf Poulsen (Leipzig), Jonas Wind (Copenhagen)'},\n",
       " {'Goalkeepers': ' Sam Johnstone (West Bromwich Albion), Jordan Pickford (Everton), Aaron Ramsdale (Sheffield United)',\n",
       "  'Defenders': ' Ben Chilwell (Chelsea), Conor Coady (Wolves), Reece James (Chelsea), Harry Maguire (Manchester United), Tyrone Mings (Aston Villa), Luke Shaw (Manchester United), John Stones (Manchester City), Kieran Trippier (Atlético), Kyle Walker (Manchester City), Ben White (Brighton)',\n",
       "  'Midfielders': ' Jude Bellingham (Dortmund), Phil Foden (Manchester City), Jack Grealish (Aston Villa), Jordan Henderson (Liverpool), Mason Mount (Chelsea), Kalvin Phillips (Leeds United), Declan Rice (West Ham), Bukayo Saka (Arsenal), Jadon Sancho (Dortmund)',\n",
       "  'Forwards': ' Dominic Calvert-Lewin (Everton), Harry Kane (Tottenham), Marcus Rashford (Manchester United), Raheem Sterling (Manchester City)'},\n",
       " {'Goalkeepers': ' Lukas Hradecky (Leverkusen), Anssi Jaakkola (Bristol Rovers), Jesse Joronen (Brescia)',\n",
       "  'Defenders': \" Paulus Arajuuri (Pafos), Robert Ivanov (Warta Poznań), Thomas Lam (Zwolle), Daniel O'Shaughnessy (HJK Helsinki), Jukka Raitala (Minnesota United), Joona Toivio (Häcken), Jere Uronen (Genk), Nicholas Hämäläinen (QPR), Sauli Väisänen (Chievo)\",\n",
       "  'Midfielders': ' Nikolai Alho (MTK Budapest), Fredrik Jensen (Augsburg), Glen Kamara (Rangers), Joni Kauko (Esbjerg), Robin Lod (Minnesota United), Rasmus Schüller (Djurgården), Pyry Soiri (Esbjerg), Tim Sparv (Larissa), Robert Taylor (Brann), Onni Valakari (Pafos)',\n",
       "  'Forwards': ' Marcus Forss (Brentford), Lassi Lappalainen (Montréal), Joel Pohjanpalo (Union Berlin), Teemu Pukki (Norwich)'},\n",
       " {'Goalkeepers': ' Hugo Lloris (Tottenham), Mike Maignan (Milan), Steve Mandanda (Marseille)',\n",
       "  'Defenders': ' Lucas Digne (Everton), Léo Dubois (Lyon), Lucas Hernández (Bayern), Presnel Kimpembe (Paris), Jules Koundé (Sevilla), Clément Lenglet (Barcelona), Benjamin Pavard (Bayern), Raphaël Varane (Real Madrid), Kurt Zouma (Chelsea)',\n",
       "  'Midfielders': \" Kingsley Coman (Bayern), N'Golo Kanté (Chelsea), Thomas Lemar (Atlético Madrid), Paul Pogba (Manchester United), Adrien Rabiot (Juventus), Moussa Sissoko (Tottenham), Corentin Tolisso (Bayern)\",\n",
       "  'Forwards': ' Wissam Ben Yedder (Monaco), Karim Benzema (Real Madrid), Ousmane Dembélé (Barcelona), Olivier Giroud (Chelsea), Antoine Griezmann (Barcelona), Kylian Mbappé (Paris), Marcus Thuram (Mönchengladbach)'},\n",
       " {'Goalkeepers': ' Manuel Neuer (Bayern), Bernd Leno (Arsenal), Kevin Trapp (Frankfurt)',\n",
       "  'Defenders': ' Emre Can (Dortmund), Matthias Ginter (Mönchengladbach), Robin Gosens (Atalanta), Christian Günter (Freiburg), Marcel Halstenberg (Leipzig), Mats Hummels (Dortmund), Lukas Klostermann (Leipzig), Robin Koch (Leeds), Antonio Rüdiger (Chelsea), Niklas Süle (Bayern)',\n",
       "  'Midfielders': ' Serge Gnabry (Bayern), Leon Goretzka (Bayern), İlkay Gündoğan (Manchester City), Jonas Hofmann (Mönchengladbach), Joshua Kimmich (Bayern), Toni Kroos (Real Madrid), Jamal Musiala (Bayern), Florian Neuhaus (Mönchengladbach), Leroy Sané (Bayern)',\n",
       "  'Forwards': ' Kai Havertz (Chelsea), Thomas Müller (Bayern), Kevin Volland (Monaco), Timo Werner (Chelsea)'},\n",
       " {'Goalkeepers': ' Ádám Bogdán (Ferencváros), Dénes Dibusz (Ferencváros), Péter Gulácsi (Leipzig)',\n",
       "  'Defenders': ' Bendegúz Bolla (Fehérvár), Endre Botka (Ferencváros), Attila Fiola (Fehérvár), Ákos Kecskés (Lugano), Ádám Lang (Omonoia), Gergő Lovrencsics (Ferencváros), Loïc Négo (Fehérvár), Willi Orbán (Leipzig), Attila Szalai (Fenerbahçe)',\n",
       "  'Midfielders': ' Tamás Cseri (Mezőkövesd), Dániel Gazdag (Philadelphia Union), László Kleinheisler (Osijek), Ádám Nagy (Bristol City), András Schäfer (Dunajská Streda), Dávid Sigér (Ferencváros), Kevin Varga (Kasımpaşa), Roland Varga (MTK Budapest)',\n",
       "  'Forwards': ' János Hahn (Paks), Filip Holender (Partizan), Nemanja Nikolić (Fehérvár), Roland Sallai (Freiburg), Szabolcs Schön (FC Dallas), Ádám Szalai (Mainz)'},\n",
       " {'Goalkeepers': ' Gianluigi Donnarumma (Milan), Alex Meret (Napoli), Salvatore Sirigu (Torino)',\n",
       "  'Defenders': ' Francesco Acerbi (Lazio), Alessandro Bastoni (Inter), Leonardo Bonucci (Juventus), Giorgio Chiellini (Juventus), Giovanni Di Lorenzo (Napoli), Emerson (Chelsea), Alessandro Florenzi (Paris), Leonardo Spinazzola (Roma), Rafael Tolói (Atalanta)',\n",
       "  'Midfielders': ' Nicolò Barella (Inter), Federico Bernardeschi (Juventus), Federico Chiesa (Juventus), Bryan Cristante (Roma), Jorginho (Chelsea), Manuel Locatelli (Sassuolo), Matteo Pessina (Atalanta), Marco Verratti (Paris), Gaetano Castrovilli (Fiorentina)',\n",
       "  'Forwards': ' Andrea Belotti (Torino), Domenico Berardi (Sassuolo), Ciro Immobile (Lazio), Lorenzo Insigne (Napoli), Giacomo Raspadori (Sassuolo)'},\n",
       " {'Goalkeepers': ' Marco Bizot (AZ), Tim Krul (Norwich), Maarten Stekelenburg (Ajax)',\n",
       "  'Defenders': ' Nathan Aké (Manchester City), Daley Blind (Ajax), Matthijs de Ligt (Juventus), Stefan de Vrij (Inter Milan), Denzel Dumfries (PSV), Patrick van Aanholt (Crystal Palace), Joël Veltman (Brighton), Owen Wijndal (AZ)',\n",
       "  'Midfielders': ' Frenkie de Jong (Barcelona), Marten de Roon (Atalanta), Ryan Gravenberch (Ajax), Davy Klaassen (Ajax), Teun Koopmeiners (AZ), Quincy Promes (Spartak Moskva), Jurriën Timber (Ajax), Georginio Wijnaldum (Liverpool)',\n",
       "  'Forwards': ' Steven Berghuis (Feyenoord), Luuk de Jong (Sevilla), Memphis Depay (Lyon), Cody Gakpo (PSV), Donyell Malen (PSV Eindhoven), Wout Weghorst (Wolfsburg)'},\n",
       " {'Goalkeepers': ' Stole Dimitrievski (Rayo Vallecano), Risto Jankov (Rabotnicki), Damjan Siskovski (Doxa Katokopia)',\n",
       "  'Defenders': ' Ezgjan Alioski (Leeds), Egzon Bejtulai (Shkëndija), Visar Musliu (Fehérvár), Kire Ristevski (Újpest), Stefan Ristovski (Dinamo Zagreb), Darko Velkovski (Rijeka), Gjoko Zajkov (Charleroi)',\n",
       "  'Midfielders': ' Arijan Ademi (Dinamo Zagreb), Enis Bardi (Levante), Darko Churlinov (Stuttgart), Eljif Elmas (Napoli), Ferhan Hasani (Partizani), Tihomir Kostadinov (Ružomberok), Boban Nikolov (Lecce), Milan Ristovski (Spartak Trnava), Stefan Spirovski (AEK Larnaca)',\n",
       "  'Forwards': ' Daniel Avramovski (Kayserispor), Goran Pandev (Genoa), Marjan Radeski (Akademija Pandev), Vlatko Stojanovski (Chambly), Aleksandar Trajkovski (Mallorca), Ivan Tričkovski (AEK Larnaca), Krste Velkoski (Sarajevo)'},\n",
       " {'Goalkeepers': ' Łukasz Fabiański (West Ham), Łukasz Skorupski (Bologna), Wojciech Szczęsny (Juventus)',\n",
       "  'Defenders': ' Jan Bednarek (Southampton), Bartosz Bereszyński (Sampdoria), Kamil Glik (Benevento), Michał Helik (Barnsley), Tomasz Kędziora (Dynamo Kyiv), Kamil Piątkowski (Raków Częstochowa), Tymoteusz Puchacz (Lech Poznań), Maciej Rybus (Lokomotiv Moskva)',\n",
       "  'Midfielders': ' Paweł Dawidowicz (Verona), Przemysław Frankowski (Chicago Fire), Kamil Jóźwiak (Derby), Mateusz Klich (Leeds), Kacper Kozłowski (Pogoń Szczecin), Grzegorz Krychowiak (Lokomotiv Moskva), Karol Linetty (Torino), Jakub Moder (Brighton), Przemysław Płacheta (Norwich), Piotr Zieliński (Napoli)',\n",
       "  'Forwards': ' Dawid Kownacki (Fortuna Düsseldorf), Robert Lewandowski (Bayern), Karol Świderski (PAOK), Jakub Świerczok (Piast Gliwice)'},\n",
       " {'Goalkeepers': ' Anthony Lopes (Lyon), Rui Patrício (Wolves), Rui Silva (Granada)',\n",
       "  'Defenders': '  Rúben Dias (Manchester City), José Fonte (LOSC Lille), Raphael Guerreiro (Dortmund), Nuno Mendes (Sporting CP), Pepe (Porto), Nélson Semedo (Wolves), Diogo Dalot (AC Milan)',\n",
       "  'Midfielders': ' William Carvalho (Real Betis), Danilo (Paris), Bruno Fernandes (Manchester United), Gonçalo Guedes (Valencia), João Moutinho (Wolves), Rúben Neves (Wolves), Sérgio Oliveira (Porto), João Palhinha (Sporting CP), Pote (Sporting CP), Renato Sanches (LOSC Lille), Bernardo Silva (Manchester City)',\n",
       "  'Forwards': ' João Félix (Atlético Madrid), Diogo Jota (Liverpool), Cristiano Ronaldo (Juventus), André Silva (Eintracht Frankfurt), Rafa Silva (Benfica)'},\n",
       " {'Goalkeepers': ' Yuri Dyupin (Rubin), Matvei Safonov (Krasnodar), Anton Shunin (Dinamo Moskva) ',\n",
       "  'Defenders': ' Igor Diveev (CSKA Moskva), Georgi Dzhikiya (Spartak Moskva), Mário Fernandes (CSKA Moskva), Vyacheslav Karavaev (Zenit), Fedor Kudryashov (Antalyaspor), Andrei Semenov (Akhmat), Roman Evgenyev (Dinamo Moskva)',\n",
       "  'Midfielders': ' Dmitri Barinov (Lokomotiv Moskva), Denis Cheryshev (Valencia), Daniil Fomin (Dinamo Moskva), Aleksandr Golovin (Monaco), Daler Kuzyaev (Zenit), Maksim Mukhin (CSKA Moskva), Magomed Ozdoev (Zenit), Rifat Zhemaletdinov (Lokomotiv Moskva), Yuri Zhirkov (Zenit), Roman Zobnin (Spartak Moskva)',\n",
       "  'Forwards': ' Artem Dzyuba (Zenit), Aleksei Ionov (Krasnodar), Denis Makarov (Rubin), Aleksei Miranchuk (Atalanta), Aleksandr Sobolev (Spartak Moskva), Anton Zabolotny (CSKA Moskva)'},\n",
       " {'Goalkeepers': ' Craig Gordon (Hearts), David Marshall (Derby), Jon McLaughlin (Rangers)',\n",
       "  'Defenders': \" Liam Cooper (Leeds), Declan Gallagher (Motherwell), Grant Hanley (Norwich), Jack Hendry (Celtic), Scott McKenna (Nottingham Forest), Stephen O'Donnell (Motherwell), Nathan Patterson (Rangers), Andy Robertson (Liverpool), Greg Taylor (Celtic), Kieran Tierney (Arsenal)\",\n",
       "  'Midfielders': ' Stuart Armstrong (Southampton), Ryan Christie (Celtic), John Fleck (Sheffield United), James Forrest (Celtic), Ryan Fraser (Newcastle United), Billy Gilmour (Chelsea), John McGinn (Aston Villa), Callum McGregor (Celtic), Scott McTominay (Manchester United), David Turnbull (Celtic)',\n",
       "  'Forwards': ' Ché Adams (Southampton), Lyndon Dykes (QPR), Kevin Nisbet (Hibernian)'},\n",
       " {'Goalkeepers': ' Martin Dúbravka (Newcastle), Dušan Kuciak (Lechia Gdańsk), Marek Rodák (Fulham)',\n",
       "  'Defenders': ' Dávid Hancko (Sparta Praha), Tomáš Hubočan (Omonoia), Martin Koscelník (Liberec), Peter Pekarík (Hertha Berlin), Ľubomír Šatka (Lech Poznań), Milan Škriniar (Inter Milan), Martin Valjent (Mallorca), Denis Vavro (Huesca)',\n",
       "  'Midfielders': ' László Bénes (Augsburg), Ondrej Duda (Köln), Ján Greguš (Minnesota), Marek Hamšík (IFK Göteborg), Lukáš Haraslín (Sassuolo), Jakub Hromada (Slavia Praha), Patrik Hrošovský (Genk), Juraj Kucka (Parma), Stanislav Lobotka (Napoli), Tomáš Suslov (Groningen), Vladimír Weiss (Slovan Bratislava)',\n",
       "  'Forwards': ' Róbert Boženík (Feyenoord), Michal Ďuriš (Omonoia), Róbert Mak (Ferencváros), Ivan Schranz (Jablonec)'},\n",
       " {'Goalkeepers': ' David de Gea (Manchester United), Unai Simón (Athletic), Robert Sánchez (Brighton & Hove Albion)',\n",
       "  'Defenders': ' José Gayà (Valencia), Jordi Alba (Barcelona), Pau Torres (Villarreal), Aymeric Laporte (Manchester City), Eric García (Manchester City), Diego Llorente (Leeds United), César Azpilicueta (Chelsea)',\n",
       "  'Midfielders': ' Thiago Alcántara (Liverpool), Sergio Busquets (Barcelona), Koke (Atlético), Marcos Llorente (Atlético), Dani Olmo (Leipzig), Rodri (Manchester City), Fabián Ruiz (Napoli), Pablo Sarabia (Paris), Ferran Torres (Manchester City), Adama Traoré (Wolves)',\n",
       "  'Forwards': ' Álvaro Morata (Juventus), Gerard Moreno (Villarreal), Mikel Oyarzabal (Real Sociedad), Pedri (Barcelona)'},\n",
       " {'Goalkeepers': ' Karl-Johan Johnsson (København), Kristoffer Nordfeldt (Gençlerbirliği), Robin Olsen (Everton)',\n",
       "  'Defenders': ' Ludwig Augustinsson (Werder Bremen), Pierre Bengtsson (Vejle), Marcus Danielson (Dalian Yifang), Andreas Granqvist (Helsingborg), Filip Helander (Rangers), Pontus Jansson (Brentford), Emil Krafth (Newcastle United), Victor Lindelöf (Manchester United), Mikael Lustig (AIK)',\n",
       "  'Midfielders': ' Jens-Lys Cajuste (Midtjylland), Viktor Claesson (Krasnodar), Albin Ekdal (Sampdoria), Emil Forsberg (Leipzig), Dejan Kulusevski (Juventus), Sebastian Larsson (AIK), Kristoffer Olsson (Krasnodar), Robin Quaison (Mainz), Ken Sema (Watford), Mattias Svanberg (Bologna), Gustav Svensson (Guangzhou)',\n",
       "  'Forwards': ' Marcus Berg (Krasnodar), Alexander Isak (Real Sociedad), Jordan Larsson (Spartak Moskva)'},\n",
       " {'Goalkeepers': ' Yvon Mvogo (PSV), Yann Sommer (Mönchengladbach), Gregor Kobel (Stuttgart)',\n",
       "  'Defenders': ' Manuel Akanji (Dortmund), Loris Benito (Bordeaux), Eray Cömert (Basel), Nico Elvedi (Mönchengladbach), Jordan Lotomba (Nice), Kevin Mbabu (Wolfsburg), Becir Omeragic (Zürich), Ricardo Rodríguez (Torino), Fabian Schär (Newcastle United), Silvan Widmer (Basel)',\n",
       "  'Midfielders': ' Christian Fassnacht (Young Boys), Edimilson Fernandes (Mainz), Remo Freuler (Atalanta), Xherdan Shaqiri (Liverpool), Djibril Sow (Frankfurt), Ruben Vargas (Augsburg), Granit Xhaka (Arsenal), Denis Zakaria (Mönchengladbach), Steven Zuber (Frankfurt)',\n",
       "  'Forwards': ' Breel Embolo (Mönchengladbach), Mario Gavranović (Dinamo Zagreb), Admir Mehmedi (Wolfsburg), Haris Seferović (Benfica)'},\n",
       " {'Goalkeepers': ' Altay Bayındır (Fenerbahçe), Uğurcan Çakır (Trabzonspor), Mert Günok (İstanbul Başakşehir)',\n",
       "  'Defenders': ' Kaan Ayhan (Sassuolo), Zeki Çelik (LOSC Lille), Merih Demiral (Juventus), Ozan Kabak (Liverpool), Umut Meraş (Le Havre), Mert Müldür (Sassuolo), Çağlar Söyüncü (Leicester), Rıdvan Yılmaz (Beşiktaş)',\n",
       "  'Midfielders': ' Taylan Antalyalı (Galatasaray), Hakan Çalhanoğlu (AC Milan), Halil Dervişoğlu (Brentford), İrfan Can Kahveci (Fenerbahçe), Orkun Kökçü (Feyenoord), Abdülkadir Ömür (Trabzonspor), Dorukhan Toköz (Beşiktaş), Ozan Tufan (Fenerbahçe), Okay Yokuşlu (West Brom)',\n",
       "  'Forwards': ' M. Kerem Aktürkoğlu (Galatasaray), Kenan Karaman (Fortuna Düsseldorf), Enes Ünal (Getafe), Cengiz Ünder (Leicester), Yusuf Yazıcı (LOSC Lille), Burak Yılmaz (LOSC Lille)'},\n",
       " {'Goalkeepers': ' Georgiy Bushchan (Dynamo Kyiv), Andriy Pyatov (Shakhtar Donetsk), Anatolii Trubin (Shakhtar Donetsk)',\n",
       "  'Defenders': ' Oleksandr Karavaev (Dynamo Kyiv), Serhiy Kryvtsov (Shakhtar Donetsk), Mykola Matviyenko (Shakhtar Donetsk), Vitaliy Mykolenko (Dynamo Kyiv), Denys Popov (Dynamo Kyiv), Eduard Sobol (Club Brugge), Oleksandr Tymchyk (Dynamo Kyiv), Illia Zabarnyi (Dynamo Kyiv), Oleksandr Zinchenko (Manchester City)',\n",
       "  'Midfielders': ' Roman Bezus (Gent), Yevhen Makarenko (Kortrijk), Ruslan Malinovskyi (Atalanta), Marlos (Shakhtar Donetsk), Mykola Shaparenko (Dynamo Kyiv), Taras Stepanenko (Shakhtar Donetsk), Heorhii Sudakov (Shakhtar Donetsk), Serhiy Sydorchuk (Dynamo Kyiv), Viktor Tsygankov (Dynamo Kyiv)',\n",
       "  'Forwards': ' Artem Besedin (Dynamo Kyiv), Artem Dovbyk (Dnipro-1), Roman Yaremchuk (Gent), Andriy Yarmolenko (West Ham), Oleksandr Zubkov (Ferencváros)'},\n",
       " {'Goalkeepers': ' Adam Davies (Stoke City), Wayne Hennessey (Crystal Palace), Danny Ward (Leicester City)',\n",
       "  'Defenders': ' Ethan Ampadu (Chelsea), Ben Cabango (Swansea City), Ben Davies (Tottenham), Chris Gunter (Charlton Athletic), Tom Lockyer (Luton Town), Chris Mepham (Bournemouth), Rhys Norrington-Davies (Sheffield United), Connor Roberts (Swansea City), Joe Rodon (Tottenham), Neco Williams (Liverpool)',\n",
       "  'Midfielders': ' Joe Allen (Stoke City), David Brooks (Bournemouth), Rubin Colwill (Cardiff City), Daniel James (Manchester United), Dylan Levitt (Manchester United), Joe Morrell (Luton Town), Aaron Ramsey (Juventus), Matthew Smith (Manchester City), Jonny Williams (Cardiff City), Harry Wilson (Liverpool)',\n",
       "  'Forwards': ' Gareth Bale (Real Madrid), Kieffer Moore (Cardiff City), Tyler Roberts (Leeds United)'}]"
      ]
     },
     "execution_count": 161,
     "metadata": {},
     "output_type": "execute_result"
    }
   ],
   "source": [
    "players=[team_to_dict(teams) for teams in players]\n",
    "players\n"
   ]
  },
  {
   "cell_type": "code",
   "execution_count": 162,
   "id": "9a4ba77f",
   "metadata": {},
   "outputs": [],
   "source": [
    "#res = dict(zip(listK, listV)) \n",
    "\n",
    "roster= dict(zip(columns,players))"
   ]
  },
  {
   "cell_type": "code",
   "execution_count": 163,
   "id": "28292c6f",
   "metadata": {},
   "outputs": [
    {
     "data": {
      "text/plain": [
       "{'Austria': {'Goalkeepers': ' Daniel Bachmann (Watford), Pavao Pervan (Wolfsburg), Alexander Schlager (LASK) ',\n",
       "  'Defenders': ' David Alaba (Bayern), Aleksandar Dragović (Leverkusen), Marco Friedl (Werder Bremen), Martin Hinteregger (Frankfurt), Stefan Lainer (Mönchengladbach), Philipp Lienhart (Freiburg), Stefan Posch (Hoffenheim), Andreas Ulmer (Salzburg) ',\n",
       "  'Midfielders': ' Julian Baumgartlinger (Leverkusen), Christoph Baumgartner (Hoffenheim), Florian Grillitsch (Hoffenheim), Stefan Ilsanker (Frankfurt), Konrad Laimer (Leipzig), Valentino Lazaro (Internazionale), Karim Onisiwo (Mainz), Marcel Sabitzer (Leipzig), Louis Schaub (Luzern), Xaver Schlager (Wolfsburg), Alessandro Schöpf (Schalke), Christopher Trimmel (Union Berlin)',\n",
       "  'Forwards': ' Marko Arnautović (Shanghai Port), Michael Gregoritsch (Augsburg), Sasa Kalajdzic (Stuttgart)'},\n",
       " 'Belgium': {'Goalkeepers': ' Thibaut Courtois (Real Madrid), Matz Sels (Strasbourg), Thomas Kaminski (Blackburn) ',\n",
       "  'Defenders': ' Toby Alderweireld (Tottenham), Dedryck Boyata (Hertha Berlin), Timothy Castagne (Leicester), Jason Denayer (Lyon), Thomas Meunier (Dortmund), Thomas Vermaelen (Vissel Kobe), Jan Vertonghen (Benfica)',\n",
       "  'Midfielders': ' Nacer Chadli (İstanbul Başakşehir), Yannick Carrasco (Atlético Madrid), Kevin De Bruyne (Manchester City), Leander Dendoncker (Wolves), Eden Hazard (Real Madrid), Thorgan Hazard (Dortmund), Dennis Praet (Leicester), Youri Tielemans (Leicester), Hans Vanaken (Club Brugge), Axel Witsel (Dortmund)',\n",
       "  'Forwards': ' Michy Batshuayi (Crystal Palace), Christian Benteke (Crystal Palace), Jeremy Doku (Rennes), Romelu Lukaku (Inter Milan), Dries Mertens (Napoli), Leandro Trossard (Brighton) '},\n",
       " 'Croatia': {'Goalkeepers': ' Dominik Livaković (Dinamo Zagreb), Lovre Kalinić (Hajduk Split), Simon Sluga (Luton)',\n",
       "  'Defenders': ' Borna Barišić (Rangers), Domagoj Bradarić (LOSC Lille), Duje Ćaleta-Car (Marseille), Joško Gvardiol (Leipzig), Josip Juranović (Legia Warszawa), Dejan Lovren (Zenit), Mile Škorić (Osijek), Domagoj Vida (Beşiktaş), Šime Vrsaljko (Atlético Madrid)',\n",
       "  'Midfielders': ' Mateo Kovačić (Chelsea), Luka Modrić (Real Madrid), Marcelo Brozović (Inter Milan), Milan Badelj (Genoa), Nikola Vlašić (CSKA Moskva), Mario Pašalić (Atalanta), Ivan Perišić (Inter Milan), Mislav Oršić (Dinamo Zagreb), Luka Ivanušec (Dinamo Zagreb)',\n",
       "  'Forwards': ' Josip Brekalo (Wolfsburg), Ante Budimir (Osasuna), Andrej Kramarić (Hoffenheim), Bruno Petković (Dinamo Zagreb), Ante Rebić (AC Milan)'},\n",
       " 'Czech Republic': {'Goalkeepers': ' Tomáš Koubek (Augsburg), Aleš Mandous (Olomouc), Tomáš Vaclík (Sevilla)',\n",
       "  'Defenders': ' Jan Bořil (Slavia Praha), Jakub Brabec (Viktoria Plzeň), Ondřej Čelůstka (Sparta Praha), Vladimír Coufal (West Ham), Pavel Kadeřábek (Hoffenheim), Tomáš Kalas (Bristol City), Tomáš Holeš (Slavia Praha), Aleš Matějů (Brescia), David Zima (Slavia Praha)',\n",
       "  'Midfielders': ' Antonín Barák (Verona), Vladimír Darida (Hertha Berlin), Jakub Jankto (Sampdoria), Alex Král (Spartak Moskva), Lukáš Masopust (Slavia Praha), Jakub Pešek (Sparta Praha), Michal Sadílek (Liberec), Petr Ševčík (Slavia Praha), Tomáš Souček (West Ham)',\n",
       "  'Forwards': ' Adam Hložek (Sparta Praha), Michael Krmenčík (PAOK), Tomáš Pekhart (Legia), Patrik Schick (Leverkusen), Matěj Vydra (Burnley)'},\n",
       " 'Denmark': {'Goalkeepers': ' Jonas Lössl (Midtjylland), Frederik Rønnow (Schalke), Kasper Schmeichel (Leicester)',\n",
       "  'Defenders': ' Joachim Andersen (Fulham), Nicolai Boilesen (Copenhagen), Andreas Christensen (Chelsea), Mathias Jørgensen (Copenhagen), Simon Kjær (AC Milan), Joakim Mæhle (Atalanta), Jens Stryger Larsen (Udinese), Jannik Vestergaard (Southampton)',\n",
       "  'Midfielders': ' Anders Christiansen (Malmö), Thomas Delaney (Dortmund), Christian Eriksen (Inter Milan), Pierre-Emile Højbjerg (Tottenham), Mathias Jensen (Brentford), Christian Nørgaard (Brentford), Robert Skov (Hoffenheim), Daniel Wass (Valencia)',\n",
       "  'Forwards': ' Martin Braithwaite (Barcelona), Andreas Cornelius (Parma), Mikkel Damsgaard (Sampdoria), Kasper Dolberg (Nice), Andreas Skov Olsen (Bologna), Yussuf Poulsen (Leipzig), Jonas Wind (Copenhagen)'},\n",
       " 'England': {'Goalkeepers': ' Sam Johnstone (West Bromwich Albion), Jordan Pickford (Everton), Aaron Ramsdale (Sheffield United)',\n",
       "  'Defenders': ' Ben Chilwell (Chelsea), Conor Coady (Wolves), Reece James (Chelsea), Harry Maguire (Manchester United), Tyrone Mings (Aston Villa), Luke Shaw (Manchester United), John Stones (Manchester City), Kieran Trippier (Atlético), Kyle Walker (Manchester City), Ben White (Brighton)',\n",
       "  'Midfielders': ' Jude Bellingham (Dortmund), Phil Foden (Manchester City), Jack Grealish (Aston Villa), Jordan Henderson (Liverpool), Mason Mount (Chelsea), Kalvin Phillips (Leeds United), Declan Rice (West Ham), Bukayo Saka (Arsenal), Jadon Sancho (Dortmund)',\n",
       "  'Forwards': ' Dominic Calvert-Lewin (Everton), Harry Kane (Tottenham), Marcus Rashford (Manchester United), Raheem Sterling (Manchester City)'},\n",
       " 'Finland': {'Goalkeepers': ' Lukas Hradecky (Leverkusen), Anssi Jaakkola (Bristol Rovers), Jesse Joronen (Brescia)',\n",
       "  'Defenders': \" Paulus Arajuuri (Pafos), Robert Ivanov (Warta Poznań), Thomas Lam (Zwolle), Daniel O'Shaughnessy (HJK Helsinki), Jukka Raitala (Minnesota United), Joona Toivio (Häcken), Jere Uronen (Genk), Nicholas Hämäläinen (QPR), Sauli Väisänen (Chievo)\",\n",
       "  'Midfielders': ' Nikolai Alho (MTK Budapest), Fredrik Jensen (Augsburg), Glen Kamara (Rangers), Joni Kauko (Esbjerg), Robin Lod (Minnesota United), Rasmus Schüller (Djurgården), Pyry Soiri (Esbjerg), Tim Sparv (Larissa), Robert Taylor (Brann), Onni Valakari (Pafos)',\n",
       "  'Forwards': ' Marcus Forss (Brentford), Lassi Lappalainen (Montréal), Joel Pohjanpalo (Union Berlin), Teemu Pukki (Norwich)'},\n",
       " 'France': {'Goalkeepers': ' Hugo Lloris (Tottenham), Mike Maignan (Milan), Steve Mandanda (Marseille)',\n",
       "  'Defenders': ' Lucas Digne (Everton), Léo Dubois (Lyon), Lucas Hernández (Bayern), Presnel Kimpembe (Paris), Jules Koundé (Sevilla), Clément Lenglet (Barcelona), Benjamin Pavard (Bayern), Raphaël Varane (Real Madrid), Kurt Zouma (Chelsea)',\n",
       "  'Midfielders': \" Kingsley Coman (Bayern), N'Golo Kanté (Chelsea), Thomas Lemar (Atlético Madrid), Paul Pogba (Manchester United), Adrien Rabiot (Juventus), Moussa Sissoko (Tottenham), Corentin Tolisso (Bayern)\",\n",
       "  'Forwards': ' Wissam Ben Yedder (Monaco), Karim Benzema (Real Madrid), Ousmane Dembélé (Barcelona), Olivier Giroud (Chelsea), Antoine Griezmann (Barcelona), Kylian Mbappé (Paris), Marcus Thuram (Mönchengladbach)'},\n",
       " 'Germany': {'Goalkeepers': ' Manuel Neuer (Bayern), Bernd Leno (Arsenal), Kevin Trapp (Frankfurt)',\n",
       "  'Defenders': ' Emre Can (Dortmund), Matthias Ginter (Mönchengladbach), Robin Gosens (Atalanta), Christian Günter (Freiburg), Marcel Halstenberg (Leipzig), Mats Hummels (Dortmund), Lukas Klostermann (Leipzig), Robin Koch (Leeds), Antonio Rüdiger (Chelsea), Niklas Süle (Bayern)',\n",
       "  'Midfielders': ' Serge Gnabry (Bayern), Leon Goretzka (Bayern), İlkay Gündoğan (Manchester City), Jonas Hofmann (Mönchengladbach), Joshua Kimmich (Bayern), Toni Kroos (Real Madrid), Jamal Musiala (Bayern), Florian Neuhaus (Mönchengladbach), Leroy Sané (Bayern)',\n",
       "  'Forwards': ' Kai Havertz (Chelsea), Thomas Müller (Bayern), Kevin Volland (Monaco), Timo Werner (Chelsea)'},\n",
       " 'Hungary': {'Goalkeepers': ' Ádám Bogdán (Ferencváros), Dénes Dibusz (Ferencváros), Péter Gulácsi (Leipzig)',\n",
       "  'Defenders': ' Bendegúz Bolla (Fehérvár), Endre Botka (Ferencváros), Attila Fiola (Fehérvár), Ákos Kecskés (Lugano), Ádám Lang (Omonoia), Gergő Lovrencsics (Ferencváros), Loïc Négo (Fehérvár), Willi Orbán (Leipzig), Attila Szalai (Fenerbahçe)',\n",
       "  'Midfielders': ' Tamás Cseri (Mezőkövesd), Dániel Gazdag (Philadelphia Union), László Kleinheisler (Osijek), Ádám Nagy (Bristol City), András Schäfer (Dunajská Streda), Dávid Sigér (Ferencváros), Kevin Varga (Kasımpaşa), Roland Varga (MTK Budapest)',\n",
       "  'Forwards': ' János Hahn (Paks), Filip Holender (Partizan), Nemanja Nikolić (Fehérvár), Roland Sallai (Freiburg), Szabolcs Schön (FC Dallas), Ádám Szalai (Mainz)'},\n",
       " 'Italy': {'Goalkeepers': ' Gianluigi Donnarumma (Milan), Alex Meret (Napoli), Salvatore Sirigu (Torino)',\n",
       "  'Defenders': ' Francesco Acerbi (Lazio), Alessandro Bastoni (Inter), Leonardo Bonucci (Juventus), Giorgio Chiellini (Juventus), Giovanni Di Lorenzo (Napoli), Emerson (Chelsea), Alessandro Florenzi (Paris), Leonardo Spinazzola (Roma), Rafael Tolói (Atalanta)',\n",
       "  'Midfielders': ' Nicolò Barella (Inter), Federico Bernardeschi (Juventus), Federico Chiesa (Juventus), Bryan Cristante (Roma), Jorginho (Chelsea), Manuel Locatelli (Sassuolo), Matteo Pessina (Atalanta), Marco Verratti (Paris), Gaetano Castrovilli (Fiorentina)',\n",
       "  'Forwards': ' Andrea Belotti (Torino), Domenico Berardi (Sassuolo), Ciro Immobile (Lazio), Lorenzo Insigne (Napoli), Giacomo Raspadori (Sassuolo)'},\n",
       " 'Netherlands': {'Goalkeepers': ' Marco Bizot (AZ), Tim Krul (Norwich), Maarten Stekelenburg (Ajax)',\n",
       "  'Defenders': ' Nathan Aké (Manchester City), Daley Blind (Ajax), Matthijs de Ligt (Juventus), Stefan de Vrij (Inter Milan), Denzel Dumfries (PSV), Patrick van Aanholt (Crystal Palace), Joël Veltman (Brighton), Owen Wijndal (AZ)',\n",
       "  'Midfielders': ' Frenkie de Jong (Barcelona), Marten de Roon (Atalanta), Ryan Gravenberch (Ajax), Davy Klaassen (Ajax), Teun Koopmeiners (AZ), Quincy Promes (Spartak Moskva), Jurriën Timber (Ajax), Georginio Wijnaldum (Liverpool)',\n",
       "  'Forwards': ' Steven Berghuis (Feyenoord), Luuk de Jong (Sevilla), Memphis Depay (Lyon), Cody Gakpo (PSV), Donyell Malen (PSV Eindhoven), Wout Weghorst (Wolfsburg)'},\n",
       " 'North Macedonia': {'Goalkeepers': ' Stole Dimitrievski (Rayo Vallecano), Risto Jankov (Rabotnicki), Damjan Siskovski (Doxa Katokopia)',\n",
       "  'Defenders': ' Ezgjan Alioski (Leeds), Egzon Bejtulai (Shkëndija), Visar Musliu (Fehérvár), Kire Ristevski (Újpest), Stefan Ristovski (Dinamo Zagreb), Darko Velkovski (Rijeka), Gjoko Zajkov (Charleroi)',\n",
       "  'Midfielders': ' Arijan Ademi (Dinamo Zagreb), Enis Bardi (Levante), Darko Churlinov (Stuttgart), Eljif Elmas (Napoli), Ferhan Hasani (Partizani), Tihomir Kostadinov (Ružomberok), Boban Nikolov (Lecce), Milan Ristovski (Spartak Trnava), Stefan Spirovski (AEK Larnaca)',\n",
       "  'Forwards': ' Daniel Avramovski (Kayserispor), Goran Pandev (Genoa), Marjan Radeski (Akademija Pandev), Vlatko Stojanovski (Chambly), Aleksandar Trajkovski (Mallorca), Ivan Tričkovski (AEK Larnaca), Krste Velkoski (Sarajevo)'},\n",
       " 'Poland': {'Goalkeepers': ' Łukasz Fabiański (West Ham), Łukasz Skorupski (Bologna), Wojciech Szczęsny (Juventus)',\n",
       "  'Defenders': ' Jan Bednarek (Southampton), Bartosz Bereszyński (Sampdoria), Kamil Glik (Benevento), Michał Helik (Barnsley), Tomasz Kędziora (Dynamo Kyiv), Kamil Piątkowski (Raków Częstochowa), Tymoteusz Puchacz (Lech Poznań), Maciej Rybus (Lokomotiv Moskva)',\n",
       "  'Midfielders': ' Paweł Dawidowicz (Verona), Przemysław Frankowski (Chicago Fire), Kamil Jóźwiak (Derby), Mateusz Klich (Leeds), Kacper Kozłowski (Pogoń Szczecin), Grzegorz Krychowiak (Lokomotiv Moskva), Karol Linetty (Torino), Jakub Moder (Brighton), Przemysław Płacheta (Norwich), Piotr Zieliński (Napoli)',\n",
       "  'Forwards': ' Dawid Kownacki (Fortuna Düsseldorf), Robert Lewandowski (Bayern), Karol Świderski (PAOK), Jakub Świerczok (Piast Gliwice)'},\n",
       " 'Portugal': {'Goalkeepers': ' Anthony Lopes (Lyon), Rui Patrício (Wolves), Rui Silva (Granada)',\n",
       "  'Defenders': '  Rúben Dias (Manchester City), José Fonte (LOSC Lille), Raphael Guerreiro (Dortmund), Nuno Mendes (Sporting CP), Pepe (Porto), Nélson Semedo (Wolves), Diogo Dalot (AC Milan)',\n",
       "  'Midfielders': ' William Carvalho (Real Betis), Danilo (Paris), Bruno Fernandes (Manchester United), Gonçalo Guedes (Valencia), João Moutinho (Wolves), Rúben Neves (Wolves), Sérgio Oliveira (Porto), João Palhinha (Sporting CP), Pote (Sporting CP), Renato Sanches (LOSC Lille), Bernardo Silva (Manchester City)',\n",
       "  'Forwards': ' João Félix (Atlético Madrid), Diogo Jota (Liverpool), Cristiano Ronaldo (Juventus), André Silva (Eintracht Frankfurt), Rafa Silva (Benfica)'},\n",
       " 'Russia': {'Goalkeepers': ' Yuri Dyupin (Rubin), Matvei Safonov (Krasnodar), Anton Shunin (Dinamo Moskva) ',\n",
       "  'Defenders': ' Igor Diveev (CSKA Moskva), Georgi Dzhikiya (Spartak Moskva), Mário Fernandes (CSKA Moskva), Vyacheslav Karavaev (Zenit), Fedor Kudryashov (Antalyaspor), Andrei Semenov (Akhmat), Roman Evgenyev (Dinamo Moskva)',\n",
       "  'Midfielders': ' Dmitri Barinov (Lokomotiv Moskva), Denis Cheryshev (Valencia), Daniil Fomin (Dinamo Moskva), Aleksandr Golovin (Monaco), Daler Kuzyaev (Zenit), Maksim Mukhin (CSKA Moskva), Magomed Ozdoev (Zenit), Rifat Zhemaletdinov (Lokomotiv Moskva), Yuri Zhirkov (Zenit), Roman Zobnin (Spartak Moskva)',\n",
       "  'Forwards': ' Artem Dzyuba (Zenit), Aleksei Ionov (Krasnodar), Denis Makarov (Rubin), Aleksei Miranchuk (Atalanta), Aleksandr Sobolev (Spartak Moskva), Anton Zabolotny (CSKA Moskva)'},\n",
       " 'Scotland': {'Goalkeepers': ' Craig Gordon (Hearts), David Marshall (Derby), Jon McLaughlin (Rangers)',\n",
       "  'Defenders': \" Liam Cooper (Leeds), Declan Gallagher (Motherwell), Grant Hanley (Norwich), Jack Hendry (Celtic), Scott McKenna (Nottingham Forest), Stephen O'Donnell (Motherwell), Nathan Patterson (Rangers), Andy Robertson (Liverpool), Greg Taylor (Celtic), Kieran Tierney (Arsenal)\",\n",
       "  'Midfielders': ' Stuart Armstrong (Southampton), Ryan Christie (Celtic), John Fleck (Sheffield United), James Forrest (Celtic), Ryan Fraser (Newcastle United), Billy Gilmour (Chelsea), John McGinn (Aston Villa), Callum McGregor (Celtic), Scott McTominay (Manchester United), David Turnbull (Celtic)',\n",
       "  'Forwards': ' Ché Adams (Southampton), Lyndon Dykes (QPR), Kevin Nisbet (Hibernian)'},\n",
       " 'Slovakia': {'Goalkeepers': ' Martin Dúbravka (Newcastle), Dušan Kuciak (Lechia Gdańsk), Marek Rodák (Fulham)',\n",
       "  'Defenders': ' Dávid Hancko (Sparta Praha), Tomáš Hubočan (Omonoia), Martin Koscelník (Liberec), Peter Pekarík (Hertha Berlin), Ľubomír Šatka (Lech Poznań), Milan Škriniar (Inter Milan), Martin Valjent (Mallorca), Denis Vavro (Huesca)',\n",
       "  'Midfielders': ' László Bénes (Augsburg), Ondrej Duda (Köln), Ján Greguš (Minnesota), Marek Hamšík (IFK Göteborg), Lukáš Haraslín (Sassuolo), Jakub Hromada (Slavia Praha), Patrik Hrošovský (Genk), Juraj Kucka (Parma), Stanislav Lobotka (Napoli), Tomáš Suslov (Groningen), Vladimír Weiss (Slovan Bratislava)',\n",
       "  'Forwards': ' Róbert Boženík (Feyenoord), Michal Ďuriš (Omonoia), Róbert Mak (Ferencváros), Ivan Schranz (Jablonec)'},\n",
       " 'Spain': {'Goalkeepers': ' David de Gea (Manchester United), Unai Simón (Athletic), Robert Sánchez (Brighton & Hove Albion)',\n",
       "  'Defenders': ' José Gayà (Valencia), Jordi Alba (Barcelona), Pau Torres (Villarreal), Aymeric Laporte (Manchester City), Eric García (Manchester City), Diego Llorente (Leeds United), César Azpilicueta (Chelsea)',\n",
       "  'Midfielders': ' Thiago Alcántara (Liverpool), Sergio Busquets (Barcelona), Koke (Atlético), Marcos Llorente (Atlético), Dani Olmo (Leipzig), Rodri (Manchester City), Fabián Ruiz (Napoli), Pablo Sarabia (Paris), Ferran Torres (Manchester City), Adama Traoré (Wolves)',\n",
       "  'Forwards': ' Álvaro Morata (Juventus), Gerard Moreno (Villarreal), Mikel Oyarzabal (Real Sociedad), Pedri (Barcelona)'},\n",
       " 'Sweden': {'Goalkeepers': ' Karl-Johan Johnsson (København), Kristoffer Nordfeldt (Gençlerbirliği), Robin Olsen (Everton)',\n",
       "  'Defenders': ' Ludwig Augustinsson (Werder Bremen), Pierre Bengtsson (Vejle), Marcus Danielson (Dalian Yifang), Andreas Granqvist (Helsingborg), Filip Helander (Rangers), Pontus Jansson (Brentford), Emil Krafth (Newcastle United), Victor Lindelöf (Manchester United), Mikael Lustig (AIK)',\n",
       "  'Midfielders': ' Jens-Lys Cajuste (Midtjylland), Viktor Claesson (Krasnodar), Albin Ekdal (Sampdoria), Emil Forsberg (Leipzig), Dejan Kulusevski (Juventus), Sebastian Larsson (AIK), Kristoffer Olsson (Krasnodar), Robin Quaison (Mainz), Ken Sema (Watford), Mattias Svanberg (Bologna), Gustav Svensson (Guangzhou)',\n",
       "  'Forwards': ' Marcus Berg (Krasnodar), Alexander Isak (Real Sociedad), Jordan Larsson (Spartak Moskva)'},\n",
       " 'Switzerland': {'Goalkeepers': ' Yvon Mvogo (PSV), Yann Sommer (Mönchengladbach), Gregor Kobel (Stuttgart)',\n",
       "  'Defenders': ' Manuel Akanji (Dortmund), Loris Benito (Bordeaux), Eray Cömert (Basel), Nico Elvedi (Mönchengladbach), Jordan Lotomba (Nice), Kevin Mbabu (Wolfsburg), Becir Omeragic (Zürich), Ricardo Rodríguez (Torino), Fabian Schär (Newcastle United), Silvan Widmer (Basel)',\n",
       "  'Midfielders': ' Christian Fassnacht (Young Boys), Edimilson Fernandes (Mainz), Remo Freuler (Atalanta), Xherdan Shaqiri (Liverpool), Djibril Sow (Frankfurt), Ruben Vargas (Augsburg), Granit Xhaka (Arsenal), Denis Zakaria (Mönchengladbach), Steven Zuber (Frankfurt)',\n",
       "  'Forwards': ' Breel Embolo (Mönchengladbach), Mario Gavranović (Dinamo Zagreb), Admir Mehmedi (Wolfsburg), Haris Seferović (Benfica)'},\n",
       " 'Turkey': {'Goalkeepers': ' Altay Bayındır (Fenerbahçe), Uğurcan Çakır (Trabzonspor), Mert Günok (İstanbul Başakşehir)',\n",
       "  'Defenders': ' Kaan Ayhan (Sassuolo), Zeki Çelik (LOSC Lille), Merih Demiral (Juventus), Ozan Kabak (Liverpool), Umut Meraş (Le Havre), Mert Müldür (Sassuolo), Çağlar Söyüncü (Leicester), Rıdvan Yılmaz (Beşiktaş)',\n",
       "  'Midfielders': ' Taylan Antalyalı (Galatasaray), Hakan Çalhanoğlu (AC Milan), Halil Dervişoğlu (Brentford), İrfan Can Kahveci (Fenerbahçe), Orkun Kökçü (Feyenoord), Abdülkadir Ömür (Trabzonspor), Dorukhan Toköz (Beşiktaş), Ozan Tufan (Fenerbahçe), Okay Yokuşlu (West Brom)',\n",
       "  'Forwards': ' M. Kerem Aktürkoğlu (Galatasaray), Kenan Karaman (Fortuna Düsseldorf), Enes Ünal (Getafe), Cengiz Ünder (Leicester), Yusuf Yazıcı (LOSC Lille), Burak Yılmaz (LOSC Lille)'},\n",
       " 'Ukraine': {'Goalkeepers': ' Georgiy Bushchan (Dynamo Kyiv), Andriy Pyatov (Shakhtar Donetsk), Anatolii Trubin (Shakhtar Donetsk)',\n",
       "  'Defenders': ' Oleksandr Karavaev (Dynamo Kyiv), Serhiy Kryvtsov (Shakhtar Donetsk), Mykola Matviyenko (Shakhtar Donetsk), Vitaliy Mykolenko (Dynamo Kyiv), Denys Popov (Dynamo Kyiv), Eduard Sobol (Club Brugge), Oleksandr Tymchyk (Dynamo Kyiv), Illia Zabarnyi (Dynamo Kyiv), Oleksandr Zinchenko (Manchester City)',\n",
       "  'Midfielders': ' Roman Bezus (Gent), Yevhen Makarenko (Kortrijk), Ruslan Malinovskyi (Atalanta), Marlos (Shakhtar Donetsk), Mykola Shaparenko (Dynamo Kyiv), Taras Stepanenko (Shakhtar Donetsk), Heorhii Sudakov (Shakhtar Donetsk), Serhiy Sydorchuk (Dynamo Kyiv), Viktor Tsygankov (Dynamo Kyiv)',\n",
       "  'Forwards': ' Artem Besedin (Dynamo Kyiv), Artem Dovbyk (Dnipro-1), Roman Yaremchuk (Gent), Andriy Yarmolenko (West Ham), Oleksandr Zubkov (Ferencváros)'},\n",
       " 'Wales': {'Goalkeepers': ' Adam Davies (Stoke City), Wayne Hennessey (Crystal Palace), Danny Ward (Leicester City)',\n",
       "  'Defenders': ' Ethan Ampadu (Chelsea), Ben Cabango (Swansea City), Ben Davies (Tottenham), Chris Gunter (Charlton Athletic), Tom Lockyer (Luton Town), Chris Mepham (Bournemouth), Rhys Norrington-Davies (Sheffield United), Connor Roberts (Swansea City), Joe Rodon (Tottenham), Neco Williams (Liverpool)',\n",
       "  'Midfielders': ' Joe Allen (Stoke City), David Brooks (Bournemouth), Rubin Colwill (Cardiff City), Daniel James (Manchester United), Dylan Levitt (Manchester United), Joe Morrell (Luton Town), Aaron Ramsey (Juventus), Matthew Smith (Manchester City), Jonny Williams (Cardiff City), Harry Wilson (Liverpool)',\n",
       "  'Forwards': ' Gareth Bale (Real Madrid), Kieffer Moore (Cardiff City), Tyler Roberts (Leeds United)'}}"
      ]
     },
     "execution_count": 163,
     "metadata": {},
     "output_type": "execute_result"
    }
   ],
   "source": [
    "roster"
   ]
  },
  {
   "cell_type": "code",
   "execution_count": 165,
   "id": "03987fb3",
   "metadata": {},
   "outputs": [],
   "source": [
    "with open ('roster.json','w') as outfile:\n",
    "    json.dump(roster, outfile)"
   ]
  },
  {
   "cell_type": "code",
   "execution_count": null,
   "id": "135efa47",
   "metadata": {},
   "outputs": [],
   "source": []
  }
 ],
 "metadata": {
  "kernelspec": {
   "display_name": "Python 3",
   "language": "python",
   "name": "python3"
  },
  "language_info": {
   "codemirror_mode": {
    "name": "ipython",
    "version": 3
   },
   "file_extension": ".py",
   "mimetype": "text/x-python",
   "name": "python",
   "nbconvert_exporter": "python",
   "pygments_lexer": "ipython3",
   "version": "3.9.5"
  },
  "toc": {
   "base_numbering": 1,
   "nav_menu": {},
   "number_sections": true,
   "sideBar": true,
   "skip_h1_title": false,
   "title_cell": "Table of Contents",
   "title_sidebar": "Contents",
   "toc_cell": false,
   "toc_position": {},
   "toc_section_display": true,
   "toc_window_display": false
  }
 },
 "nbformat": 4,
 "nbformat_minor": 5
}
