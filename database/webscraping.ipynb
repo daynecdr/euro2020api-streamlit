{
 "cells": [
  {
   "cell_type": "markdown",
   "id": "48931257",
   "metadata": {},
   "source": [
    "# Web scraping for data\n",
    "the idea here is to get some data from webpages to complement de data sets\n"
   ]
  },
  {
   "cell_type": "code",
   "execution_count": 32,
   "id": "ab698ddc",
   "metadata": {},
   "outputs": [],
   "source": [
    "import requests\n",
    "from bs4 import BeautifulSoup\n",
    "import csv\n",
    "import json"
   ]
  },
  {
   "cell_type": "code",
   "execution_count": 33,
   "id": "20bf2862",
   "metadata": {},
   "outputs": [
    {
     "name": "stdout",
     "output_type": "stream",
     "text": [
      "['Austria', 'Belgium', 'Croatia', 'Czech Republic', 'Denmark', 'England', 'Finland', 'France', 'Germany', 'Hungary', 'Italy', 'Netherlands', 'North Macedonia', 'Poland', 'Portugal', 'Russia', 'Scotland', 'Slovakia', 'Spain', 'Sweden', 'Switzerland', 'Turkey', 'Ukraine', 'Wales']\n"
     ]
    }
   ],
   "source": [
    "url='https://www.uefa.com/uefaeuro-2020/news/0269-12464679fb2e-84fa175e53ca-1000--all-the-euro-2020-squads/'\n",
    "    \n",
    "res=requests.get(url)\n",
    "\n",
    "soup = BeautifulSoup(res.text)\n",
    "\n",
    "\n",
    "a=soup.select(\"a b\",class_=\"accordion-container accordion\")\n",
    "columns=[]\n",
    "for data in a:\n",
    "    columns.append(data.text)\n",
    "print(columns)"
   ]
  },
  {
   "cell_type": "code",
   "execution_count": 42,
   "id": "b01cb11f",
   "metadata": {},
   "outputs": [],
   "source": [
    "players=[]\n",
    "match=soup.find_all('div',class_=\"accordion-container accordion\")\n",
    "for e in match:\n",
    "    #print(e.get_text(),'\\n')\n",
    "     players.append(e.get_text())\n",
    "    \n",
    "#     print(e.get_text(),'\\n')\n"
   ]
  },
  {
   "cell_type": "code",
   "execution_count": 45,
   "id": "b7ada2ef",
   "metadata": {},
   "outputs": [],
   "source": [
    "players=[[e.get_text().replace('\\ufeff','')] for e in match]\n"
   ]
  },
  {
   "cell_type": "code",
   "execution_count": 46,
   "id": "9a4ba77f",
   "metadata": {},
   "outputs": [],
   "source": [
    "#res = dict(zip(listK, listV))\n",
    "\n",
    "roster_dic= dict(zip(columns,players))"
   ]
  },
  {
   "cell_type": "code",
   "execution_count": 6,
   "id": "99d0be3a",
   "metadata": {},
   "outputs": [
    {
     "name": "stdout",
     "output_type": "stream",
     "text": [
      "<class 'dict'>\n"
     ]
    }
   ],
   "source": [
    "\n",
    "\n",
    "        \n",
    "print(type(roster_dic))"
   ]
  },
  {
   "cell_type": "code",
   "execution_count": 31,
   "id": "43fdcadc",
   "metadata": {},
   "outputs": [],
   "source": [
    "\n",
    "# for v in roster_dic.values():\n",
    "#     for t in columns:\n",
    "#         if t in v:\n",
    "#             v.replace(t,'')\n",
    "#result = { k: 1.1 * v for k, v in h.items() }"
   ]
  },
  {
   "cell_type": "code",
   "execution_count": 7,
   "id": "91725a64",
   "metadata": {},
   "outputs": [],
   "source": [
    "# with open('teams_db.csv', 'w') as csvfile:\n",
    "#     writer = csv.DictWriter(csvfile, fieldnames = columns)\n",
    "#     writer.writeheader()\n",
    "#     writer.writerows(roster_dic)"
   ]
  },
  {
   "cell_type": "code",
   "execution_count": 47,
   "id": "03987fb3",
   "metadata": {},
   "outputs": [],
   "source": [
    "with open ('roster.json','w') as outfile:\n",
    "    json.dump(roster_dic, outfile)"
   ]
  },
  {
   "cell_type": "code",
   "execution_count": null,
   "id": "13860a90",
   "metadata": {},
   "outputs": [],
   "source": []
  },
  {
   "cell_type": "code",
   "execution_count": null,
   "id": "135efa47",
   "metadata": {},
   "outputs": [],
   "source": []
  }
 ],
 "metadata": {
  "kernelspec": {
   "display_name": "Python 3",
   "language": "python",
   "name": "python3"
  },
  "language_info": {
   "codemirror_mode": {
    "name": "ipython",
    "version": 3
   },
   "file_extension": ".py",
   "mimetype": "text/x-python",
   "name": "python",
   "nbconvert_exporter": "python",
   "pygments_lexer": "ipython3",
   "version": "3.9.5"
  },
  "toc": {
   "base_numbering": 1,
   "nav_menu": {},
   "number_sections": true,
   "sideBar": true,
   "skip_h1_title": false,
   "title_cell": "Table of Contents",
   "title_sidebar": "Contents",
   "toc_cell": false,
   "toc_position": {},
   "toc_section_display": true,
   "toc_window_display": false
  }
 },
 "nbformat": 4,
 "nbformat_minor": 5
}
