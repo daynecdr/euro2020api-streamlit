{
 "cells": [
  {
   "cell_type": "markdown",
   "id": "74dc2911",
   "metadata": {},
   "source": [
    "## Here is a sample of how to do queries that use dollar sign operations"
   ]
  },
  {
   "cell_type": "code",
   "execution_count": 1,
   "id": "00ecd9f3",
   "metadata": {},
   "outputs": [],
   "source": [
    "import requests"
   ]
  },
  {
   "cell_type": "code",
   "execution_count": 6,
   "id": "54bd1ce7",
   "metadata": {},
   "outputs": [],
   "source": [
    "url= 'http://192.168.1.44:8080/players'"
   ]
  },
  {
   "cell_type": "code",
   "execution_count": 47,
   "id": "d2d6d821",
   "metadata": {},
   "outputs": [
    {
     "data": {
      "text/plain": [
       "[{'_id': {'$oid': '611312abd7c5ae7652eb3631'},\n",
       "  'name': 'Kevin De Bruyne',\n",
       "  'nationality': 'Belgium',\n",
       "  'position': 'CM|CAM',\n",
       "  'overall': 91,\n",
       "  'age': 29,\n",
       "  'potential': 91,\n",
       "  'team': 'Manchester City '},\n",
       " {'_id': {'$oid': '611312abd7c5ae7652eb3633'},\n",
       "  'name': 'Eden Hazard',\n",
       "  'nationality': 'Belgium',\n",
       "  'position': 'ST|LW',\n",
       "  'overall': 91,\n",
       "  'age': 29,\n",
       "  'potential': 91,\n",
       "  'team': 'Real Madrid '},\n",
       " {'_id': {'$oid': '611312abd7c5ae7652eb371f'},\n",
       "  'name': 'Robert Lewandowski',\n",
       "  'nationality': 'Poland',\n",
       "  'position': 'ST',\n",
       "  'overall': 91,\n",
       "  'age': 31,\n",
       "  'potential': 91,\n",
       "  'team': 'FC Bayern München '}]"
      ]
     },
     "execution_count": 47,
     "metadata": {},
     "output_type": "execute_result"
    }
   ],
   "source": [
    "#simple queries work like usual, also through the url\n",
    "params={'overall':91}\n",
    "requests.get(url,params).json()"
   ]
  },
  {
   "cell_type": "code",
   "execution_count": 41,
   "id": "fdd6d378",
   "metadata": {},
   "outputs": [
    {
     "data": {
      "text/plain": [
       "{'error': '$and must be an array, full error: {\\'operationTime\\': Timestamp(1628773408, 1), \\'ok\\': 0.0, \\'errmsg\\': \\'$and must be an array\\', \\'code\\': 2, \\'codeName\\': \\'BadValue\\', \\'$clusterTime\\': {\\'clusterTime\\': Timestamp(1628773408, 1), \\'signature\\': {\\'hash\\': b\\'\\\\x10\\\\xd6\\\\xba1\\\\x84\\\\x17A\\\\xce\\\\xfbl0\\\\xde\\\\x99L\\\\xf8\\\\x90V\"\\\\x06\\\\xfb\\', \\'keyId\\': 6952548898187509761}}}'}"
      ]
     },
     "execution_count": 41,
     "metadata": {},
     "output_type": "execute_result"
    }
   ],
   "source": [
    "#using the $ operator, errors will come\n",
    "params={'$and':[{'overall':91},{'nationality':'Belgium'}]}\n",
    "requests.get(url,params).json()"
   ]
  },
  {
   "cell_type": "markdown",
   "id": "e23ee345",
   "metadata": {},
   "source": [
    "## The solution is to do queries as follows:\n",
    "#### credits go to CORE CODE SCHOOL and their excellent staff"
   ]
  },
  {
   "cell_type": "code",
   "execution_count": 26,
   "id": "47247e52",
   "metadata": {},
   "outputs": [],
   "source": [
    "q= {\"mongo_query\": '''\n",
    "        {\"overall\":{\"$gt\":89}}\n",
    "'''}\n",
    "res=requests.get(url,params=q)"
   ]
  },
  {
   "cell_type": "code",
   "execution_count": 28,
   "id": "48ebb1d7",
   "metadata": {},
   "outputs": [
    {
     "data": {
      "text/plain": [
       "[{'_id': {'$oid': '611312abd7c5ae7652eb3631'},\n",
       "  'name': 'Kevin De Bruyne',\n",
       "  'nationality': 'Belgium',\n",
       "  'position': 'CM|CAM',\n",
       "  'overall': 91,\n",
       "  'age': 29,\n",
       "  'potential': 91,\n",
       "  'team': 'Manchester City '},\n",
       " {'_id': {'$oid': '611312abd7c5ae7652eb3633'},\n",
       "  'name': 'Eden Hazard',\n",
       "  'nationality': 'Belgium',\n",
       "  'position': 'ST|LW',\n",
       "  'overall': 91,\n",
       "  'age': 29,\n",
       "  'potential': 91,\n",
       "  'team': 'Real Madrid '},\n",
       " {'_id': {'$oid': '611312abd7c5ae7652eb371f'},\n",
       "  'name': 'Robert Lewandowski',\n",
       "  'nationality': 'Poland',\n",
       "  'position': 'ST',\n",
       "  'overall': 91,\n",
       "  'age': 31,\n",
       "  'potential': 91,\n",
       "  'team': 'FC Bayern München '},\n",
       " {'_id': {'$oid': '611312abd7c5ae7652eb3737'},\n",
       "  'name': 'Cristiano Ronaldo',\n",
       "  'nationality': 'Portugal',\n",
       "  'position': 'ST|LW',\n",
       "  'overall': 93,\n",
       "  'age': 35,\n",
       "  'potential': 93,\n",
       "  'team': 'Juventus '}]"
      ]
     },
     "execution_count": 28,
     "metadata": {},
     "output_type": "execute_result"
    }
   ],
   "source": [
    "res.json()"
   ]
  },
  {
   "cell_type": "code",
   "execution_count": 72,
   "id": "7be73e70",
   "metadata": {},
   "outputs": [],
   "source": [
    "q2= {\"mongo_query\": '''\n",
    "        {\"$and\":[{\"overall\":91},{\"nationality\":\"Belgium\"}]}\n",
    "'''}\n",
    "res=requests.get(url,params=q2)"
   ]
  },
  {
   "cell_type": "code",
   "execution_count": 73,
   "id": "a4d3be78",
   "metadata": {},
   "outputs": [
    {
     "data": {
      "text/plain": [
       "[{'_id': {'$oid': '611312abd7c5ae7652eb3631'},\n",
       "  'name': 'Kevin De Bruyne',\n",
       "  'nationality': 'Belgium',\n",
       "  'position': 'CM|CAM',\n",
       "  'overall': 91,\n",
       "  'age': 29,\n",
       "  'potential': 91,\n",
       "  'team': 'Manchester City '},\n",
       " {'_id': {'$oid': '611312abd7c5ae7652eb3633'},\n",
       "  'name': 'Eden Hazard',\n",
       "  'nationality': 'Belgium',\n",
       "  'position': 'ST|LW',\n",
       "  'overall': 91,\n",
       "  'age': 29,\n",
       "  'potential': 91,\n",
       "  'team': 'Real Madrid '}]"
      ]
     },
     "execution_count": 73,
     "metadata": {},
     "output_type": "execute_result"
    }
   ],
   "source": [
    "res.json()"
   ]
  },
  {
   "cell_type": "markdown",
   "id": "ebc04883",
   "metadata": {},
   "source": [
    "### Use double braces '{{' to use f-strings"
   ]
  },
  {
   "cell_type": "code",
   "execution_count": 78,
   "id": "0ee6cdb3",
   "metadata": {},
   "outputs": [],
   "source": [
    "variable=91\n",
    "q3={\"mongo_query\": f'{{\"$and\":[{{\"overall\":{variable} }},{{\"nationality\":\"Belgium\"}}]}}'}\n",
    "res=requests.get(url,params=q3)"
   ]
  },
  {
   "cell_type": "code",
   "execution_count": 79,
   "id": "a69dd214",
   "metadata": {},
   "outputs": [
    {
     "data": {
      "text/plain": [
       "[{'_id': {'$oid': '611312abd7c5ae7652eb3631'},\n",
       "  'name': 'Kevin De Bruyne',\n",
       "  'nationality': 'Belgium',\n",
       "  'position': 'CM|CAM',\n",
       "  'overall': 91,\n",
       "  'age': 29,\n",
       "  'potential': 91,\n",
       "  'team': 'Manchester City '},\n",
       " {'_id': {'$oid': '611312abd7c5ae7652eb3633'},\n",
       "  'name': 'Eden Hazard',\n",
       "  'nationality': 'Belgium',\n",
       "  'position': 'ST|LW',\n",
       "  'overall': 91,\n",
       "  'age': 29,\n",
       "  'potential': 91,\n",
       "  'team': 'Real Madrid '}]"
      ]
     },
     "execution_count": 79,
     "metadata": {},
     "output_type": "execute_result"
    }
   ],
   "source": [
    "res.json()"
   ]
  }
 ],
 "metadata": {
  "kernelspec": {
   "display_name": "Python 3",
   "language": "python",
   "name": "python3"
  },
  "language_info": {
   "codemirror_mode": {
    "name": "ipython",
    "version": 3
   },
   "file_extension": ".py",
   "mimetype": "text/x-python",
   "name": "python",
   "nbconvert_exporter": "python",
   "pygments_lexer": "ipython3",
   "version": "3.9.5"
  },
  "toc": {
   "base_numbering": 1,
   "nav_menu": {},
   "number_sections": true,
   "sideBar": true,
   "skip_h1_title": false,
   "title_cell": "Table of Contents",
   "title_sidebar": "Contents",
   "toc_cell": false,
   "toc_position": {},
   "toc_section_display": true,
   "toc_window_display": false
  }
 },
 "nbformat": 4,
 "nbformat_minor": 5
}
